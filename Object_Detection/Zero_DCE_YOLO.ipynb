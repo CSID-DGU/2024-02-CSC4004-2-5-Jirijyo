{
  "nbformat": 4,
  "nbformat_minor": 0,
  "metadata": {
    "colab": {
      "provenance": []
    },
    "kernelspec": {
      "name": "python3",
      "display_name": "Python 3"
    },
    "language_info": {
      "name": "python"
    }
  },
  "cells": [
    {
      "cell_type": "markdown",
      "source": [
        "# **yaml 작성**\n",
        "\n",
        "*   data_origin.yaml\n",
        "*   data_enhanced_moderate.yaml\n",
        "*   data_enhanced_severe.yaml\n",
        "*   data_enhanced_extreme.yaml\n",
        "\n",
        "\n",
        "\n"
      ],
      "metadata": {
        "id": "jvEvHmAHs3wl"
      }
    },
    {
      "cell_type": "code",
      "source": [
        "# data_origin.yaml 파일 작성\n",
        "yaml_content = \"\"\"\n",
        "train: /content/drive/MyDrive/CCTV-People-Dataset/train/images\n",
        "val: /content/drive/MyDrive/CCTV-People-Dataset/valid/images\n",
        "test: ../test/images\n",
        "\n",
        "nc: 1\n",
        "names: ['Human pose estimation']\n",
        "\n",
        "roboflow:\n",
        "  workspace: project-wk4fq\n",
        "  project: cctv-people\n",
        "  version: 1\n",
        "  license: CC BY 4.0\n",
        "  url: https://universe.roboflow.com/project-wk4fq/cctv-people/dataset/1\n",
        "\"\"\"\n",
        "\n",
        "# 파일 저장\n",
        "with open('/content/drive/MyDrive/CCTV-People-Dataset/data_origin.yaml', 'w') as f:\n",
        "    f.write(yaml_content)\n",
        "\n",
        "# 저장된 파일 확인\n",
        "!cat /content/drive/MyDrive/CCTV-People-Dataset/data_origin.yaml"
      ],
      "metadata": {
        "colab": {
          "base_uri": "https://localhost:8080/"
        },
        "id": "3OGd9gShs98l",
        "outputId": "482d5606-30dd-4e52-90eb-e4f26dc1d5b0"
      },
      "execution_count": null,
      "outputs": [
        {
          "output_type": "stream",
          "name": "stdout",
          "text": [
            "\n",
            "train: /content/drive/MyDrive/CCTV-People-Dataset/train/images\n",
            "val: /content/drive/MyDrive/CCTV-People-Dataset/valid/images\n",
            "test: ../test/images\n",
            "\n",
            "nc: 1\n",
            "names: ['Human pose estimation']\n",
            "\n",
            "roboflow:\n",
            "  workspace: project-wk4fq\n",
            "  project: cctv-people\n",
            "  version: 1\n",
            "  license: CC BY 4.0\n",
            "  url: https://universe.roboflow.com/project-wk4fq/cctv-people/dataset/1\n"
          ]
        }
      ]
    },
    {
      "cell_type": "code",
      "source": [
        "# data_enhanced_moderate.yaml 파일 작성\n",
        "yaml_content = \"\"\"\n",
        "train: /content/drive/MyDrive/CCTV-People-Dataset/train/Low_Brightness_Moderate/enhanced/images\n",
        "val: /content/drive/MyDrive/CCTV-People-Dataset/valid/Low_Brightness_Moderate/enhanced/images\n",
        "test: ../test/images\n",
        "\n",
        "nc: 1\n",
        "names: ['Human pose estimation']\n",
        "\n",
        "roboflow:\n",
        "  workspace: project-wk4fq\n",
        "  project: cctv-people\n",
        "  version: 1\n",
        "  license: CC BY 4.0\n",
        "  url: https://universe.roboflow.com/project-wk4fq/cctv-people/dataset/1\n",
        "\"\"\"\n",
        "\n",
        "# 파일 저장\n",
        "with open('/content/drive/MyDrive/CCTV-People-Dataset/data_enhanced_moderate.yaml', 'w') as f:\n",
        "    f.write(yaml_content)\n",
        "\n",
        "# 저장된 파일 확인\n",
        "!cat /content/drive/MyDrive/CCTV-People-Dataset/data_enhanced_moderate.yaml"
      ],
      "metadata": {
        "colab": {
          "base_uri": "https://localhost:8080/"
        },
        "id": "Gu8_7eOXHC8u",
        "outputId": "15f25cb5-3187-4a73-9f64-3bb396cf0c19"
      },
      "execution_count": null,
      "outputs": [
        {
          "output_type": "stream",
          "name": "stdout",
          "text": [
            "\n",
            "train: /content/drive/MyDrive/CCTV-People-Dataset/train/Low_Brightness_Moderate/enhanced/images\n",
            "val: /content/drive/MyDrive/CCTV-People-Dataset/valid/Low_Brightness_Moderate/enhanced/images\n",
            "test: ../test/images\n",
            "\n",
            "nc: 1\n",
            "names: ['Human pose estimation']\n",
            "\n",
            "roboflow:\n",
            "  workspace: project-wk4fq\n",
            "  project: cctv-people\n",
            "  version: 1\n",
            "  license: CC BY 4.0\n",
            "  url: https://universe.roboflow.com/project-wk4fq/cctv-people/dataset/1\n"
          ]
        }
      ]
    },
    {
      "cell_type": "code",
      "source": [
        "# data_enhanced_severe.yaml 파일 작성\n",
        "yaml_content = \"\"\"\n",
        "train: /content/drive/MyDrive/CCTV-People-Dataset/train/Low_Brightness_Severe/enhanced/images\n",
        "val: /content/drive/MyDrive/CCTV-People-Dataset/valid/Low_Brightness_Severe/enhanced/images\n",
        "test: ../test/images\n",
        "\n",
        "nc: 1\n",
        "names: ['Human pose estimation']\n",
        "\n",
        "roboflow:\n",
        "  workspace: project-wk4fq\n",
        "  project: cctv-people\n",
        "  version: 1\n",
        "  license: CC BY 4.0\n",
        "  url: https://universe.roboflow.com/project-wk4fq/cctv-people/dataset/1\n",
        "\"\"\"\n",
        "\n",
        "# 파일 저장\n",
        "with open('/content/drive/MyDrive/CCTV-People-Dataset/data_enhanced_severe.yaml', 'w') as f:\n",
        "    f.write(yaml_content)\n",
        "\n",
        "# 저장된 파일 확인\n",
        "!cat /content/drive/MyDrive/CCTV-People-Dataset/data_enhanced_severe.yaml"
      ],
      "metadata": {
        "colab": {
          "base_uri": "https://localhost:8080/"
        },
        "id": "v84zNK9lHcP6",
        "outputId": "0f302363-2738-4b84-957a-23e7937e55fe"
      },
      "execution_count": null,
      "outputs": [
        {
          "output_type": "stream",
          "name": "stdout",
          "text": [
            "\n",
            "train: /content/drive/MyDrive/CCTV-People-Dataset/train/Low_Brightness_Severe/enhanced/images\n",
            "val: /content/drive/MyDrive/CCTV-People-Dataset/valid/Low_Brightness_Severe/enhanced/images\n",
            "test: ../test/images\n",
            "\n",
            "nc: 1\n",
            "names: ['Human pose estimation']\n",
            "\n",
            "roboflow:\n",
            "  workspace: project-wk4fq\n",
            "  project: cctv-people\n",
            "  version: 1\n",
            "  license: CC BY 4.0\n",
            "  url: https://universe.roboflow.com/project-wk4fq/cctv-people/dataset/1\n"
          ]
        }
      ]
    },
    {
      "cell_type": "code",
      "source": [
        "# data_enhanced_extreme.yaml 파일 작성\n",
        "yaml_content = \"\"\"\n",
        "train: /content/drive/MyDrive/CCTV-People-Dataset/train/Low_Brightness_Extreme/enhanced/images\n",
        "val: /content/drive/MyDrive/CCTV-People-Dataset/valid/Low_Brightness_Extreme/enhanced/images\n",
        "test: ../test/images\n",
        "\n",
        "nc: 1\n",
        "names: ['Human pose estimation']\n",
        "\n",
        "roboflow:\n",
        "  workspace: project-wk4fq\n",
        "  project: cctv-people\n",
        "  version: 1\n",
        "  license: CC BY 4.0\n",
        "  url: https://universe.roboflow.com/project-wk4fq/cctv-people/dataset/1\n",
        "\"\"\"\n",
        "\n",
        "# 파일 저장\n",
        "with open('/content/drive/MyDrive/CCTV-People-Dataset/data_enhanced_extreme.yaml', 'w') as f:\n",
        "    f.write(yaml_content)\n",
        "\n",
        "# 저장된 파일 확인\n",
        "!cat /content/drive/MyDrive/CCTV-People-Dataset/data_enhanced_extreme.yaml"
      ],
      "metadata": {
        "colab": {
          "base_uri": "https://localhost:8080/"
        },
        "id": "ahskE4CdHlH8",
        "outputId": "2f6a3c65-8dc2-46af-9831-d5412fa5c4ad"
      },
      "execution_count": null,
      "outputs": [
        {
          "output_type": "stream",
          "name": "stdout",
          "text": [
            "\n",
            "train: /content/drive/MyDrive/CCTV-People-Dataset/train/Low_Brightness_Extreme/enhanced/images\n",
            "val: /content/drive/MyDrive/CCTV-People-Dataset/valid/Low_Brightness_Extreme/enhanced/images\n",
            "test: ../test/images\n",
            "\n",
            "nc: 1\n",
            "names: ['Human pose estimation']\n",
            "\n",
            "roboflow:\n",
            "  workspace: project-wk4fq\n",
            "  project: cctv-people\n",
            "  version: 1\n",
            "  license: CC BY 4.0\n",
            "  url: https://universe.roboflow.com/project-wk4fq/cctv-people/dataset/1\n"
          ]
        }
      ]
    },
    {
      "cell_type": "markdown",
      "source": [
        "# **yolo**"
      ],
      "metadata": {
        "id": "7eXyR016vE7I"
      }
    },
    {
      "cell_type": "markdown",
      "source": [
        "**train**"
      ],
      "metadata": {
        "id": "OqF_HtgRLz_W"
      }
    },
    {
      "cell_type": "code",
      "source": [
        "%pip install ultralytics\n",
        "import ultralytics\n",
        "ultralytics.checks()"
      ],
      "metadata": {
        "colab": {
          "base_uri": "https://localhost:8080/"
        },
        "id": "4peng09RqOvL",
        "outputId": "899b4a38-3a45-4f2b-cd97-abef64059591"
      },
      "execution_count": null,
      "outputs": [
        {
          "output_type": "stream",
          "name": "stdout",
          "text": [
            "Ultralytics 8.3.39 🚀 Python-3.10.12 torch-2.5.1+cu121 CPU (Intel Xeon 2.20GHz)\n",
            "Setup complete ✅ (2 CPUs, 12.7 GB RAM, 32.6/107.7 GB disk)\n"
          ]
        }
      ]
    },
    {
      "cell_type": "code",
      "source": [
        "import os\n",
        "import shutil\n",
        "\n",
        "# 원본 라벨 폴더\n",
        "labels_folder = \"/content/drive/MyDrive/CCTV-People-Dataset/train/labels\"\n",
        "\n",
        "# 저조도 개선 이미지 폴더들\n",
        "low_brightness_folders = [\n",
        "    \"/content/drive/MyDrive/CCTV-People-Dataset/train/Low_Brightness_Moderate/enhanced\",\n",
        "    \"/content/drive/MyDrive/CCTV-People-Dataset/train/Low_Brightness_Severe/enhanced\",\n",
        "    \"/content/drive/MyDrive/CCTV-People-Dataset/train/Low_Brightness_Extreme/enhanced\",\n",
        "]\n",
        "\n",
        "# 각 저조도 폴더에 라벨 복사\n",
        "for folder in low_brightness_folders:\n",
        "    images_folder = os.path.join(folder, \"images\")\n",
        "    labels_output_folder = os.path.join(folder, \"labels\")\n",
        "\n",
        "    # 라벨 저장 폴더가 없으면 생성\n",
        "    os.makedirs(labels_output_folder, exist_ok=True)\n",
        "\n",
        "    # 이미지 파일 이름에 맞는 라벨 복사\n",
        "    for image_file in os.listdir(images_folder):\n",
        "        if image_file.endswith(\".jpg\"):  # 이미지 파일만 처리\n",
        "            label_file = image_file.replace(\".jpg\", \".txt\")  # 라벨 파일 이름\n",
        "            src_label_path = os.path.join(labels_folder, label_file)\n",
        "            dst_label_path = os.path.join(labels_output_folder, label_file)\n",
        "\n",
        "            # 라벨 파일 복사\n",
        "            if os.path.exists(src_label_path):\n",
        "                shutil.copy(src_label_path, dst_label_path)\n",
        "            else:\n",
        "                print(f\"Label not found for {image_file}\")"
      ],
      "metadata": {
        "id": "TJYTYNYxKVf-"
      },
      "execution_count": null,
      "outputs": []
    },
    {
      "cell_type": "code",
      "source": [
        "import os\n",
        "import shutil\n",
        "\n",
        "# 원본 라벨 폴더\n",
        "labels_folder = \"/content/drive/MyDrive/CCTV-People-Dataset/valid/labels\"\n",
        "\n",
        "# 저조도 개선 이미지 폴더들\n",
        "low_brightness_folders = [\n",
        "    \"/content/drive/MyDrive/CCTV-People-Dataset/valid/Low_Brightness_Moderate/enhanced\",\n",
        "    \"/content/drive/MyDrive/CCTV-People-Dataset/valid/Low_Brightness_Severe/enhanced\",\n",
        "    \"/content/drive/MyDrive/CCTV-People-Dataset/valid/Low_Brightness_Extreme/enhanced\",\n",
        "]\n",
        "\n",
        "# 각 저조도 폴더에 라벨 복사\n",
        "for folder in low_brightness_folders:\n",
        "    images_folder = os.path.join(folder, \"images\")\n",
        "    labels_output_folder = os.path.join(folder, \"labels\")\n",
        "\n",
        "    # 라벨 저장 폴더가 없으면 생성\n",
        "    os.makedirs(labels_output_folder, exist_ok=True)\n",
        "\n",
        "    # 이미지 파일 이름에 맞는 라벨 복사\n",
        "    for image_file in os.listdir(images_folder):\n",
        "        if image_file.endswith(\".jpg\"):  # 이미지 파일만 처리\n",
        "            label_file = image_file.replace(\".jpg\", \".txt\")  # 라벨 파일 이름\n",
        "            src_label_path = os.path.join(labels_folder, label_file)\n",
        "            dst_label_path = os.path.join(labels_output_folder, label_file)\n",
        "\n",
        "            # 라벨 파일 복사\n",
        "            if os.path.exists(src_label_path):\n",
        "                shutil.copy(src_label_path, dst_label_path)\n",
        "            else:\n",
        "                print(f\"Label not found for {image_file}\")"
      ],
      "metadata": {
        "id": "DBpSAC6BEIQP"
      },
      "execution_count": null,
      "outputs": []
    },
    {
      "cell_type": "code",
      "source": [
        "# 중간 저조도 개선 데이터로 학습\n",
        "!yolo train model=yolo11n.pt \\\n",
        "          data=/content/drive/MyDrive/CCTV-People-Dataset/data_enhanced_moderate.yaml \\\n",
        "          epochs=25 \\\n",
        "          imgsz=640 \\\n",
        "          batch=16 \\\n",
        "          save_period=5 \\\n",
        "          lr0=0.001 \\\n",
        "          optimizer=auto \\\n",
        "          project=/content/drive/MyDrive/CCTV-People-Dataset/runs/train \\\n",
        "          name=zerodce_moderate"
      ],
      "metadata": {
        "colab": {
          "base_uri": "https://localhost:8080/"
        },
        "outputId": "a02baf7b-59c5-4839-b589-ac4e8e2f67ff",
        "id": "8s6DNOAzIkNN"
      },
      "execution_count": null,
      "outputs": [
        {
          "output_type": "stream",
          "name": "stdout",
          "text": [
            "Ultralytics 8.3.40 🚀 Python-3.10.12 torch-2.5.1+cu121 CUDA:0 (Tesla T4, 15102MiB)\n",
            "\u001b[34m\u001b[1mengine/trainer: \u001b[0mtask=detect, mode=train, model=yolo11n.pt, data=/content/drive/MyDrive/CCTV-People-Dataset/data_enhanced_moderate.yaml, epochs=25, time=None, patience=100, batch=16, imgsz=640, save=True, save_period=5, cache=False, device=None, workers=8, project=/content/drive/MyDrive/CCTV-People-Dataset/runs/train, name=zerodce_moderate, exist_ok=False, pretrained=True, optimizer=auto, verbose=True, seed=0, deterministic=True, single_cls=False, rect=False, cos_lr=False, close_mosaic=10, resume=False, amp=True, fraction=1.0, profile=False, freeze=None, multi_scale=False, overlap_mask=True, mask_ratio=4, dropout=0.0, val=True, split=val, save_json=False, save_hybrid=False, conf=None, iou=0.7, max_det=300, half=False, dnn=False, plots=True, source=None, vid_stride=1, stream_buffer=False, visualize=False, augment=False, agnostic_nms=False, classes=None, retina_masks=False, embed=None, show=False, save_frames=False, save_txt=False, save_conf=False, save_crop=False, show_labels=True, show_conf=True, show_boxes=True, line_width=None, format=torchscript, keras=False, optimize=False, int8=False, dynamic=False, simplify=True, opset=None, workspace=None, nms=False, lr0=0.001, lrf=0.01, momentum=0.937, weight_decay=0.0005, warmup_epochs=3.0, warmup_momentum=0.8, warmup_bias_lr=0.1, box=7.5, cls=0.5, dfl=1.5, pose=12.0, kobj=1.0, nbs=64, hsv_h=0.015, hsv_s=0.7, hsv_v=0.4, degrees=0.0, translate=0.1, scale=0.5, shear=0.0, perspective=0.0, flipud=0.0, fliplr=0.5, bgr=0.0, mosaic=1.0, mixup=0.0, copy_paste=0.0, copy_paste_mode=flip, auto_augment=randaugment, erasing=0.4, crop_fraction=1.0, cfg=None, tracker=botsort.yaml, save_dir=/content/drive/MyDrive/CCTV-People-Dataset/runs/train/zerodce_moderate\n",
            "Overriding model.yaml nc=80 with nc=1\n",
            "\n",
            "                   from  n    params  module                                       arguments                     \n",
            "  0                  -1  1       464  ultralytics.nn.modules.conv.Conv             [3, 16, 3, 2]                 \n",
            "  1                  -1  1      4672  ultralytics.nn.modules.conv.Conv             [16, 32, 3, 2]                \n",
            "  2                  -1  1      6640  ultralytics.nn.modules.block.C3k2            [32, 64, 1, False, 0.25]      \n",
            "  3                  -1  1     36992  ultralytics.nn.modules.conv.Conv             [64, 64, 3, 2]                \n",
            "  4                  -1  1     26080  ultralytics.nn.modules.block.C3k2            [64, 128, 1, False, 0.25]     \n",
            "  5                  -1  1    147712  ultralytics.nn.modules.conv.Conv             [128, 128, 3, 2]              \n",
            "  6                  -1  1     87040  ultralytics.nn.modules.block.C3k2            [128, 128, 1, True]           \n",
            "  7                  -1  1    295424  ultralytics.nn.modules.conv.Conv             [128, 256, 3, 2]              \n",
            "  8                  -1  1    346112  ultralytics.nn.modules.block.C3k2            [256, 256, 1, True]           \n",
            "  9                  -1  1    164608  ultralytics.nn.modules.block.SPPF            [256, 256, 5]                 \n",
            " 10                  -1  1    249728  ultralytics.nn.modules.block.C2PSA           [256, 256, 1]                 \n",
            " 11                  -1  1         0  torch.nn.modules.upsampling.Upsample         [None, 2, 'nearest']          \n",
            " 12             [-1, 6]  1         0  ultralytics.nn.modules.conv.Concat           [1]                           \n",
            " 13                  -1  1    111296  ultralytics.nn.modules.block.C3k2            [384, 128, 1, False]          \n",
            " 14                  -1  1         0  torch.nn.modules.upsampling.Upsample         [None, 2, 'nearest']          \n",
            " 15             [-1, 4]  1         0  ultralytics.nn.modules.conv.Concat           [1]                           \n",
            " 16                  -1  1     32096  ultralytics.nn.modules.block.C3k2            [256, 64, 1, False]           \n",
            " 17                  -1  1     36992  ultralytics.nn.modules.conv.Conv             [64, 64, 3, 2]                \n",
            " 18            [-1, 13]  1         0  ultralytics.nn.modules.conv.Concat           [1]                           \n",
            " 19                  -1  1     86720  ultralytics.nn.modules.block.C3k2            [192, 128, 1, False]          \n",
            " 20                  -1  1    147712  ultralytics.nn.modules.conv.Conv             [128, 128, 3, 2]              \n",
            " 21            [-1, 10]  1         0  ultralytics.nn.modules.conv.Concat           [1]                           \n",
            " 22                  -1  1    378880  ultralytics.nn.modules.block.C3k2            [384, 256, 1, True]           \n",
            " 23        [16, 19, 22]  1    430867  ultralytics.nn.modules.head.Detect           [1, [64, 128, 256]]           \n",
            "YOLO11n summary: 319 layers, 2,590,035 parameters, 2,590,019 gradients, 6.4 GFLOPs\n",
            "\n",
            "Transferred 448/499 items from pretrained weights\n",
            "\u001b[34m\u001b[1mTensorBoard: \u001b[0mStart with 'tensorboard --logdir /content/drive/MyDrive/CCTV-People-Dataset/runs/train/zerodce_moderate', view at http://localhost:6006/\n",
            "Freezing layer 'model.23.dfl.conv.weight'\n",
            "\u001b[34m\u001b[1mAMP: \u001b[0mrunning Automatic Mixed Precision (AMP) checks...\n",
            "\u001b[34m\u001b[1mAMP: \u001b[0mchecks passed ✅\n",
            "\u001b[34m\u001b[1mtrain: \u001b[0mScanning /content/drive/MyDrive/CCTV-People-Dataset/train/Low_Brightness_Moderate/enhanced/labels... 525 images, 0 backgrounds, 0 corrupt: 100% 525/525 [00:06<00:00, 79.55it/s] \n",
            "\u001b[34m\u001b[1mtrain: \u001b[0mNew cache created: /content/drive/MyDrive/CCTV-People-Dataset/train/Low_Brightness_Moderate/enhanced/labels.cache\n",
            "/usr/local/lib/python3.10/dist-packages/albumentations/__init__.py:24: UserWarning: A new version of Albumentations is available: 1.4.21 (you have 1.4.20). Upgrade using: pip install -U albumentations. To disable automatic update checks, set the environment variable NO_ALBUMENTATIONS_UPDATE to 1.\n",
            "  check_for_updates()\n",
            "\u001b[34m\u001b[1malbumentations: \u001b[0mBlur(p=0.01, blur_limit=(3, 7)), MedianBlur(p=0.01, blur_limit=(3, 7)), ToGray(p=0.01, num_output_channels=3, method='weighted_average'), CLAHE(p=0.01, clip_limit=(1.0, 4.0), tile_grid_size=(8, 8))\n",
            "\u001b[34m\u001b[1mval: \u001b[0mScanning /content/drive/MyDrive/CCTV-People-Dataset/valid/Low_Brightness_Moderate/enhanced/labels... 175 images, 0 backgrounds, 0 corrupt: 100% 175/175 [00:03<00:00, 57.02it/s] \n",
            "\u001b[34m\u001b[1mval: \u001b[0mNew cache created: /content/drive/MyDrive/CCTV-People-Dataset/valid/Low_Brightness_Moderate/enhanced/labels.cache\n",
            "Plotting labels to /content/drive/MyDrive/CCTV-People-Dataset/runs/train/zerodce_moderate/labels.jpg... \n",
            "\u001b[34m\u001b[1moptimizer:\u001b[0m 'optimizer=auto' found, ignoring 'lr0=0.001' and 'momentum=0.937' and determining best 'optimizer', 'lr0' and 'momentum' automatically... \n",
            "\u001b[34m\u001b[1moptimizer:\u001b[0m AdamW(lr=0.002, momentum=0.9) with parameter groups 81 weight(decay=0.0), 88 weight(decay=0.0005), 87 bias(decay=0.0)\n",
            "\u001b[34m\u001b[1mTensorBoard: \u001b[0mmodel graph visualization added ✅\n",
            "Image sizes 640 train, 640 val\n",
            "Using 2 dataloader workers\n",
            "Logging results to \u001b[1m/content/drive/MyDrive/CCTV-People-Dataset/runs/train/zerodce_moderate\u001b[0m\n",
            "Starting training for 25 epochs...\n",
            "\n",
            "      Epoch    GPU_mem   box_loss   cls_loss   dfl_loss  Instances       Size\n",
            "       1/25      2.48G      2.153      3.229      1.774         26        640: 100% 33/33 [00:16<00:00,  2.04it/s]\n",
            "                 Class     Images  Instances      Box(P          R      mAP50  mAP50-95): 100% 6/6 [00:04<00:00,  1.32it/s]\n",
            "                   all        175        227    0.00364      0.841     0.0117    0.00481\n",
            "\n",
            "      Epoch    GPU_mem   box_loss   cls_loss   dfl_loss  Instances       Size\n",
            "       2/25      2.36G      2.034      2.772      1.692         21        640: 100% 33/33 [00:12<00:00,  2.68it/s]\n",
            "                 Class     Images  Instances      Box(P          R      mAP50  mAP50-95): 100% 6/6 [00:04<00:00,  1.40it/s]\n",
            "                   all        175        227       0.52     0.0969      0.142     0.0487\n",
            "\n",
            "      Epoch    GPU_mem   box_loss   cls_loss   dfl_loss  Instances       Size\n",
            "       3/25      2.36G      2.058      2.641      1.736         30        640: 100% 33/33 [00:12<00:00,  2.59it/s]\n",
            "                 Class     Images  Instances      Box(P          R      mAP50  mAP50-95): 100% 6/6 [00:02<00:00,  2.43it/s]\n",
            "                   all        175        227      0.282      0.207      0.164     0.0605\n",
            "\n",
            "      Epoch    GPU_mem   box_loss   cls_loss   dfl_loss  Instances       Size\n",
            "       4/25      2.38G       2.03      2.458       1.73         29        640: 100% 33/33 [00:15<00:00,  2.14it/s]\n",
            "                 Class     Images  Instances      Box(P          R      mAP50  mAP50-95): 100% 6/6 [00:02<00:00,  2.33it/s]\n",
            "                   all        175        227    0.00531     0.0132   0.000934   0.000323\n",
            "\n",
            "      Epoch    GPU_mem   box_loss   cls_loss   dfl_loss  Instances       Size\n",
            "       5/25      2.36G      1.976      2.371      1.734         20        640: 100% 33/33 [00:16<00:00,  2.02it/s]\n",
            "                 Class     Images  Instances      Box(P          R      mAP50  mAP50-95): 100% 6/6 [00:02<00:00,  2.37it/s]\n",
            "                   all        175        227      0.119     0.0441     0.0351     0.0149\n",
            "\n",
            "      Epoch    GPU_mem   box_loss   cls_loss   dfl_loss  Instances       Size\n",
            "       6/25      2.39G      1.954      2.177      1.726         27        640: 100% 33/33 [00:16<00:00,  1.99it/s]\n",
            "                 Class     Images  Instances      Box(P          R      mAP50  mAP50-95): 100% 6/6 [00:02<00:00,  2.99it/s]\n",
            "                   all        175        227       0.44      0.467      0.357      0.151\n",
            "\n",
            "      Epoch    GPU_mem   box_loss   cls_loss   dfl_loss  Instances       Size\n",
            "       7/25      2.37G      1.933      2.088      1.663         32        640: 100% 33/33 [00:14<00:00,  2.31it/s]\n",
            "                 Class     Images  Instances      Box(P          R      mAP50  mAP50-95): 100% 6/6 [00:04<00:00,  1.35it/s]\n",
            "                   all        175        227      0.549      0.374      0.396      0.156\n",
            "\n",
            "      Epoch    GPU_mem   box_loss   cls_loss   dfl_loss  Instances       Size\n",
            "       8/25      2.37G      1.943       2.04      1.695         22        640: 100% 33/33 [00:11<00:00,  2.80it/s]\n",
            "                 Class     Images  Instances      Box(P          R      mAP50  mAP50-95): 100% 6/6 [00:03<00:00,  1.50it/s]\n",
            "                   all        175        227      0.604      0.485      0.508      0.219\n",
            "\n",
            "      Epoch    GPU_mem   box_loss   cls_loss   dfl_loss  Instances       Size\n",
            "       9/25      2.36G      1.892      1.988      1.665         27        640: 100% 33/33 [00:12<00:00,  2.55it/s]\n",
            "                 Class     Images  Instances      Box(P          R      mAP50  mAP50-95): 100% 6/6 [00:02<00:00,  2.74it/s]\n",
            "                   all        175        227      0.536      0.498      0.492      0.212\n",
            "\n",
            "      Epoch    GPU_mem   box_loss   cls_loss   dfl_loss  Instances       Size\n",
            "      10/25      2.37G      1.877      1.938      1.643         29        640: 100% 33/33 [00:15<00:00,  2.14it/s]\n",
            "                 Class     Images  Instances      Box(P          R      mAP50  mAP50-95): 100% 6/6 [00:02<00:00,  2.80it/s]\n",
            "                   all        175        227      0.619      0.524      0.572      0.262\n",
            "\n",
            "      Epoch    GPU_mem   box_loss   cls_loss   dfl_loss  Instances       Size\n",
            "      11/25      2.36G       1.81      1.804      1.575         30        640: 100% 33/33 [00:16<00:00,  2.04it/s]\n",
            "                 Class     Images  Instances      Box(P          R      mAP50  mAP50-95): 100% 6/6 [00:02<00:00,  2.63it/s]\n",
            "                   all        175        227      0.683      0.555      0.606      0.274\n",
            "\n",
            "      Epoch    GPU_mem   box_loss   cls_loss   dfl_loss  Instances       Size\n",
            "      12/25      2.36G      1.813      1.729      1.572         24        640: 100% 33/33 [00:15<00:00,  2.09it/s]\n",
            "                 Class     Images  Instances      Box(P          R      mAP50  mAP50-95): 100% 6/6 [00:02<00:00,  2.12it/s]\n",
            "                   all        175        227       0.69      0.559       0.62      0.293\n",
            "\n",
            "      Epoch    GPU_mem   box_loss   cls_loss   dfl_loss  Instances       Size\n",
            "      13/25      2.36G      1.798      1.813      1.595         21        640: 100% 33/33 [00:12<00:00,  2.56it/s]\n",
            "                 Class     Images  Instances      Box(P          R      mAP50  mAP50-95): 100% 6/6 [00:04<00:00,  1.44it/s]\n",
            "                   all        175        227      0.731      0.577      0.627      0.304\n",
            "\n",
            "      Epoch    GPU_mem   box_loss   cls_loss   dfl_loss  Instances       Size\n",
            "      14/25      2.37G      1.748      1.671      1.552         27        640: 100% 33/33 [00:11<00:00,  2.92it/s]\n",
            "                 Class     Images  Instances      Box(P          R      mAP50  mAP50-95): 100% 6/6 [00:03<00:00,  1.82it/s]\n",
            "                   all        175        227      0.805      0.617      0.686      0.347\n",
            "\n",
            "      Epoch    GPU_mem   box_loss   cls_loss   dfl_loss  Instances       Size\n",
            "      15/25      2.36G      1.738       1.58      1.521         20        640: 100% 33/33 [00:13<00:00,  2.44it/s]\n",
            "                 Class     Images  Instances      Box(P          R      mAP50  mAP50-95): 100% 6/6 [00:02<00:00,  2.79it/s]\n",
            "                   all        175        227       0.74      0.576      0.671      0.324\n",
            "Closing dataloader mosaic\n",
            "\u001b[34m\u001b[1malbumentations: \u001b[0mBlur(p=0.01, blur_limit=(3, 7)), MedianBlur(p=0.01, blur_limit=(3, 7)), ToGray(p=0.01, num_output_channels=3, method='weighted_average'), CLAHE(p=0.01, clip_limit=(1.0, 4.0), tile_grid_size=(8, 8))\n",
            "\n",
            "      Epoch    GPU_mem   box_loss   cls_loss   dfl_loss  Instances       Size\n",
            "      16/25      2.43G      1.685      1.607      1.547         17        640: 100% 33/33 [00:17<00:00,  1.91it/s]\n",
            "                 Class     Images  Instances      Box(P          R      mAP50  mAP50-95): 100% 6/6 [00:01<00:00,  3.04it/s]\n",
            "                   all        175        227      0.663      0.546       0.62      0.315\n",
            "\n",
            "      Epoch    GPU_mem   box_loss   cls_loss   dfl_loss  Instances       Size\n",
            "      17/25      2.36G       1.59      1.457      1.485         18        640: 100% 33/33 [00:15<00:00,  2.13it/s]\n",
            "                 Class     Images  Instances      Box(P          R      mAP50  mAP50-95): 100% 6/6 [00:02<00:00,  2.83it/s]\n",
            "                   all        175        227      0.621      0.586      0.648      0.319\n",
            "\n",
            "      Epoch    GPU_mem   box_loss   cls_loss   dfl_loss  Instances       Size\n",
            "      18/25      2.37G      1.587      1.444      1.537         17        640: 100% 33/33 [00:14<00:00,  2.23it/s]\n",
            "                 Class     Images  Instances      Box(P          R      mAP50  mAP50-95): 100% 6/6 [00:02<00:00,  2.92it/s]\n",
            "                   all        175        227        0.7      0.573      0.641      0.317\n",
            "\n",
            "      Epoch    GPU_mem   box_loss   cls_loss   dfl_loss  Instances       Size\n",
            "      19/25      2.36G      1.557      1.349      1.499         19        640: 100% 33/33 [00:12<00:00,  2.54it/s]\n",
            "                 Class     Images  Instances      Box(P          R      mAP50  mAP50-95): 100% 6/6 [00:04<00:00,  1.28it/s]\n",
            "                   all        175        227      0.822      0.586      0.713      0.378\n",
            "\n",
            "      Epoch    GPU_mem   box_loss   cls_loss   dfl_loss  Instances       Size\n",
            "      20/25      2.36G      1.547        1.3      1.461         19        640: 100% 33/33 [00:10<00:00,  3.06it/s]\n",
            "                 Class     Images  Instances      Box(P          R      mAP50  mAP50-95): 100% 6/6 [00:03<00:00,  1.84it/s]\n",
            "                   all        175        227      0.732      0.687      0.739       0.39\n",
            "\n",
            "      Epoch    GPU_mem   box_loss   cls_loss   dfl_loss  Instances       Size\n",
            "      21/25      2.36G      1.501      1.247      1.424         16        640: 100% 33/33 [00:13<00:00,  2.42it/s]\n",
            "                 Class     Images  Instances      Box(P          R      mAP50  mAP50-95): 100% 6/6 [00:02<00:00,  2.72it/s]\n",
            "                   all        175        227      0.846      0.612      0.738      0.405\n",
            "\n",
            "      Epoch    GPU_mem   box_loss   cls_loss   dfl_loss  Instances       Size\n",
            "      22/25      2.37G      1.458      1.195      1.405         16        640: 100% 33/33 [00:16<00:00,  1.98it/s]\n",
            "                 Class     Images  Instances      Box(P          R      mAP50  mAP50-95): 100% 6/6 [00:02<00:00,  2.72it/s]\n",
            "                   all        175        227      0.804      0.687      0.751      0.409\n",
            "\n",
            "      Epoch    GPU_mem   box_loss   cls_loss   dfl_loss  Instances       Size\n",
            "      23/25      2.36G      1.459      1.176       1.41         15        640: 100% 33/33 [00:14<00:00,  2.23it/s]\n",
            "                 Class     Images  Instances      Box(P          R      mAP50  mAP50-95): 100% 6/6 [00:03<00:00,  1.91it/s]\n",
            "                   all        175        227      0.791      0.717      0.768      0.422\n",
            "\n",
            "      Epoch    GPU_mem   box_loss   cls_loss   dfl_loss  Instances       Size\n",
            "      24/25      2.36G       1.39      1.144       1.36         16        640: 100% 33/33 [00:11<00:00,  2.77it/s]\n",
            "                 Class     Images  Instances      Box(P          R      mAP50  mAP50-95): 100% 6/6 [00:04<00:00,  1.31it/s]\n",
            "                   all        175        227      0.816      0.721      0.773      0.429\n",
            "\n",
            "      Epoch    GPU_mem   box_loss   cls_loss   dfl_loss  Instances       Size\n",
            "      25/25      2.36G       1.36      1.119      1.332         15        640: 100% 33/33 [00:11<00:00,  2.89it/s]\n",
            "                 Class     Images  Instances      Box(P          R      mAP50  mAP50-95): 100% 6/6 [00:02<00:00,  2.81it/s]\n",
            "                   all        175        227      0.784      0.714      0.785      0.444\n",
            "\n",
            "25 epochs completed in 0.132 hours.\n",
            "Optimizer stripped from /content/drive/MyDrive/CCTV-People-Dataset/runs/train/zerodce_moderate/weights/last.pt, 5.5MB\n",
            "Optimizer stripped from /content/drive/MyDrive/CCTV-People-Dataset/runs/train/zerodce_moderate/weights/best.pt, 5.5MB\n",
            "\n",
            "Validating /content/drive/MyDrive/CCTV-People-Dataset/runs/train/zerodce_moderate/weights/best.pt...\n",
            "Ultralytics 8.3.40 🚀 Python-3.10.12 torch-2.5.1+cu121 CUDA:0 (Tesla T4, 15102MiB)\n",
            "YOLO11n summary (fused): 238 layers, 2,582,347 parameters, 0 gradients, 6.3 GFLOPs\n",
            "                 Class     Images  Instances      Box(P          R      mAP50  mAP50-95): 100% 6/6 [00:07<00:00,  1.31s/it]\n",
            "                   all        175        227      0.785      0.714      0.785      0.443\n",
            "Speed: 0.4ms preprocess, 5.4ms inference, 0.0ms loss, 10.3ms postprocess per image\n",
            "Results saved to \u001b[1m/content/drive/MyDrive/CCTV-People-Dataset/runs/train/zerodce_moderate\u001b[0m\n",
            "💡 Learn more at https://docs.ultralytics.com/modes/train\n"
          ]
        }
      ]
    },
    {
      "cell_type": "code",
      "source": [
        "# 심한 저조도 개선 데이터로 학습\n",
        "!yolo train model=yolo11n.pt \\\n",
        "          data=/content/drive/MyDrive/CCTV-People-Dataset/data_enhanced_moderate.yaml \\\n",
        "          epochs=25 \\\n",
        "          imgsz=640 \\\n",
        "          batch=16 \\\n",
        "          save_period=5 \\\n",
        "          lr0=0.001 \\\n",
        "          optimizer=auto \\\n",
        "          project=/content/drive/MyDrive/CCTV-People-Dataset/runs/train \\\n",
        "          name=zerodce_severe"
      ],
      "metadata": {
        "colab": {
          "base_uri": "https://localhost:8080/"
        },
        "outputId": "d61ca2af-cd43-43b5-fc51-a77991dbace1",
        "id": "-aEY8Eqyact0"
      },
      "execution_count": null,
      "outputs": [
        {
          "output_type": "stream",
          "name": "stdout",
          "text": [
            "Ultralytics 8.3.40 🚀 Python-3.10.12 torch-2.5.1+cu121 CUDA:0 (Tesla T4, 15102MiB)\n",
            "\u001b[34m\u001b[1mengine/trainer: \u001b[0mtask=detect, mode=train, model=yolo11n.pt, data=/content/drive/MyDrive/CCTV-People-Dataset/data_enhanced_moderate.yaml, epochs=25, time=None, patience=100, batch=16, imgsz=640, save=True, save_period=5, cache=False, device=None, workers=8, project=/content/drive/MyDrive/CCTV-People-Dataset/runs/train, name=zerodce_severe, exist_ok=False, pretrained=True, optimizer=auto, verbose=True, seed=0, deterministic=True, single_cls=False, rect=False, cos_lr=False, close_mosaic=10, resume=False, amp=True, fraction=1.0, profile=False, freeze=None, multi_scale=False, overlap_mask=True, mask_ratio=4, dropout=0.0, val=True, split=val, save_json=False, save_hybrid=False, conf=None, iou=0.7, max_det=300, half=False, dnn=False, plots=True, source=None, vid_stride=1, stream_buffer=False, visualize=False, augment=False, agnostic_nms=False, classes=None, retina_masks=False, embed=None, show=False, save_frames=False, save_txt=False, save_conf=False, save_crop=False, show_labels=True, show_conf=True, show_boxes=True, line_width=None, format=torchscript, keras=False, optimize=False, int8=False, dynamic=False, simplify=True, opset=None, workspace=None, nms=False, lr0=0.001, lrf=0.01, momentum=0.937, weight_decay=0.0005, warmup_epochs=3.0, warmup_momentum=0.8, warmup_bias_lr=0.1, box=7.5, cls=0.5, dfl=1.5, pose=12.0, kobj=1.0, nbs=64, hsv_h=0.015, hsv_s=0.7, hsv_v=0.4, degrees=0.0, translate=0.1, scale=0.5, shear=0.0, perspective=0.0, flipud=0.0, fliplr=0.5, bgr=0.0, mosaic=1.0, mixup=0.0, copy_paste=0.0, copy_paste_mode=flip, auto_augment=randaugment, erasing=0.4, crop_fraction=1.0, cfg=None, tracker=botsort.yaml, save_dir=/content/drive/MyDrive/CCTV-People-Dataset/runs/train/zerodce_severe\n",
            "Overriding model.yaml nc=80 with nc=1\n",
            "\n",
            "                   from  n    params  module                                       arguments                     \n",
            "  0                  -1  1       464  ultralytics.nn.modules.conv.Conv             [3, 16, 3, 2]                 \n",
            "  1                  -1  1      4672  ultralytics.nn.modules.conv.Conv             [16, 32, 3, 2]                \n",
            "  2                  -1  1      6640  ultralytics.nn.modules.block.C3k2            [32, 64, 1, False, 0.25]      \n",
            "  3                  -1  1     36992  ultralytics.nn.modules.conv.Conv             [64, 64, 3, 2]                \n",
            "  4                  -1  1     26080  ultralytics.nn.modules.block.C3k2            [64, 128, 1, False, 0.25]     \n",
            "  5                  -1  1    147712  ultralytics.nn.modules.conv.Conv             [128, 128, 3, 2]              \n",
            "  6                  -1  1     87040  ultralytics.nn.modules.block.C3k2            [128, 128, 1, True]           \n",
            "  7                  -1  1    295424  ultralytics.nn.modules.conv.Conv             [128, 256, 3, 2]              \n",
            "  8                  -1  1    346112  ultralytics.nn.modules.block.C3k2            [256, 256, 1, True]           \n",
            "  9                  -1  1    164608  ultralytics.nn.modules.block.SPPF            [256, 256, 5]                 \n",
            " 10                  -1  1    249728  ultralytics.nn.modules.block.C2PSA           [256, 256, 1]                 \n",
            " 11                  -1  1         0  torch.nn.modules.upsampling.Upsample         [None, 2, 'nearest']          \n",
            " 12             [-1, 6]  1         0  ultralytics.nn.modules.conv.Concat           [1]                           \n",
            " 13                  -1  1    111296  ultralytics.nn.modules.block.C3k2            [384, 128, 1, False]          \n",
            " 14                  -1  1         0  torch.nn.modules.upsampling.Upsample         [None, 2, 'nearest']          \n",
            " 15             [-1, 4]  1         0  ultralytics.nn.modules.conv.Concat           [1]                           \n",
            " 16                  -1  1     32096  ultralytics.nn.modules.block.C3k2            [256, 64, 1, False]           \n",
            " 17                  -1  1     36992  ultralytics.nn.modules.conv.Conv             [64, 64, 3, 2]                \n",
            " 18            [-1, 13]  1         0  ultralytics.nn.modules.conv.Concat           [1]                           \n",
            " 19                  -1  1     86720  ultralytics.nn.modules.block.C3k2            [192, 128, 1, False]          \n",
            " 20                  -1  1    147712  ultralytics.nn.modules.conv.Conv             [128, 128, 3, 2]              \n",
            " 21            [-1, 10]  1         0  ultralytics.nn.modules.conv.Concat           [1]                           \n",
            " 22                  -1  1    378880  ultralytics.nn.modules.block.C3k2            [384, 256, 1, True]           \n",
            " 23        [16, 19, 22]  1    430867  ultralytics.nn.modules.head.Detect           [1, [64, 128, 256]]           \n",
            "YOLO11n summary: 319 layers, 2,590,035 parameters, 2,590,019 gradients, 6.4 GFLOPs\n",
            "\n",
            "Transferred 448/499 items from pretrained weights\n",
            "\u001b[34m\u001b[1mTensorBoard: \u001b[0mStart with 'tensorboard --logdir /content/drive/MyDrive/CCTV-People-Dataset/runs/train/zerodce_severe', view at http://localhost:6006/\n",
            "Freezing layer 'model.23.dfl.conv.weight'\n",
            "\u001b[34m\u001b[1mAMP: \u001b[0mrunning Automatic Mixed Precision (AMP) checks...\n",
            "\u001b[34m\u001b[1mAMP: \u001b[0mchecks passed ✅\n",
            "\u001b[34m\u001b[1mtrain: \u001b[0mScanning /content/drive/MyDrive/CCTV-People-Dataset/train/Low_Brightness_Moderate/enhanced/labels.cache... 525 images, 0 backgrounds, 0 corrupt: 100% 525/525 [00:00<?, ?it/s]\n",
            "/usr/local/lib/python3.10/dist-packages/albumentations/__init__.py:24: UserWarning: A new version of Albumentations is available: 1.4.21 (you have 1.4.20). Upgrade using: pip install -U albumentations. To disable automatic update checks, set the environment variable NO_ALBUMENTATIONS_UPDATE to 1.\n",
            "  check_for_updates()\n",
            "\u001b[34m\u001b[1malbumentations: \u001b[0mBlur(p=0.01, blur_limit=(3, 7)), MedianBlur(p=0.01, blur_limit=(3, 7)), ToGray(p=0.01, num_output_channels=3, method='weighted_average'), CLAHE(p=0.01, clip_limit=(1.0, 4.0), tile_grid_size=(8, 8))\n",
            "\u001b[34m\u001b[1mval: \u001b[0mScanning /content/drive/MyDrive/CCTV-People-Dataset/valid/Low_Brightness_Moderate/enhanced/labels.cache... 175 images, 0 backgrounds, 0 corrupt: 100% 175/175 [00:00<?, ?it/s]\n",
            "Plotting labels to /content/drive/MyDrive/CCTV-People-Dataset/runs/train/zerodce_severe/labels.jpg... \n",
            "\u001b[34m\u001b[1moptimizer:\u001b[0m 'optimizer=auto' found, ignoring 'lr0=0.001' and 'momentum=0.937' and determining best 'optimizer', 'lr0' and 'momentum' automatically... \n",
            "\u001b[34m\u001b[1moptimizer:\u001b[0m AdamW(lr=0.002, momentum=0.9) with parameter groups 81 weight(decay=0.0), 88 weight(decay=0.0005), 87 bias(decay=0.0)\n",
            "\u001b[34m\u001b[1mTensorBoard: \u001b[0mmodel graph visualization added ✅\n",
            "Image sizes 640 train, 640 val\n",
            "Using 2 dataloader workers\n",
            "Logging results to \u001b[1m/content/drive/MyDrive/CCTV-People-Dataset/runs/train/zerodce_severe\u001b[0m\n",
            "Starting training for 25 epochs...\n",
            "\n",
            "      Epoch    GPU_mem   box_loss   cls_loss   dfl_loss  Instances       Size\n",
            "       1/25      2.56G      2.153      3.229      1.774         26        640: 100% 33/33 [00:16<00:00,  2.00it/s]\n",
            "                 Class     Images  Instances      Box(P          R      mAP50  mAP50-95): 100% 6/6 [00:03<00:00,  1.61it/s]\n",
            "                   all        175        227    0.00364      0.841     0.0117    0.00481\n",
            "\n",
            "      Epoch    GPU_mem   box_loss   cls_loss   dfl_loss  Instances       Size\n",
            "       2/25      2.36G      2.034      2.772      1.692         21        640: 100% 33/33 [00:11<00:00,  2.78it/s]\n",
            "                 Class     Images  Instances      Box(P          R      mAP50  mAP50-95): 100% 6/6 [00:03<00:00,  1.76it/s]\n",
            "                   all        175        227       0.52     0.0969      0.142     0.0487\n",
            "\n",
            "      Epoch    GPU_mem   box_loss   cls_loss   dfl_loss  Instances       Size\n",
            "       3/25      2.36G      2.058      2.641      1.736         30        640: 100% 33/33 [00:12<00:00,  2.66it/s]\n",
            "                 Class     Images  Instances      Box(P          R      mAP50  mAP50-95): 100% 6/6 [00:03<00:00,  1.99it/s]\n",
            "                   all        175        227      0.282      0.207      0.164     0.0605\n",
            "\n",
            "      Epoch    GPU_mem   box_loss   cls_loss   dfl_loss  Instances       Size\n",
            "       4/25      2.38G       2.03      2.458       1.73         29        640: 100% 33/33 [00:13<00:00,  2.54it/s]\n",
            "                 Class     Images  Instances      Box(P          R      mAP50  mAP50-95): 100% 6/6 [00:03<00:00,  1.81it/s]\n",
            "                   all        175        227    0.00531     0.0132   0.000934   0.000323\n",
            "\n",
            "      Epoch    GPU_mem   box_loss   cls_loss   dfl_loss  Instances       Size\n",
            "       5/25      2.36G      1.976      2.371      1.734         20        640: 100% 33/33 [00:13<00:00,  2.43it/s]\n",
            "                 Class     Images  Instances      Box(P          R      mAP50  mAP50-95): 100% 6/6 [00:02<00:00,  2.47it/s]\n",
            "                   all        175        227      0.119     0.0441     0.0351     0.0149\n",
            "\n",
            "      Epoch    GPU_mem   box_loss   cls_loss   dfl_loss  Instances       Size\n",
            "       6/25      2.38G      1.954      2.177      1.726         27        640: 100% 33/33 [00:13<00:00,  2.42it/s]\n",
            "                 Class     Images  Instances      Box(P          R      mAP50  mAP50-95): 100% 6/6 [00:02<00:00,  2.85it/s]\n",
            "                   all        175        227       0.44      0.467      0.357      0.151\n",
            "\n",
            "      Epoch    GPU_mem   box_loss   cls_loss   dfl_loss  Instances       Size\n",
            "       7/25      2.36G      1.933      2.088      1.663         32        640: 100% 33/33 [00:14<00:00,  2.35it/s]\n",
            "                 Class     Images  Instances      Box(P          R      mAP50  mAP50-95): 100% 6/6 [00:01<00:00,  3.20it/s]\n",
            "                   all        175        227      0.549      0.374      0.396      0.156\n",
            "\n",
            "      Epoch    GPU_mem   box_loss   cls_loss   dfl_loss  Instances       Size\n",
            "       8/25      2.37G      1.943       2.04      1.695         22        640: 100% 33/33 [00:13<00:00,  2.37it/s]\n",
            "                 Class     Images  Instances      Box(P          R      mAP50  mAP50-95): 100% 6/6 [00:02<00:00,  2.86it/s]\n",
            "                   all        175        227      0.604      0.485      0.508      0.219\n",
            "\n",
            "      Epoch    GPU_mem   box_loss   cls_loss   dfl_loss  Instances       Size\n",
            "       9/25      2.36G      1.892      1.988      1.665         27        640: 100% 33/33 [00:14<00:00,  2.29it/s]\n",
            "                 Class     Images  Instances      Box(P          R      mAP50  mAP50-95): 100% 6/6 [00:02<00:00,  2.68it/s]\n",
            "                   all        175        227      0.536      0.498      0.492      0.212\n",
            "\n",
            "      Epoch    GPU_mem   box_loss   cls_loss   dfl_loss  Instances       Size\n",
            "      10/25      2.37G      1.877      1.938      1.643         29        640: 100% 33/33 [00:14<00:00,  2.28it/s]\n",
            "                 Class     Images  Instances      Box(P          R      mAP50  mAP50-95): 100% 6/6 [00:01<00:00,  3.05it/s]\n",
            "                   all        175        227      0.619      0.524      0.572      0.262\n",
            "\n",
            "      Epoch    GPU_mem   box_loss   cls_loss   dfl_loss  Instances       Size\n",
            "      11/25      2.37G       1.81      1.804      1.575         30        640: 100% 33/33 [00:14<00:00,  2.27it/s]\n",
            "                 Class     Images  Instances      Box(P          R      mAP50  mAP50-95): 100% 6/6 [00:02<00:00,  2.68it/s]\n",
            "                   all        175        227      0.683      0.555      0.606      0.274\n",
            "\n",
            "      Epoch    GPU_mem   box_loss   cls_loss   dfl_loss  Instances       Size\n",
            "      12/25      2.37G      1.813      1.729      1.572         24        640: 100% 33/33 [00:14<00:00,  2.23it/s]\n",
            "                 Class     Images  Instances      Box(P          R      mAP50  mAP50-95): 100% 6/6 [00:02<00:00,  2.68it/s]\n",
            "                   all        175        227       0.69      0.559       0.62      0.293\n",
            "\n",
            "      Epoch    GPU_mem   box_loss   cls_loss   dfl_loss  Instances       Size\n",
            "      13/25      2.36G      1.798      1.813      1.595         21        640: 100% 33/33 [00:14<00:00,  2.32it/s]\n",
            "                 Class     Images  Instances      Box(P          R      mAP50  mAP50-95): 100% 6/6 [00:02<00:00,  2.83it/s]\n",
            "                   all        175        227      0.731      0.577      0.627      0.304\n",
            "\n",
            "      Epoch    GPU_mem   box_loss   cls_loss   dfl_loss  Instances       Size\n",
            "      14/25      2.37G      1.748      1.671      1.552         27        640: 100% 33/33 [00:14<00:00,  2.30it/s]\n",
            "                 Class     Images  Instances      Box(P          R      mAP50  mAP50-95): 100% 6/6 [00:01<00:00,  3.14it/s]\n",
            "                   all        175        227      0.805      0.617      0.686      0.347\n",
            "\n",
            "      Epoch    GPU_mem   box_loss   cls_loss   dfl_loss  Instances       Size\n",
            "      15/25      2.36G      1.738       1.58      1.521         20        640: 100% 33/33 [00:14<00:00,  2.26it/s]\n",
            "                 Class     Images  Instances      Box(P          R      mAP50  mAP50-95): 100% 6/6 [00:02<00:00,  2.65it/s]\n",
            "                   all        175        227       0.74      0.576      0.671      0.324\n",
            "Closing dataloader mosaic\n",
            "\u001b[34m\u001b[1malbumentations: \u001b[0mBlur(p=0.01, blur_limit=(3, 7)), MedianBlur(p=0.01, blur_limit=(3, 7)), ToGray(p=0.01, num_output_channels=3, method='weighted_average'), CLAHE(p=0.01, clip_limit=(1.0, 4.0), tile_grid_size=(8, 8))\n",
            "\n",
            "      Epoch    GPU_mem   box_loss   cls_loss   dfl_loss  Instances       Size\n",
            "      16/25      2.43G      1.685      1.607      1.547         17        640: 100% 33/33 [00:15<00:00,  2.08it/s]\n",
            "                 Class     Images  Instances      Box(P          R      mAP50  mAP50-95): 100% 6/6 [00:02<00:00,  2.80it/s]\n",
            "                   all        175        227      0.663      0.546       0.62      0.315\n",
            "\n",
            "      Epoch    GPU_mem   box_loss   cls_loss   dfl_loss  Instances       Size\n",
            "      17/25      2.36G       1.59      1.457      1.485         18        640: 100% 33/33 [00:13<00:00,  2.38it/s]\n",
            "                 Class     Images  Instances      Box(P          R      mAP50  mAP50-95): 100% 6/6 [00:02<00:00,  2.84it/s]\n",
            "                   all        175        227      0.621      0.586      0.648      0.319\n",
            "\n",
            "      Epoch    GPU_mem   box_loss   cls_loss   dfl_loss  Instances       Size\n",
            "      18/25      2.37G      1.587      1.444      1.537         17        640: 100% 33/33 [00:12<00:00,  2.71it/s]\n",
            "                 Class     Images  Instances      Box(P          R      mAP50  mAP50-95): 100% 6/6 [00:04<00:00,  1.40it/s]\n",
            "                   all        175        227        0.7      0.573      0.641      0.317\n",
            "\n",
            "      Epoch    GPU_mem   box_loss   cls_loss   dfl_loss  Instances       Size\n",
            "      19/25      2.36G      1.557      1.349      1.499         19        640: 100% 33/33 [00:10<00:00,  3.01it/s]\n",
            "                 Class     Images  Instances      Box(P          R      mAP50  mAP50-95): 100% 6/6 [00:03<00:00,  1.82it/s]\n",
            "                   all        175        227      0.822      0.586      0.713      0.378\n",
            "\n",
            "      Epoch    GPU_mem   box_loss   cls_loss   dfl_loss  Instances       Size\n",
            "      20/25      2.36G      1.547        1.3      1.461         19        640: 100% 33/33 [00:10<00:00,  3.04it/s]\n",
            "                 Class     Images  Instances      Box(P          R      mAP50  mAP50-95): 100% 6/6 [00:03<00:00,  1.80it/s]\n",
            "                   all        175        227      0.732      0.687      0.739       0.39\n",
            "\n",
            "      Epoch    GPU_mem   box_loss   cls_loss   dfl_loss  Instances       Size\n",
            "      21/25      2.36G      1.501      1.247      1.424         16        640: 100% 33/33 [00:12<00:00,  2.71it/s]\n",
            "                 Class     Images  Instances      Box(P          R      mAP50  mAP50-95): 100% 6/6 [00:01<00:00,  3.24it/s]\n",
            "                   all        175        227      0.846      0.612      0.738      0.405\n",
            "\n",
            "      Epoch    GPU_mem   box_loss   cls_loss   dfl_loss  Instances       Size\n",
            "      22/25      2.37G      1.458      1.195      1.405         16        640: 100% 33/33 [00:13<00:00,  2.48it/s]\n",
            "                 Class     Images  Instances      Box(P          R      mAP50  mAP50-95): 100% 6/6 [00:01<00:00,  3.06it/s]\n",
            "                   all        175        227      0.804      0.687      0.751      0.409\n",
            "\n",
            "      Epoch    GPU_mem   box_loss   cls_loss   dfl_loss  Instances       Size\n",
            "      23/25      2.36G      1.459      1.176       1.41         15        640: 100% 33/33 [00:14<00:00,  2.29it/s]\n",
            "                 Class     Images  Instances      Box(P          R      mAP50  mAP50-95): 100% 6/6 [00:02<00:00,  2.84it/s]\n",
            "                   all        175        227      0.791      0.717      0.768      0.422\n",
            "\n",
            "      Epoch    GPU_mem   box_loss   cls_loss   dfl_loss  Instances       Size\n",
            "      24/25      2.36G       1.39      1.144       1.36         16        640: 100% 33/33 [00:14<00:00,  2.28it/s]\n",
            "                 Class     Images  Instances      Box(P          R      mAP50  mAP50-95): 100% 6/6 [00:02<00:00,  2.98it/s]\n",
            "                   all        175        227      0.816      0.721      0.773      0.429\n",
            "\n",
            "      Epoch    GPU_mem   box_loss   cls_loss   dfl_loss  Instances       Size\n",
            "      25/25      2.36G       1.36      1.119      1.332         15        640: 100% 33/33 [00:14<00:00,  2.30it/s]\n",
            "                 Class     Images  Instances      Box(P          R      mAP50  mAP50-95): 100% 6/6 [00:02<00:00,  2.50it/s]\n",
            "                   all        175        227      0.784      0.714      0.785      0.444\n",
            "\n",
            "25 epochs completed in 0.125 hours.\n",
            "Optimizer stripped from /content/drive/MyDrive/CCTV-People-Dataset/runs/train/zerodce_severe/weights/last.pt, 5.5MB\n",
            "Optimizer stripped from /content/drive/MyDrive/CCTV-People-Dataset/runs/train/zerodce_severe/weights/best.pt, 5.5MB\n",
            "\n",
            "Validating /content/drive/MyDrive/CCTV-People-Dataset/runs/train/zerodce_severe/weights/best.pt...\n",
            "Ultralytics 8.3.40 🚀 Python-3.10.12 torch-2.5.1+cu121 CUDA:0 (Tesla T4, 15102MiB)\n",
            "YOLO11n summary (fused): 238 layers, 2,582,347 parameters, 0 gradients, 6.3 GFLOPs\n",
            "                 Class     Images  Instances      Box(P          R      mAP50  mAP50-95): 100% 6/6 [00:04<00:00,  1.30it/s]\n",
            "                   all        175        227      0.785      0.714      0.785      0.443\n",
            "Speed: 0.3ms preprocess, 3.8ms inference, 0.0ms loss, 4.4ms postprocess per image\n",
            "Results saved to \u001b[1m/content/drive/MyDrive/CCTV-People-Dataset/runs/train/zerodce_severe\u001b[0m\n",
            "💡 Learn more at https://docs.ultralytics.com/modes/train\n"
          ]
        }
      ]
    },
    {
      "cell_type": "code",
      "execution_count": null,
      "metadata": {
        "colab": {
          "base_uri": "https://localhost:8080/"
        },
        "outputId": "cc7a787b-6dd4-49eb-cde4-daaf13cd72b0",
        "id": "_ceAWLdeaeKD"
      },
      "outputs": [
        {
          "output_type": "stream",
          "name": "stdout",
          "text": [
            "New https://pypi.org/project/ultralytics/8.3.41 available 😃 Update with 'pip install -U ultralytics'\n",
            "Ultralytics 8.3.40 🚀 Python-3.10.12 torch-2.5.1+cu121 CUDA:0 (Tesla T4, 15102MiB)\n",
            "\u001b[34m\u001b[1mengine/trainer: \u001b[0mtask=detect, mode=train, model=yolo11n.pt, data=/content/drive/MyDrive/CCTV-People-Dataset/data_enhanced_moderate.yaml, epochs=25, time=None, patience=100, batch=16, imgsz=640, save=True, save_period=5, cache=False, device=None, workers=8, project=/content/drive/MyDrive/CCTV-People-Dataset/runs/train, name=zerodce_extreme, exist_ok=False, pretrained=True, optimizer=auto, verbose=True, seed=0, deterministic=True, single_cls=False, rect=False, cos_lr=False, close_mosaic=10, resume=False, amp=True, fraction=1.0, profile=False, freeze=None, multi_scale=False, overlap_mask=True, mask_ratio=4, dropout=0.0, val=True, split=val, save_json=False, save_hybrid=False, conf=None, iou=0.7, max_det=300, half=False, dnn=False, plots=True, source=None, vid_stride=1, stream_buffer=False, visualize=False, augment=False, agnostic_nms=False, classes=None, retina_masks=False, embed=None, show=False, save_frames=False, save_txt=False, save_conf=False, save_crop=False, show_labels=True, show_conf=True, show_boxes=True, line_width=None, format=torchscript, keras=False, optimize=False, int8=False, dynamic=False, simplify=True, opset=None, workspace=None, nms=False, lr0=0.001, lrf=0.01, momentum=0.937, weight_decay=0.0005, warmup_epochs=3.0, warmup_momentum=0.8, warmup_bias_lr=0.1, box=7.5, cls=0.5, dfl=1.5, pose=12.0, kobj=1.0, nbs=64, hsv_h=0.015, hsv_s=0.7, hsv_v=0.4, degrees=0.0, translate=0.1, scale=0.5, shear=0.0, perspective=0.0, flipud=0.0, fliplr=0.5, bgr=0.0, mosaic=1.0, mixup=0.0, copy_paste=0.0, copy_paste_mode=flip, auto_augment=randaugment, erasing=0.4, crop_fraction=1.0, cfg=None, tracker=botsort.yaml, save_dir=/content/drive/MyDrive/CCTV-People-Dataset/runs/train/zerodce_extreme\n",
            "Overriding model.yaml nc=80 with nc=1\n",
            "\n",
            "                   from  n    params  module                                       arguments                     \n",
            "  0                  -1  1       464  ultralytics.nn.modules.conv.Conv             [3, 16, 3, 2]                 \n",
            "  1                  -1  1      4672  ultralytics.nn.modules.conv.Conv             [16, 32, 3, 2]                \n",
            "  2                  -1  1      6640  ultralytics.nn.modules.block.C3k2            [32, 64, 1, False, 0.25]      \n",
            "  3                  -1  1     36992  ultralytics.nn.modules.conv.Conv             [64, 64, 3, 2]                \n",
            "  4                  -1  1     26080  ultralytics.nn.modules.block.C3k2            [64, 128, 1, False, 0.25]     \n",
            "  5                  -1  1    147712  ultralytics.nn.modules.conv.Conv             [128, 128, 3, 2]              \n",
            "  6                  -1  1     87040  ultralytics.nn.modules.block.C3k2            [128, 128, 1, True]           \n",
            "  7                  -1  1    295424  ultralytics.nn.modules.conv.Conv             [128, 256, 3, 2]              \n",
            "  8                  -1  1    346112  ultralytics.nn.modules.block.C3k2            [256, 256, 1, True]           \n",
            "  9                  -1  1    164608  ultralytics.nn.modules.block.SPPF            [256, 256, 5]                 \n",
            " 10                  -1  1    249728  ultralytics.nn.modules.block.C2PSA           [256, 256, 1]                 \n",
            " 11                  -1  1         0  torch.nn.modules.upsampling.Upsample         [None, 2, 'nearest']          \n",
            " 12             [-1, 6]  1         0  ultralytics.nn.modules.conv.Concat           [1]                           \n",
            " 13                  -1  1    111296  ultralytics.nn.modules.block.C3k2            [384, 128, 1, False]          \n",
            " 14                  -1  1         0  torch.nn.modules.upsampling.Upsample         [None, 2, 'nearest']          \n",
            " 15             [-1, 4]  1         0  ultralytics.nn.modules.conv.Concat           [1]                           \n",
            " 16                  -1  1     32096  ultralytics.nn.modules.block.C3k2            [256, 64, 1, False]           \n",
            " 17                  -1  1     36992  ultralytics.nn.modules.conv.Conv             [64, 64, 3, 2]                \n",
            " 18            [-1, 13]  1         0  ultralytics.nn.modules.conv.Concat           [1]                           \n",
            " 19                  -1  1     86720  ultralytics.nn.modules.block.C3k2            [192, 128, 1, False]          \n",
            " 20                  -1  1    147712  ultralytics.nn.modules.conv.Conv             [128, 128, 3, 2]              \n",
            " 21            [-1, 10]  1         0  ultralytics.nn.modules.conv.Concat           [1]                           \n",
            " 22                  -1  1    378880  ultralytics.nn.modules.block.C3k2            [384, 256, 1, True]           \n",
            " 23        [16, 19, 22]  1    430867  ultralytics.nn.modules.head.Detect           [1, [64, 128, 256]]           \n",
            "YOLO11n summary: 319 layers, 2,590,035 parameters, 2,590,019 gradients, 6.4 GFLOPs\n",
            "\n",
            "Transferred 448/499 items from pretrained weights\n",
            "\u001b[34m\u001b[1mTensorBoard: \u001b[0mStart with 'tensorboard --logdir /content/drive/MyDrive/CCTV-People-Dataset/runs/train/zerodce_extreme', view at http://localhost:6006/\n",
            "Freezing layer 'model.23.dfl.conv.weight'\n",
            "\u001b[34m\u001b[1mAMP: \u001b[0mrunning Automatic Mixed Precision (AMP) checks...\n",
            "\u001b[34m\u001b[1mAMP: \u001b[0mchecks passed ✅\n",
            "\u001b[34m\u001b[1mtrain: \u001b[0mScanning /content/drive/MyDrive/CCTV-People-Dataset/train/Low_Brightness_Moderate/enhanced/labels.cache... 525 images, 0 backgrounds, 0 corrupt: 100% 525/525 [00:00<?, ?it/s]\n",
            "/usr/local/lib/python3.10/dist-packages/albumentations/__init__.py:24: UserWarning: A new version of Albumentations is available: 1.4.21 (you have 1.4.20). Upgrade using: pip install -U albumentations. To disable automatic update checks, set the environment variable NO_ALBUMENTATIONS_UPDATE to 1.\n",
            "  check_for_updates()\n",
            "\u001b[34m\u001b[1malbumentations: \u001b[0mBlur(p=0.01, blur_limit=(3, 7)), MedianBlur(p=0.01, blur_limit=(3, 7)), ToGray(p=0.01, num_output_channels=3, method='weighted_average'), CLAHE(p=0.01, clip_limit=(1.0, 4.0), tile_grid_size=(8, 8))\n",
            "\u001b[34m\u001b[1mval: \u001b[0mScanning /content/drive/MyDrive/CCTV-People-Dataset/valid/Low_Brightness_Moderate/enhanced/labels.cache... 175 images, 0 backgrounds, 0 corrupt: 100% 175/175 [00:00<?, ?it/s]\n",
            "Plotting labels to /content/drive/MyDrive/CCTV-People-Dataset/runs/train/zerodce_extreme/labels.jpg... \n",
            "\u001b[34m\u001b[1moptimizer:\u001b[0m 'optimizer=auto' found, ignoring 'lr0=0.001' and 'momentum=0.937' and determining best 'optimizer', 'lr0' and 'momentum' automatically... \n",
            "\u001b[34m\u001b[1moptimizer:\u001b[0m AdamW(lr=0.002, momentum=0.9) with parameter groups 81 weight(decay=0.0), 88 weight(decay=0.0005), 87 bias(decay=0.0)\n",
            "\u001b[34m\u001b[1mTensorBoard: \u001b[0mmodel graph visualization added ✅\n",
            "Image sizes 640 train, 640 val\n",
            "Using 2 dataloader workers\n",
            "Logging results to \u001b[1m/content/drive/MyDrive/CCTV-People-Dataset/runs/train/zerodce_extreme\u001b[0m\n",
            "Starting training for 25 epochs...\n",
            "\n",
            "      Epoch    GPU_mem   box_loss   cls_loss   dfl_loss  Instances       Size\n",
            "       1/25      2.46G      2.153      3.229      1.774         26        640: 100% 33/33 [00:15<00:00,  2.18it/s]\n",
            "                 Class     Images  Instances      Box(P          R      mAP50  mAP50-95): 100% 6/6 [00:04<00:00,  1.38it/s]\n",
            "                   all        175        227    0.00364      0.841     0.0117    0.00481\n",
            "\n",
            "      Epoch    GPU_mem   box_loss   cls_loss   dfl_loss  Instances       Size\n",
            "       2/25      2.36G      2.034      2.772      1.692         21        640: 100% 33/33 [00:12<00:00,  2.67it/s]\n",
            "                 Class     Images  Instances      Box(P          R      mAP50  mAP50-95): 100% 6/6 [00:04<00:00,  1.32it/s]\n",
            "                   all        175        227       0.52     0.0969      0.142     0.0487\n",
            "\n",
            "      Epoch    GPU_mem   box_loss   cls_loss   dfl_loss  Instances       Size\n",
            "       3/25      2.36G      2.058      2.641      1.736         30        640: 100% 33/33 [00:11<00:00,  2.75it/s]\n",
            "                 Class     Images  Instances      Box(P          R      mAP50  mAP50-95): 100% 6/6 [00:04<00:00,  1.38it/s]\n",
            "                   all        175        227      0.282      0.207      0.164     0.0605\n",
            "\n",
            "      Epoch    GPU_mem   box_loss   cls_loss   dfl_loss  Instances       Size\n",
            "       4/25      2.38G       2.03      2.458       1.73         29        640: 100% 33/33 [00:11<00:00,  2.86it/s]\n",
            "                 Class     Images  Instances      Box(P          R      mAP50  mAP50-95): 100% 6/6 [00:04<00:00,  1.28it/s]\n",
            "                   all        175        227    0.00531     0.0132   0.000934   0.000323\n",
            "\n",
            "      Epoch    GPU_mem   box_loss   cls_loss   dfl_loss  Instances       Size\n",
            "       5/25      2.36G      1.976      2.371      1.734         20        640: 100% 33/33 [00:11<00:00,  2.92it/s]\n",
            "                 Class     Images  Instances      Box(P          R      mAP50  mAP50-95): 100% 6/6 [00:04<00:00,  1.49it/s]\n",
            "                   all        175        227      0.119     0.0441     0.0351     0.0149\n",
            "\n",
            "      Epoch    GPU_mem   box_loss   cls_loss   dfl_loss  Instances       Size\n",
            "       6/25      2.38G      1.954      2.177      1.726         27        640: 100% 33/33 [00:11<00:00,  2.77it/s]\n",
            "                 Class     Images  Instances      Box(P          R      mAP50  mAP50-95): 100% 6/6 [00:02<00:00,  2.45it/s]\n",
            "                   all        175        227       0.44      0.467      0.357      0.151\n",
            "\n",
            "      Epoch    GPU_mem   box_loss   cls_loss   dfl_loss  Instances       Size\n",
            "       7/25      2.36G      1.933      2.088      1.663         32        640: 100% 33/33 [00:12<00:00,  2.58it/s]\n",
            "                 Class     Images  Instances      Box(P          R      mAP50  mAP50-95): 100% 6/6 [00:02<00:00,  2.59it/s]\n",
            "                   all        175        227      0.549      0.374      0.396      0.156\n",
            "\n",
            "      Epoch    GPU_mem   box_loss   cls_loss   dfl_loss  Instances       Size\n",
            "       8/25      2.37G      1.943       2.04      1.695         22        640: 100% 33/33 [00:13<00:00,  2.44it/s]\n",
            "                 Class     Images  Instances      Box(P          R      mAP50  mAP50-95): 100% 6/6 [00:02<00:00,  2.96it/s]\n",
            "                   all        175        227      0.604      0.485      0.508      0.219\n",
            "\n",
            "      Epoch    GPU_mem   box_loss   cls_loss   dfl_loss  Instances       Size\n",
            "       9/25      2.36G      1.892      1.988      1.665         27        640: 100% 33/33 [00:13<00:00,  2.38it/s]\n",
            "                 Class     Images  Instances      Box(P          R      mAP50  mAP50-95): 100% 6/6 [00:01<00:00,  3.05it/s]\n",
            "                   all        175        227      0.536      0.498      0.492      0.212\n",
            "\n",
            "      Epoch    GPU_mem   box_loss   cls_loss   dfl_loss  Instances       Size\n",
            "      10/25      2.37G      1.877      1.938      1.643         29        640: 100% 33/33 [00:14<00:00,  2.34it/s]\n",
            "                 Class     Images  Instances      Box(P          R      mAP50  mAP50-95): 100% 6/6 [00:01<00:00,  3.01it/s]\n",
            "                   all        175        227      0.619      0.524      0.572      0.262\n",
            "\n",
            "      Epoch    GPU_mem   box_loss   cls_loss   dfl_loss  Instances       Size\n",
            "      11/25      2.36G       1.81      1.804      1.575         30        640: 100% 33/33 [00:14<00:00,  2.27it/s]\n",
            "                 Class     Images  Instances      Box(P          R      mAP50  mAP50-95): 100% 6/6 [00:02<00:00,  2.98it/s]\n",
            "                   all        175        227      0.683      0.555      0.606      0.274\n",
            "\n",
            "      Epoch    GPU_mem   box_loss   cls_loss   dfl_loss  Instances       Size\n",
            "      12/25      2.36G      1.813      1.729      1.572         24        640: 100% 33/33 [00:14<00:00,  2.30it/s]\n",
            "                 Class     Images  Instances      Box(P          R      mAP50  mAP50-95): 100% 6/6 [00:02<00:00,  2.82it/s]\n",
            "                   all        175        227       0.69      0.559       0.62      0.293\n",
            "\n",
            "      Epoch    GPU_mem   box_loss   cls_loss   dfl_loss  Instances       Size\n",
            "      13/25      2.36G      1.798      1.813      1.595         21        640: 100% 33/33 [00:14<00:00,  2.35it/s]\n",
            "                 Class     Images  Instances      Box(P          R      mAP50  mAP50-95): 100% 6/6 [00:02<00:00,  2.67it/s]\n",
            "                   all        175        227      0.731      0.577      0.627      0.304\n",
            "\n",
            "      Epoch    GPU_mem   box_loss   cls_loss   dfl_loss  Instances       Size\n",
            "      14/25      2.37G      1.748      1.671      1.552         27        640: 100% 33/33 [00:14<00:00,  2.36it/s]\n",
            "                 Class     Images  Instances      Box(P          R      mAP50  mAP50-95): 100% 6/6 [00:02<00:00,  2.68it/s]\n",
            "                   all        175        227      0.805      0.617      0.686      0.347\n",
            "\n",
            "      Epoch    GPU_mem   box_loss   cls_loss   dfl_loss  Instances       Size\n",
            "      15/25      2.36G      1.738       1.58      1.521         20        640: 100% 33/33 [00:14<00:00,  2.34it/s]\n",
            "                 Class     Images  Instances      Box(P          R      mAP50  mAP50-95): 100% 6/6 [00:02<00:00,  2.77it/s]\n",
            "                   all        175        227       0.74      0.576      0.671      0.324\n",
            "Closing dataloader mosaic\n",
            "\u001b[34m\u001b[1malbumentations: \u001b[0mBlur(p=0.01, blur_limit=(3, 7)), MedianBlur(p=0.01, blur_limit=(3, 7)), ToGray(p=0.01, num_output_channels=3, method='weighted_average'), CLAHE(p=0.01, clip_limit=(1.0, 4.0), tile_grid_size=(8, 8))\n",
            "\n",
            "      Epoch    GPU_mem   box_loss   cls_loss   dfl_loss  Instances       Size\n",
            "      16/25      2.54G      1.685      1.607      1.547         17        640: 100% 33/33 [00:15<00:00,  2.07it/s]\n",
            "                 Class     Images  Instances      Box(P          R      mAP50  mAP50-95): 100% 6/6 [00:02<00:00,  2.87it/s]\n",
            "                   all        175        227      0.663      0.546       0.62      0.315\n",
            "\n",
            "      Epoch    GPU_mem   box_loss   cls_loss   dfl_loss  Instances       Size\n",
            "      17/25      2.36G       1.59      1.457      1.485         18        640: 100% 33/33 [00:14<00:00,  2.32it/s]\n",
            "                 Class     Images  Instances      Box(P          R      mAP50  mAP50-95): 100% 6/6 [00:02<00:00,  2.92it/s]\n",
            "                   all        175        227      0.621      0.586      0.648      0.319\n",
            "\n",
            "      Epoch    GPU_mem   box_loss   cls_loss   dfl_loss  Instances       Size\n",
            "      18/25      2.37G      1.587      1.444      1.537         17        640: 100% 33/33 [00:14<00:00,  2.33it/s]\n",
            "                 Class     Images  Instances      Box(P          R      mAP50  mAP50-95): 100% 6/6 [00:01<00:00,  3.17it/s]\n",
            "                   all        175        227        0.7      0.573      0.641      0.317\n",
            "\n",
            "      Epoch    GPU_mem   box_loss   cls_loss   dfl_loss  Instances       Size\n",
            "      19/25      2.36G      1.557      1.349      1.499         19        640: 100% 33/33 [00:12<00:00,  2.62it/s]\n",
            "                 Class     Images  Instances      Box(P          R      mAP50  mAP50-95): 100% 6/6 [00:03<00:00,  1.58it/s]\n",
            "                   all        175        227      0.822      0.586      0.713      0.378\n",
            "\n",
            "      Epoch    GPU_mem   box_loss   cls_loss   dfl_loss  Instances       Size\n",
            "      20/25      2.36G      1.547        1.3      1.461         19        640: 100% 33/33 [00:11<00:00,  2.81it/s]\n",
            "                 Class     Images  Instances      Box(P          R      mAP50  mAP50-95): 100% 6/6 [00:03<00:00,  1.74it/s]\n",
            "                   all        175        227      0.732      0.687      0.739       0.39\n",
            "\n",
            "      Epoch    GPU_mem   box_loss   cls_loss   dfl_loss  Instances       Size\n",
            "      21/25      2.36G      1.501      1.247      1.424         16        640: 100% 33/33 [00:10<00:00,  3.20it/s]\n",
            "                 Class     Images  Instances      Box(P          R      mAP50  mAP50-95): 100% 6/6 [00:03<00:00,  1.70it/s]\n",
            "                   all        175        227      0.846      0.612      0.738      0.405\n",
            "\n",
            "      Epoch    GPU_mem   box_loss   cls_loss   dfl_loss  Instances       Size\n",
            "      22/25      2.37G      1.458      1.195      1.405         16        640: 100% 33/33 [00:11<00:00,  2.79it/s]\n",
            "                 Class     Images  Instances      Box(P          R      mAP50  mAP50-95): 100% 6/6 [00:02<00:00,  2.89it/s]\n",
            "                   all        175        227      0.804      0.687      0.751      0.409\n",
            "\n",
            "      Epoch    GPU_mem   box_loss   cls_loss   dfl_loss  Instances       Size\n",
            "      23/25      2.37G      1.459      1.176       1.41         15        640: 100% 33/33 [00:13<00:00,  2.50it/s]\n",
            "                 Class     Images  Instances      Box(P          R      mAP50  mAP50-95): 100% 6/6 [00:02<00:00,  2.67it/s]\n",
            "                   all        175        227      0.791      0.717      0.768      0.422\n",
            "\n",
            "      Epoch    GPU_mem   box_loss   cls_loss   dfl_loss  Instances       Size\n",
            "      24/25      2.36G       1.39      1.144       1.36         16        640: 100% 33/33 [00:14<00:00,  2.31it/s]\n",
            "                 Class     Images  Instances      Box(P          R      mAP50  mAP50-95): 100% 6/6 [00:01<00:00,  3.02it/s]\n",
            "                   all        175        227      0.816      0.721      0.773      0.429\n",
            "\n",
            "      Epoch    GPU_mem   box_loss   cls_loss   dfl_loss  Instances       Size\n",
            "      25/25      2.36G       1.36      1.119      1.332         15        640: 100% 33/33 [00:13<00:00,  2.37it/s]\n",
            "                 Class     Images  Instances      Box(P          R      mAP50  mAP50-95): 100% 6/6 [00:02<00:00,  2.82it/s]\n",
            "                   all        175        227      0.784      0.714      0.785      0.444\n",
            "\n",
            "25 epochs completed in 0.124 hours.\n",
            "Optimizer stripped from /content/drive/MyDrive/CCTV-People-Dataset/runs/train/zerodce_extreme/weights/last.pt, 5.5MB\n",
            "Optimizer stripped from /content/drive/MyDrive/CCTV-People-Dataset/runs/train/zerodce_extreme/weights/best.pt, 5.5MB\n",
            "\n",
            "Validating /content/drive/MyDrive/CCTV-People-Dataset/runs/train/zerodce_extreme/weights/best.pt...\n",
            "Ultralytics 8.3.40 🚀 Python-3.10.12 torch-2.5.1+cu121 CUDA:0 (Tesla T4, 15102MiB)\n",
            "YOLO11n summary (fused): 238 layers, 2,582,347 parameters, 0 gradients, 6.3 GFLOPs\n",
            "                 Class     Images  Instances      Box(P          R      mAP50  mAP50-95): 100% 6/6 [00:05<00:00,  1.18it/s]\n",
            "                   all        175        227      0.785      0.714      0.785      0.443\n",
            "Speed: 0.3ms preprocess, 4.5ms inference, 0.0ms loss, 6.2ms postprocess per image\n",
            "Results saved to \u001b[1m/content/drive/MyDrive/CCTV-People-Dataset/runs/train/zerodce_extreme\u001b[0m\n",
            "💡 Learn more at https://docs.ultralytics.com/modes/train\n"
          ]
        }
      ],
      "source": [
        "# 매우 심한 저조도 개선 데이터로 학습\n",
        "!yolo train model=yolo11n.pt \\\n",
        "          data=/content/drive/MyDrive/CCTV-People-Dataset/data_enhanced_moderate.yaml \\\n",
        "          epochs=25 \\\n",
        "          imgsz=640 \\\n",
        "          batch=16 \\\n",
        "          save_period=5 \\\n",
        "          lr0=0.001 \\\n",
        "          optimizer=auto \\\n",
        "          project=/content/drive/MyDrive/CCTV-People-Dataset/runs/train \\\n",
        "          name=zerodce_extreme"
      ]
    },
    {
      "cell_type": "markdown",
      "source": [
        "**valid**"
      ],
      "metadata": {
        "id": "7Zmim5IcL5o3"
      }
    },
    {
      "cell_type": "code",
      "source": [
        "from ultralytics import YOLO\n",
        "\n",
        "# 원본 데이터로 훈련된 모델 평가\n",
        "model_original = YOLO('/content/drive/MyDrive/CCTV-People-Dataset/runs/train/original_2/weights/best.pt')\n",
        "results_original = model_original.val(data='/content/drive/MyDrive/CCTV-People-Dataset/data_origin.yaml')"
      ],
      "metadata": {
        "colab": {
          "base_uri": "https://localhost:8080/"
        },
        "id": "hIoEyaYwahcH",
        "outputId": "411c1ec3-cc82-4f96-8873-75836cda9be9"
      },
      "execution_count": null,
      "outputs": [
        {
          "output_type": "stream",
          "name": "stdout",
          "text": [
            "Ultralytics 8.3.40 🚀 Python-3.10.12 torch-2.5.1+cu121 CUDA:0 (Tesla T4, 15102MiB)\n",
            "YOLO11n summary (fused): 238 layers, 2,582,347 parameters, 0 gradients, 6.3 GFLOPs\n"
          ]
        },
        {
          "output_type": "stream",
          "name": "stderr",
          "text": [
            "\u001b[34m\u001b[1mval: \u001b[0mScanning /content/drive/MyDrive/CCTV-People-Dataset/valid/labels.cache... 175 images, 0 backgrounds, 0 corrupt: 100%|██████████| 175/175 [00:00<?, ?it/s]\n",
            "                 Class     Images  Instances      Box(P          R      mAP50  mAP50-95): 100%|██████████| 11/11 [00:04<00:00,  2.48it/s]\n"
          ]
        },
        {
          "output_type": "stream",
          "name": "stdout",
          "text": [
            "                   all        175        227      0.855      0.755      0.842      0.492\n",
            "Speed: 4.5ms preprocess, 4.6ms inference, 0.0ms loss, 2.6ms postprocess per image\n",
            "Results saved to \u001b[1mruns/detect/val7\u001b[0m\n"
          ]
        }
      ]
    },
    {
      "cell_type": "code",
      "execution_count": null,
      "metadata": {
        "colab": {
          "base_uri": "https://localhost:8080/"
        },
        "id": "GG6ggpIDMkhc",
        "outputId": "3b566b5c-0ca1-4d38-8dd8-9ff4e5f1c615"
      },
      "outputs": [
        {
          "output_type": "stream",
          "name": "stdout",
          "text": [
            "Classes 적용 여부 확인:\n",
            "Classes: {0: 'Human pose estimation'}\n"
          ]
        }
      ],
      "source": [
        "# 결과 확인\n",
        "print(\"Classes 적용 여부 확인:\")\n",
        "print(\"Classes:\", results_moderate.names)  # 모델이 사용 중인 클래스 이름 출력"
      ]
    },
    {
      "cell_type": "code",
      "execution_count": null,
      "metadata": {
        "colab": {
          "base_uri": "https://localhost:8080/"
        },
        "outputId": "d4e7d6ba-36fb-4b67-d036-436fb31699af",
        "id": "CIFdxe5OfkEa"
      },
      "outputs": [
        {
          "output_type": "stream",
          "name": "stdout",
          "text": [
            "Ultralytics 8.3.40 🚀 Python-3.10.12 torch-2.5.1+cu121 CUDA:0 (Tesla T4, 15102MiB)\n",
            "YOLO11n summary (fused): 238 layers, 2,582,347 parameters, 0 gradients, 6.3 GFLOPs\n"
          ]
        },
        {
          "output_type": "stream",
          "name": "stderr",
          "text": [
            "\u001b[34m\u001b[1mval: \u001b[0mScanning /content/drive/MyDrive/CCTV-People-Dataset/valid/Low_Brightness_Moderate/enhanced/labels.cache... 175 images, 0 backgrounds, 0 corrupt: 100%|██████████| 175/175 [00:00<?, ?it/s]\n",
            "                 Class     Images  Instances      Box(P          R      mAP50  mAP50-95): 100%|██████████| 11/11 [00:05<00:00,  2.18it/s]\n"
          ]
        },
        {
          "output_type": "stream",
          "name": "stdout",
          "text": [
            "                   all        175        227      0.789      0.718      0.791      0.444\n",
            "Speed: 3.7ms preprocess, 5.6ms inference, 0.0ms loss, 3.0ms postprocess per image\n",
            "Results saved to \u001b[1mruns/detect/val8\u001b[0m\n",
            "Ultralytics 8.3.40 🚀 Python-3.10.12 torch-2.5.1+cu121 CUDA:0 (Tesla T4, 15102MiB)\n",
            "YOLO11n summary (fused): 238 layers, 2,582,347 parameters, 0 gradients, 6.3 GFLOPs\n"
          ]
        },
        {
          "output_type": "stream",
          "name": "stderr",
          "text": [
            "\u001b[34m\u001b[1mval: \u001b[0mScanning /content/drive/MyDrive/CCTV-People-Dataset/valid/Low_Brightness_Severe/enhanced/labels... 175 images, 0 backgrounds, 0 corrupt: 100%|██████████| 175/175 [00:02<00:00, 83.13it/s] \n"
          ]
        },
        {
          "output_type": "stream",
          "name": "stdout",
          "text": [
            "\u001b[34m\u001b[1mval: \u001b[0mNew cache created: /content/drive/MyDrive/CCTV-People-Dataset/valid/Low_Brightness_Severe/enhanced/labels.cache\n"
          ]
        },
        {
          "output_type": "stream",
          "name": "stderr",
          "text": [
            "                 Class     Images  Instances      Box(P          R      mAP50  mAP50-95): 100%|██████████| 11/11 [00:04<00:00,  2.59it/s]\n"
          ]
        },
        {
          "output_type": "stream",
          "name": "stdout",
          "text": [
            "                   all        175        227      0.763      0.683      0.762      0.419\n",
            "Speed: 2.4ms preprocess, 5.6ms inference, 0.0ms loss, 2.3ms postprocess per image\n",
            "Results saved to \u001b[1mruns/detect/val9\u001b[0m\n",
            "Ultralytics 8.3.40 🚀 Python-3.10.12 torch-2.5.1+cu121 CUDA:0 (Tesla T4, 15102MiB)\n",
            "YOLO11n summary (fused): 238 layers, 2,582,347 parameters, 0 gradients, 6.3 GFLOPs\n"
          ]
        },
        {
          "output_type": "stream",
          "name": "stderr",
          "text": [
            "\u001b[34m\u001b[1mval: \u001b[0mScanning /content/drive/MyDrive/CCTV-People-Dataset/valid/Low_Brightness_Extreme/enhanced/labels... 175 images, 0 backgrounds, 0 corrupt: 100%|██████████| 175/175 [00:02<00:00, 79.25it/s]\n"
          ]
        },
        {
          "output_type": "stream",
          "name": "stdout",
          "text": [
            "\u001b[34m\u001b[1mval: \u001b[0mNew cache created: /content/drive/MyDrive/CCTV-People-Dataset/valid/Low_Brightness_Extreme/enhanced/labels.cache\n"
          ]
        },
        {
          "output_type": "stream",
          "name": "stderr",
          "text": [
            "                 Class     Images  Instances      Box(P          R      mAP50  mAP50-95): 100%|██████████| 11/11 [00:06<00:00,  1.60it/s]\n"
          ]
        },
        {
          "output_type": "stream",
          "name": "stdout",
          "text": [
            "                   all        175        227        0.8      0.564      0.667       0.34\n",
            "Speed: 6.7ms preprocess, 5.6ms inference, 0.0ms loss, 3.9ms postprocess per image\n",
            "Results saved to \u001b[1mruns/detect/val10\u001b[0m\n"
          ]
        }
      ],
      "source": [
        "# 중간 저조도 개선\n",
        "model_moderate = YOLO('/content/drive/MyDrive/CCTV-People-Dataset/runs/train/zerodce_moderate/weights/best.pt')\n",
        "results_moderate = model_moderate.val(data='/content/drive/MyDrive/CCTV-People-Dataset/data_enhanced_moderate.yaml')\n",
        "\n",
        "# 심한 저조도 개선\n",
        "model_severe = YOLO('/content/drive/MyDrive/CCTV-People-Dataset/runs/train/zerodce_severe/weights/best.pt')\n",
        "results_severe = model_severe.val(data='/content/drive/MyDrive/CCTV-People-Dataset/data_enhanced_severe.yaml')\n",
        "\n",
        "# 매우 심한 저조도 개선\n",
        "model_extreme = YOLO('/content/drive/MyDrive/CCTV-People-Dataset/runs/train/zerodce_extreme/weights/best.pt')\n",
        "results_extreme = model_extreme.val(data='/content/drive/MyDrive/CCTV-People-Dataset/data_enhanced_extreme.yaml')"
      ]
    },
    {
      "cell_type": "markdown",
      "source": [
        "**평가 지표**\n",
        "\n",
        "현재 데이터셋에 클래스가 하나('person')만 존재하므로, mAP 값과 AP 값은 동일하게 나타남."
      ],
      "metadata": {
        "id": "4PJoIvBIt30D"
      }
    },
    {
      "cell_type": "code",
      "execution_count": null,
      "metadata": {
        "colab": {
          "base_uri": "https://localhost:8080/",
          "height": 693
        },
        "outputId": "f60625b9-10fc-482d-edfb-abdda7bb830b",
        "id": "X3rTeJZ0f357"
      },
      "outputs": [
        {
          "output_type": "stream",
          "name": "stdout",
          "text": [
            "  Condition         Precision (P)            Recall (R)     mAP50  mAP50-95\n",
            "0  Original   [0.855274480188526]  [0.7549801159925182]  0.841603  0.491710\n",
            "1  Moderate  [0.7886912612410956]  [0.7180616740088106]  0.790506  0.444224\n",
            "2    Severe  [0.7633290987248298]  [0.6828193832599119]  0.762266  0.419157\n",
            "3   Extreme  [0.8002131390793199]  [0.5638766519823789]  0.667393  0.340291\n"
          ]
        },
        {
          "output_type": "display_data",
          "data": {
            "text/plain": [
              "<Figure size 1200x800 with 1 Axes>"
            ],
            "image/png": "[encoded data removed]"
          },
          "metadata": {}
        }
      ],
      "source": [
        "import pandas as pd\n",
        "import matplotlib.pyplot as plt\n",
        "\n",
        "# YOLO 평가 결과에서 메트릭을 추출합니다.\n",
        "def extract_metrics(result):\n",
        "    metrics = {\n",
        "        \"Precision (P)\": result.box.p,  # 단일 값으로 사용\n",
        "        \"Recall (R)\": result.box.r,     # 단일 값으로 사용\n",
        "        \"mAP50\": result.box.map50,      # 단일 값으로 사용\n",
        "        \"mAP50-95\": result.box.map      # 단일 값으로 사용\n",
        "    }\n",
        "    return metrics\n",
        "\n",
        "# 각 결과로부터 메트릭을 추출합니다.\n",
        "metrics_original = extract_metrics(results_original)\n",
        "metrics_moderate = extract_metrics(results_moderate)\n",
        "metrics_severe = extract_metrics(results_severe)\n",
        "metrics_extreme = extract_metrics(results_extreme)\n",
        "\n",
        "# 결과를 데이터프레임에 저장합니다.\n",
        "data = {\n",
        "    \"Condition\": [\"Original\", \"Moderate\", \"Severe\", \"Extreme\"],\n",
        "    \"Precision (P)\": [metrics_original[\"Precision (P)\"], metrics_moderate[\"Precision (P)\"], metrics_severe[\"Precision (P)\"], metrics_extreme[\"Precision (P)\"]],\n",
        "    \"Recall (R)\": [metrics_original[\"Recall (R)\"], metrics_moderate[\"Recall (R)\"], metrics_severe[\"Recall (R)\"], metrics_extreme[\"Recall (R)\"]],\n",
        "    \"mAP50\": [metrics_original[\"mAP50\"], metrics_moderate[\"mAP50\"], metrics_severe[\"mAP50\"], metrics_extreme[\"mAP50\"]],\n",
        "    \"mAP50-95\": [metrics_original[\"mAP50-95\"], metrics_moderate[\"mAP50-95\"], metrics_severe[\"mAP50-95\"], metrics_extreme[\"mAP50-95\"]],\n",
        "}\n",
        "\n",
        "# 데이터프레임 생성\n",
        "df = pd.DataFrame(data)\n",
        "\n",
        "# 결과 출력 (확인용)\n",
        "print(df)\n",
        "\n",
        "# 메트릭 비교를 위한 시각화\n",
        "metrics = [\"Precision (P)\", \"Recall (R)\", \"mAP50\", \"mAP50-95\"]\n",
        "x = df[\"Condition\"]\n",
        "\n",
        "plt.figure(figsize=(12, 8))\n",
        "\n",
        "# 각 메트릭을 플롯으로 그립니다.\n",
        "for metric in metrics:\n",
        "    plt.plot(x, df[metric], marker='o', label=metric)\n",
        "\n",
        "# 라벨 및 제목 설정\n",
        "plt.xlabel(\"Low Brightness Condition\")\n",
        "plt.ylabel(\"Metric Value\")\n",
        "plt.title(\"Comparison of Evaluation Metrics Across Different Low Brightness Conditions\")\n",
        "plt.legend()\n",
        "plt.grid(True)\n",
        "plt.show()"
      ]
    }
  ]
}