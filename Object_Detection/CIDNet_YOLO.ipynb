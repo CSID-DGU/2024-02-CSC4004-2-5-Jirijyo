{
 "cells": [
  {
   "cell_type": "markdown",
   "metadata": {
    "id": "jvEvHmAHs3wl"
   },
   "source": [
    "# **yaml 작성**\n",
    "\n",
    "*   data_origin.yaml\n",
    "*   data_moderate_CIDNet.yaml\n",
    "*   data_severe_CIDNet.yaml\n",
    "*   data_extreme_CIDNet.yaml\n",
    "\n",
    "\n",
    "\n"
   ]
  },
  {
   "cell_type": "code",
   "execution_count": null,
   "metadata": {
    "colab": {
     "base_uri": "https://localhost:8080/"
    },
    "executionInfo": {
     "elapsed": 34029,
     "status": "ok",
     "timestamp": 1733391511942,
     "user": {
      "displayName": "윤여진",
      "userId": "15272112293797387179"
     },
     "user_tz": -540
    },
    "id": "FRVAj-8AqGdu",
    "outputId": "2804dc8e-a88e-46e9-8f44-99a0cec10db6"
   },
   "outputs": [
    {
     "name": "stdout",
     "output_type": "stream",
     "text": [
      "Mounted at /content/drive\n"
     ]
    }
   ],
   "source": [
    "# 구글 드라이브 마운트\n",
    "\n",
    "from google.colab import drive\n",
    "drive.mount('/content/drive')"
   ]
  },
  {
   "cell_type": "code",
   "execution_count": null,
   "metadata": {
    "colab": {
     "base_uri": "https://localhost:8080/"
    },
    "executionInfo": {
     "elapsed": 937,
     "status": "ok",
     "timestamp": 1733391646849,
     "user": {
      "displayName": "윤여진",
      "userId": "15272112293797387179"
     },
     "user_tz": -540
    },
    "id": "3OGd9gShs98l",
    "outputId": "d68716ed-2f68-49bb-8f72-59d51863ff29"
   },
   "outputs": [
    {
     "name": "stdout",
     "output_type": "stream",
     "text": [
      "\n",
      "train: /content/drive/MyDrive/CCTV-People-Dataset/train/Original/images\n",
      "val: /content/drive/MyDrive/CCTV-People-Dataset/valid/Original/images\n",
      "test: ../test/images\n",
      "\n",
      "nc: 1\n",
      "names: ['Human pose estimation']\n",
      "\n",
      "roboflow:\n",
      "  workspace: project-wk4fq\n",
      "  project: cctv-people\n",
      "  version: 1\n",
      "  license: CC BY 4.0\n",
      "  url: https://universe.roboflow.com/project-wk4fq/cctv-people/dataset/1\n"
     ]
    }
   ],
   "source": [
    "# data_origin.yaml 파일 작성\n",
    "\n",
    "yaml_content = \"\"\"\n",
    "train: /content/drive/MyDrive/CCTV-People-Dataset/train/Original/images\n",
    "val: /content/drive/MyDrive/CCTV-People-Dataset/valid/Original/images\n",
    "test: ../test/images\n",
    "\n",
    "nc: 1\n",
    "names: ['Human pose estimation']\n",
    "\n",
    "roboflow:\n",
    "  workspace: project-wk4fq\n",
    "  project: cctv-people\n",
    "  version: 1\n",
    "  license: CC BY 4.0\n",
    "  url: https://universe.roboflow.com/project-wk4fq/cctv-people/dataset/1\n",
    "\"\"\"\n",
    "\n",
    "# 파일 저장\n",
    "with open('/content/drive/MyDrive/CCTV-People-Dataset/yaml/data_origin.yaml', 'w') as f:\n",
    "    f.write(yaml_content)\n",
    "\n",
    "# 저장된 파일 확인\n",
    "!cat /content/drive/MyDrive/CCTV-People-Dataset/yaml/data_origin.yaml"
   ]
  },
  {
   "cell_type": "code",
   "execution_count": null,
   "metadata": {
    "colab": {
     "base_uri": "https://localhost:8080/"
    },
    "executionInfo": {
     "elapsed": 493,
     "status": "ok",
     "timestamp": 1733391673349,
     "user": {
      "displayName": "윤여진",
      "userId": "15272112293797387179"
     },
     "user_tz": -540
    },
    "id": "w_Nkgm65tcjF",
    "outputId": "825b4ce7-2920-4c6e-81a4-5ffb75b16026"
   },
   "outputs": [
    {
     "name": "stdout",
     "output_type": "stream",
     "text": [
      "\n",
      "train: /content/drive/MyDrive/CCTV-People-Dataset/train/Low_Brightness_Moderate/CIDNet/images\n",
      "val: /content/drive/MyDrive/CCTV-People-Dataset/valid/Low_Brightness_Moderate/CIDNet/images\n",
      "test: ../test/images\n",
      "\n",
      "nc: 1\n",
      "names: ['Human pose estimation']\n",
      "\n",
      "roboflow:\n",
      "  workspace: project-wk4fq\n",
      "  project: cctv-people\n",
      "  version: 1\n",
      "  license: CC BY 4.0\n",
      "  url: https://universe.roboflow.com/project-wk4fq/cctv-people/dataset/1\n"
     ]
    }
   ],
   "source": [
    "# data_moderate_CID.yaml 파일 작성\n",
    "\n",
    "yaml_content = \"\"\"\n",
    "train: /content/drive/MyDrive/CCTV-People-Dataset/train/Low_Brightness_Moderate/CIDNet/images\n",
    "val: /content/drive/MyDrive/CCTV-People-Dataset/valid/Low_Brightness_Moderate/CIDNet/images\n",
    "test: ../test/images\n",
    "\n",
    "nc: 1\n",
    "names: ['Human pose estimation']\n",
    "\n",
    "roboflow:\n",
    "  workspace: project-wk4fq\n",
    "  project: cctv-people\n",
    "  version: 1\n",
    "  license: CC BY 4.0\n",
    "  url: https://universe.roboflow.com/project-wk4fq/cctv-people/dataset/1\n",
    "\"\"\"\n",
    "\n",
    "# 파일 저장\n",
    "with open('/content/drive/MyDrive/CCTV-People-Dataset/yaml/data_moderate_CIDNet.yaml', 'w') as f:\n",
    "    f.write(yaml_content)\n",
    "\n",
    "# 저장된 파일 확인\n",
    "!cat /content/drive/MyDrive/CCTV-People-Dataset/yaml/data_moderate_CIDNet.yaml"
   ]
  },
  {
   "cell_type": "code",
   "execution_count": null,
   "metadata": {
    "colab": {
     "base_uri": "https://localhost:8080/"
    },
    "executionInfo": {
     "elapsed": 459,
     "status": "ok",
     "timestamp": 1733391676722,
     "user": {
      "displayName": "윤여진",
      "userId": "15272112293797387179"
     },
     "user_tz": -540
    },
    "id": "uaGKZ_-tuuze",
    "outputId": "360dadb4-60af-4665-a310-42b25f5fcd21"
   },
   "outputs": [
    {
     "name": "stdout",
     "output_type": "stream",
     "text": [
      "\n",
      "train: /content/drive/MyDrive/CCTV-People-Dataset/train/Low_Brightness_Severe/CIDNet/images\n",
      "val: /content/drive/MyDrive/CCTV-People-Dataset/valid/Low_Brightness_Severe/CIDNet/images\n",
      "test: ../test/images\n",
      "\n",
      "nc: 1\n",
      "names: ['Human pose estimation']\n",
      "\n",
      "roboflow:\n",
      "  workspace: project-wk4fq\n",
      "  project: cctv-people\n",
      "  version: 1\n",
      "  license: CC BY 4.0\n",
      "  url: https://universe.roboflow.com/project-wk4fq/cctv-people/dataset/1\n"
     ]
    }
   ],
   "source": [
    "# data_severe_CID.yaml 파일 작성\n",
    "\n",
    "yaml_content = \"\"\"\n",
    "train: /content/drive/MyDrive/CCTV-People-Dataset/train/Low_Brightness_Severe/CIDNet/images\n",
    "val: /content/drive/MyDrive/CCTV-People-Dataset/valid/Low_Brightness_Severe/CIDNet/images\n",
    "test: ../test/images\n",
    "\n",
    "nc: 1\n",
    "names: ['Human pose estimation']\n",
    "\n",
    "roboflow:\n",
    "  workspace: project-wk4fq\n",
    "  project: cctv-people\n",
    "  version: 1\n",
    "  license: CC BY 4.0\n",
    "  url: https://universe.roboflow.com/project-wk4fq/cctv-people/dataset/1\n",
    "\"\"\"\n",
    "\n",
    "# 파일 저장\n",
    "with open('/content/drive/MyDrive/CCTV-People-Dataset/yaml/data_severe_CIDNet.yaml', 'w') as f:\n",
    "    f.write(yaml_content)\n",
    "\n",
    "# 저장된 파일 확인\n",
    "!cat /content/drive/MyDrive/CCTV-People-Dataset/yaml/data_severe_CIDNet.yaml"
   ]
  },
  {
   "cell_type": "code",
   "execution_count": null,
   "metadata": {
    "colab": {
     "base_uri": "https://localhost:8080/"
    },
    "executionInfo": {
     "elapsed": 519,
     "status": "ok",
     "timestamp": 1733391679712,
     "user": {
      "displayName": "윤여진",
      "userId": "15272112293797387179"
     },
     "user_tz": -540
    },
    "id": "e9wLWLkMu51h",
    "outputId": "4910c4e7-6b17-4c78-e2c3-ab7ef7dd0e72"
   },
   "outputs": [
    {
     "name": "stdout",
     "output_type": "stream",
     "text": [
      "\n",
      "train: /content/drive/MyDrive/CCTV-People-Dataset/train/Low_Brightness_Extreme/CIDNet/images\n",
      "val: /content/drive/MyDrive/CCTV-People-Dataset/valid/Low_Brightness_Extreme/CIDNet/images\n",
      "test: ../test/images\n",
      "\n",
      "nc: 1\n",
      "names: ['Human pose estimation']\n",
      "\n",
      "roboflow:\n",
      "  workspace: project-wk4fq\n",
      "  project: cctv-people\n",
      "  version: 1\n",
      "  license: CC BY 4.0\n",
      "  url: https://universe.roboflow.com/project-wk4fq/cctv-people/dataset/1\n"
     ]
    }
   ],
   "source": [
    "# data_extreme_CID.yaml 파일 작성\n",
    "\n",
    "yaml_content = \"\"\"\n",
    "train: /content/drive/MyDrive/CCTV-People-Dataset/train/Low_Brightness_Extreme/CIDNet/images\n",
    "val: /content/drive/MyDrive/CCTV-People-Dataset/valid/Low_Brightness_Extreme/CIDNet/images\n",
    "test: ../test/images\n",
    "\n",
    "nc: 1\n",
    "names: ['Human pose estimation']\n",
    "\n",
    "roboflow:\n",
    "  workspace: project-wk4fq\n",
    "  project: cctv-people\n",
    "  version: 1\n",
    "  license: CC BY 4.0\n",
    "  url: https://universe.roboflow.com/project-wk4fq/cctv-people/dataset/1\n",
    "\"\"\"\n",
    "\n",
    "# 파일 저장\n",
    "with open('/content/drive/MyDrive/CCTV-People-Dataset/yaml/data_extreme_CIDNet.yaml', 'w') as f:\n",
    "    f.write(yaml_content)\n",
    "\n",
    "# 저장된 파일 확인\n",
    "!cat /content/drive/MyDrive/CCTV-People-Dataset/yaml/data_extreme_CIDNet.yaml"
   ]
  },
  {
   "cell_type": "markdown",
   "metadata": {
    "id": "7eXyR016vE7I"
   },
   "source": [
    "# **yolo**"
   ]
  },
  {
   "cell_type": "markdown",
   "metadata": {
    "id": "jO0OY24x7sBD"
   },
   "source": [
    "**train**"
   ]
  },
  {
   "cell_type": "code",
   "execution_count": 7,
   "metadata": {
    "colab": {
     "base_uri": "https://localhost:8080/"
    },
    "executionInfo": {
     "elapsed": 11901,
     "status": "ok",
     "timestamp": 1733391695280,
     "user": {
      "displayName": "윤여진",
      "userId": "15272112293797387179"
     },
     "user_tz": -540
    },
    "id": "4peng09RqOvL",
    "outputId": "2acc908e-8d26-4d02-8241-c3847ea6c511"
   },
   "outputs": [
    {
     "name": "stdout",
     "output_type": "stream",
     "text": [
      "Ultralytics 8.3.40 🚀 Python-3.10.12 torch-2.5.1+cu121 CUDA:0 (Tesla T4, 15102MiB)\n",
      "Setup complete ✅ (2 CPUs, 12.7 GB RAM, 32.7/112.6 GB disk)\n"
     ]
    }
   ],
   "source": [
    "%pip install ultralytics\n",
    "import ultralytics\n",
    "ultralytics.checks()"
   ]
  },
  {
   "cell_type": "code",
   "execution_count": null,
   "metadata": {
    "executionInfo": {
     "elapsed": 434450,
     "status": "ok",
     "timestamp": 1733392316995,
     "user": {
      "displayName": "윤여진",
      "userId": "15272112293797387179"
     },
     "user_tz": -540
    },
    "id": "m2JLqNPOBKjI"
   },
   "outputs": [],
   "source": [
    "# train 이미지에 라벨 복사\n",
    "\n",
    "import os\n",
    "import shutil\n",
    "\n",
    "# 원본 라벨 폴더\n",
    "labels_folder = \"/content/drive/MyDrive/CCTV-People-Dataset/train/Original/labels\"\n",
    "\n",
    "# 저조도 이미지 폴더들\n",
    "low_brightness_folders = [\n",
    "    \"/content/drive/MyDrive/CCTV-People-Dataset/train/Low_Brightness_Moderate/CIDNet\",\n",
    "    \"/content/drive/MyDrive/CCTV-People-Dataset/train/Low_Brightness_Severe/CIDNet\",\n",
    "    \"/content/drive/MyDrive/CCTV-People-Dataset/train/Low_Brightness_Extreme/CIDNet\",\n",
    "]\n",
    "\n",
    "# 각 저조도 폴더에 라벨 복사\n",
    "for folder in low_brightness_folders:\n",
    "    images_folder = os.path.join(folder, \"images\")\n",
    "    labels_output_folder = os.path.join(folder, \"labels\")\n",
    "\n",
    "    # 라벨 저장 폴더가 없으면 생성\n",
    "    os.makedirs(labels_output_folder, exist_ok=True)\n",
    "\n",
    "    # 이미지 파일 이름에 맞는 라벨 복사\n",
    "    for image_file in os.listdir(images_folder):\n",
    "        if image_file.endswith(\".jpg\"):  # 이미지 파일만 처리\n",
    "            label_file = image_file.replace(\".jpg\", \".txt\")  # 라벨 파일 이름\n",
    "            src_label_path = os.path.join(labels_folder, label_file)\n",
    "            dst_label_path = os.path.join(labels_output_folder, label_file)\n",
    "\n",
    "            # 라벨 파일 복사\n",
    "            if os.path.exists(src_label_path):\n",
    "                shutil.copy(src_label_path, dst_label_path)\n",
    "            else:\n",
    "                print(f\"Label not found for {image_file}\")"
   ]
  },
  {
   "cell_type": "code",
   "execution_count": null,
   "metadata": {
    "executionInfo": {
     "elapsed": 148027,
     "status": "ok",
     "timestamp": 1733392470498,
     "user": {
      "displayName": "윤여진",
      "userId": "15272112293797387179"
     },
     "user_tz": -540
    },
    "id": "OZTg6M4HDSaI"
   },
   "outputs": [],
   "source": [
    "# valid 이미지에 라벨 복사\n",
    "\n",
    "import os\n",
    "import shutil\n",
    "\n",
    "# 원본 라벨 폴더\n",
    "labels_folder = \"/content/drive/MyDrive/CCTV-People-Dataset/valid/Original/labels\"\n",
    "\n",
    "# 저조도 이미지 폴더들\n",
    "low_brightness_folders = [\n",
    "    \"/content/drive/MyDrive/CCTV-People-Dataset/valid/Low_Brightness_Moderate/CIDNet\",\n",
    "    \"/content/drive/MyDrive/CCTV-People-Dataset/valid/Low_Brightness_Severe/CIDNet\",\n",
    "    \"/content/drive/MyDrive/CCTV-People-Dataset/valid/Low_Brightness_Extreme/CIDNet\",\n",
    "]\n",
    "\n",
    "# 각 저조도 폴더에 라벨 복사\n",
    "for folder in low_brightness_folders:\n",
    "    images_folder = os.path.join(folder, \"images\")\n",
    "    labels_output_folder = os.path.join(folder, \"labels\")\n",
    "\n",
    "    # 라벨 저장 폴더가 없으면 생성\n",
    "    os.makedirs(labels_output_folder, exist_ok=True)\n",
    "\n",
    "    # 이미지 파일 이름에 맞는 라벨 복사\n",
    "    for image_file in os.listdir(images_folder):\n",
    "        if image_file.endswith(\".jpg\"):  # 이미지 파일만 처리\n",
    "            label_file = image_file.replace(\".jpg\", \".txt\")  # 라벨 파일 이름\n",
    "            src_label_path = os.path.join(labels_folder, label_file)\n",
    "            dst_label_path = os.path.join(labels_output_folder, label_file)\n",
    "\n",
    "            # 라벨 파일 복사\n",
    "            if os.path.exists(src_label_path):\n",
    "                shutil.copy(src_label_path, dst_label_path)\n",
    "            else:\n",
    "                print(f\"Label not found for {image_file}\")"
   ]
  },
  {
   "cell_type": "code",
   "execution_count": null,
   "metadata": {
    "colab": {
     "base_uri": "https://localhost:8080/"
    },
    "executionInfo": {
     "elapsed": 1537727,
     "status": "ok",
     "timestamp": 1733394646835,
     "user": {
      "displayName": "윤여진",
      "userId": "15272112293797387179"
     },
     "user_tz": -540
    },
    "id": "AlJVgG11Bsy6",
    "outputId": "658d94f8-a7b2-4513-bec6-930b82ffc3be"
   },
   "outputs": [
    {
     "name": "stdout",
     "output_type": "stream",
     "text": [
      "Ultralytics 8.3.40 🚀 Python-3.10.12 torch-2.5.1+cu121 CUDA:0 (Tesla T4, 15102MiB)\n",
      "\u001b[34m\u001b[1mengine/trainer: \u001b[0mtask=detect, mode=train, model=yolo11n.pt, data=/content/drive/MyDrive/CCTV-People-Dataset/yaml/data_moderate_CIDNet.yaml, epochs=25, time=None, patience=100, batch=16, imgsz=640, save=True, save_period=5, cache=False, device=None, workers=8, project=/content/drive/MyDrive/CCTV-People-Dataset/runs/train, name=moderate, exist_ok=False, pretrained=True, optimizer=auto, verbose=True, seed=0, deterministic=True, single_cls=False, rect=False, cos_lr=False, close_mosaic=10, resume=False, amp=True, fraction=1.0, profile=False, freeze=None, multi_scale=False, overlap_mask=True, mask_ratio=4, dropout=0.0, val=True, split=val, save_json=False, save_hybrid=False, conf=None, iou=0.7, max_det=300, half=False, dnn=False, plots=True, source=None, vid_stride=1, stream_buffer=False, visualize=False, augment=False, agnostic_nms=False, classes=None, retina_masks=False, embed=None, show=False, save_frames=False, save_txt=False, save_conf=False, save_crop=False, show_labels=True, show_conf=True, show_boxes=True, line_width=None, format=torchscript, keras=False, optimize=False, int8=False, dynamic=False, simplify=True, opset=None, workspace=None, nms=False, lr0=0.001, lrf=0.01, momentum=0.937, weight_decay=0.0005, warmup_epochs=3.0, warmup_momentum=0.8, warmup_bias_lr=0.1, box=7.5, cls=0.5, dfl=1.5, pose=12.0, kobj=1.0, nbs=64, hsv_h=0.015, hsv_s=0.7, hsv_v=0.4, degrees=0.0, translate=0.1, scale=0.5, shear=0.0, perspective=0.0, flipud=0.0, fliplr=0.5, bgr=0.0, mosaic=1.0, mixup=0.0, copy_paste=0.0, copy_paste_mode=flip, auto_augment=randaugment, erasing=0.4, crop_fraction=1.0, cfg=None, tracker=botsort.yaml, save_dir=/content/drive/MyDrive/CCTV-People-Dataset/runs/train/moderate\n",
      "Overriding model.yaml nc=80 with nc=1\n",
      "\n",
      "                   from  n    params  module                                       arguments                     \n",
      "  0                  -1  1       464  ultralytics.nn.modules.conv.Conv             [3, 16, 3, 2]                 \n",
      "  1                  -1  1      4672  ultralytics.nn.modules.conv.Conv             [16, 32, 3, 2]                \n",
      "  2                  -1  1      6640  ultralytics.nn.modules.block.C3k2            [32, 64, 1, False, 0.25]      \n",
      "  3                  -1  1     36992  ultralytics.nn.modules.conv.Conv             [64, 64, 3, 2]                \n",
      "  4                  -1  1     26080  ultralytics.nn.modules.block.C3k2            [64, 128, 1, False, 0.25]     \n",
      "  5                  -1  1    147712  ultralytics.nn.modules.conv.Conv             [128, 128, 3, 2]              \n",
      "  6                  -1  1     87040  ultralytics.nn.modules.block.C3k2            [128, 128, 1, True]           \n",
      "  7                  -1  1    295424  ultralytics.nn.modules.conv.Conv             [128, 256, 3, 2]              \n",
      "  8                  -1  1    346112  ultralytics.nn.modules.block.C3k2            [256, 256, 1, True]           \n",
      "  9                  -1  1    164608  ultralytics.nn.modules.block.SPPF            [256, 256, 5]                 \n",
      " 10                  -1  1    249728  ultralytics.nn.modules.block.C2PSA           [256, 256, 1]                 \n",
      " 11                  -1  1         0  torch.nn.modules.upsampling.Upsample         [None, 2, 'nearest']          \n",
      " 12             [-1, 6]  1         0  ultralytics.nn.modules.conv.Concat           [1]                           \n",
      " 13                  -1  1    111296  ultralytics.nn.modules.block.C3k2            [384, 128, 1, False]          \n",
      " 14                  -1  1         0  torch.nn.modules.upsampling.Upsample         [None, 2, 'nearest']          \n",
      " 15             [-1, 4]  1         0  ultralytics.nn.modules.conv.Concat           [1]                           \n",
      " 16                  -1  1     32096  ultralytics.nn.modules.block.C3k2            [256, 64, 1, False]           \n",
      " 17                  -1  1     36992  ultralytics.nn.modules.conv.Conv             [64, 64, 3, 2]                \n",
      " 18            [-1, 13]  1         0  ultralytics.nn.modules.conv.Concat           [1]                           \n",
      " 19                  -1  1     86720  ultralytics.nn.modules.block.C3k2            [192, 128, 1, False]          \n",
      " 20                  -1  1    147712  ultralytics.nn.modules.conv.Conv             [128, 128, 3, 2]              \n",
      " 21            [-1, 10]  1         0  ultralytics.nn.modules.conv.Concat           [1]                           \n",
      " 22                  -1  1    378880  ultralytics.nn.modules.block.C3k2            [384, 256, 1, True]           \n",
      " 23        [16, 19, 22]  1    430867  ultralytics.nn.modules.head.Detect           [1, [64, 128, 256]]           \n",
      "YOLO11n summary: 319 layers, 2,590,035 parameters, 2,590,019 gradients, 6.4 GFLOPs\n",
      "\n",
      "Transferred 448/499 items from pretrained weights\n",
      "\u001b[34m\u001b[1mTensorBoard: \u001b[0mStart with 'tensorboard --logdir /content/drive/MyDrive/CCTV-People-Dataset/runs/train/moderate', view at http://localhost:6006/\n",
      "Freezing layer 'model.23.dfl.conv.weight'\n",
      "\u001b[34m\u001b[1mAMP: \u001b[0mrunning Automatic Mixed Precision (AMP) checks...\n",
      "\u001b[34m\u001b[1mAMP: \u001b[0mchecks passed ✅\n",
      "\u001b[34m\u001b[1mtrain: \u001b[0mScanning /content/drive/MyDrive/CCTV-People-Dataset/train/Low_Brightness_Moderate/CIDNet/labels... 525 images, 0 backgrounds, 0 corrupt: 100% 525/525 [00:15<00:00, 34.22it/s]\n",
      "\u001b[34m\u001b[1mtrain: \u001b[0mNew cache created: /content/drive/MyDrive/CCTV-People-Dataset/train/Low_Brightness_Moderate/CIDNet/labels.cache\n",
      "/usr/local/lib/python3.10/dist-packages/albumentations/__init__.py:24: UserWarning: A new version of Albumentations is available: 1.4.21 (you have 1.4.20). Upgrade using: pip install -U albumentations. To disable automatic update checks, set the environment variable NO_ALBUMENTATIONS_UPDATE to 1.\n",
      "  check_for_updates()\n",
      "\u001b[34m\u001b[1malbumentations: \u001b[0mBlur(p=0.01, blur_limit=(3, 7)), MedianBlur(p=0.01, blur_limit=(3, 7)), ToGray(p=0.01, num_output_channels=3, method='weighted_average'), CLAHE(p=0.01, clip_limit=(1.0, 4.0), tile_grid_size=(8, 8))\n",
      "\u001b[34m\u001b[1mval: \u001b[0mScanning /content/drive/MyDrive/CCTV-People-Dataset/valid/Low_Brightness_Moderate/CIDNet/labels... 175 images, 0 backgrounds, 0 corrupt: 100% 175/175 [00:08<00:00, 19.62it/s]\n",
      "\u001b[34m\u001b[1mval: \u001b[0mNew cache created: /content/drive/MyDrive/CCTV-People-Dataset/valid/Low_Brightness_Moderate/CIDNet/labels.cache\n",
      "Plotting labels to /content/drive/MyDrive/CCTV-People-Dataset/runs/train/moderate/labels.jpg... \n",
      "\u001b[34m\u001b[1moptimizer:\u001b[0m 'optimizer=auto' found, ignoring 'lr0=0.001' and 'momentum=0.937' and determining best 'optimizer', 'lr0' and 'momentum' automatically... \n",
      "\u001b[34m\u001b[1moptimizer:\u001b[0m AdamW(lr=0.002, momentum=0.9) with parameter groups 81 weight(decay=0.0), 88 weight(decay=0.0005), 87 bias(decay=0.0)\n",
      "\u001b[34m\u001b[1mTensorBoard: \u001b[0mmodel graph visualization added ✅\n",
      "Image sizes 640 train, 640 val\n",
      "Using 2 dataloader workers\n",
      "Logging results to \u001b[1m/content/drive/MyDrive/CCTV-People-Dataset/runs/train/moderate\u001b[0m\n",
      "Starting training for 25 epochs...\n",
      "\n",
      "      Epoch    GPU_mem   box_loss   cls_loss   dfl_loss  Instances       Size\n",
      "       1/25      2.58G      2.186      3.277      1.778         26        640: 100% 33/33 [00:14<00:00,  2.25it/s]\n",
      "                 Class     Images  Instances      Box(P          R      mAP50  mAP50-95): 100% 6/6 [00:03<00:00,  1.77it/s]\n",
      "                   all        175        227    0.00204      0.471    0.00208   0.000795\n",
      "\n",
      "      Epoch    GPU_mem   box_loss   cls_loss   dfl_loss  Instances       Size\n",
      "       2/25      2.36G      2.042      2.785      1.688         21        640: 100% 33/33 [00:14<00:00,  2.32it/s]\n",
      "                 Class     Images  Instances      Box(P          R      mAP50  mAP50-95): 100% 6/6 [00:02<00:00,  2.21it/s]\n",
      "                   all        175        227       0.54     0.0441     0.0737     0.0214\n",
      "\n",
      "      Epoch    GPU_mem   box_loss   cls_loss   dfl_loss  Instances       Size\n",
      "       3/25      2.36G       2.09      2.697      1.758         30        640: 100% 33/33 [00:12<00:00,  2.56it/s]\n",
      "                 Class     Images  Instances      Box(P          R      mAP50  mAP50-95): 100% 6/6 [00:02<00:00,  2.38it/s]\n",
      "                   all        175        227      0.244      0.123     0.0927     0.0304\n",
      "\n",
      "      Epoch    GPU_mem   box_loss   cls_loss   dfl_loss  Instances       Size\n",
      "       4/25      2.38G      2.004       2.43      1.706         29        640: 100% 33/33 [00:13<00:00,  2.47it/s]\n",
      "                 Class     Images  Instances      Box(P          R      mAP50  mAP50-95): 100% 6/6 [00:02<00:00,  2.51it/s]\n",
      "                   all        175        227       0.31      0.203      0.182     0.0729\n",
      "\n",
      "      Epoch    GPU_mem   box_loss   cls_loss   dfl_loss  Instances       Size\n",
      "       5/25      2.36G       2.05      2.378      1.748         20        640: 100% 33/33 [00:13<00:00,  2.44it/s]\n",
      "                 Class     Images  Instances      Box(P          R      mAP50  mAP50-95): 100% 6/6 [00:01<00:00,  3.01it/s]\n",
      "                   all        175        227      0.402      0.405      0.376      0.149\n",
      "\n",
      "      Epoch    GPU_mem   box_loss   cls_loss   dfl_loss  Instances       Size\n",
      "       6/25      2.38G      1.973      2.179      1.715         27        640: 100% 33/33 [00:13<00:00,  2.42it/s]\n",
      "                 Class     Images  Instances      Box(P          R      mAP50  mAP50-95): 100% 6/6 [00:02<00:00,  2.76it/s]\n",
      "                   all        175        227      0.564       0.37      0.409      0.175\n",
      "\n",
      "      Epoch    GPU_mem   box_loss   cls_loss   dfl_loss  Instances       Size\n",
      "       7/25      2.36G      1.894      2.067      1.655         32        640: 100% 33/33 [00:14<00:00,  2.33it/s]\n",
      "                 Class     Images  Instances      Box(P          R      mAP50  mAP50-95): 100% 6/6 [00:02<00:00,  2.51it/s]\n",
      "                   all        175        227      0.499      0.449      0.455      0.203\n",
      "\n",
      "      Epoch    GPU_mem   box_loss   cls_loss   dfl_loss  Instances       Size\n",
      "       8/25      2.37G      1.942      2.019      1.714         22        640: 100% 33/33 [00:14<00:00,  2.30it/s]\n",
      "                 Class     Images  Instances      Box(P          R      mAP50  mAP50-95): 100% 6/6 [00:01<00:00,  3.39it/s]\n",
      "                   all        175        227      0.669      0.423      0.491      0.239\n",
      "\n",
      "      Epoch    GPU_mem   box_loss   cls_loss   dfl_loss  Instances       Size\n",
      "       9/25      2.36G      1.915      1.937      1.727         27        640: 100% 33/33 [00:14<00:00,  2.34it/s]\n",
      "                 Class     Images  Instances      Box(P          R      mAP50  mAP50-95): 100% 6/6 [00:02<00:00,  2.86it/s]\n",
      "                   all        175        227      0.686      0.507      0.572       0.28\n",
      "\n",
      "      Epoch    GPU_mem   box_loss   cls_loss   dfl_loss  Instances       Size\n",
      "      10/25      2.37G       1.88      1.904      1.674         29        640: 100% 33/33 [00:14<00:00,  2.30it/s]\n",
      "                 Class     Images  Instances      Box(P          R      mAP50  mAP50-95): 100% 6/6 [00:02<00:00,  2.65it/s]\n",
      "                   all        175        227      0.566      0.489      0.503      0.247\n",
      "\n",
      "      Epoch    GPU_mem   box_loss   cls_loss   dfl_loss  Instances       Size\n",
      "      11/25      2.36G      1.794      1.789        1.6         30        640: 100% 33/33 [00:14<00:00,  2.28it/s]\n",
      "                 Class     Images  Instances      Box(P          R      mAP50  mAP50-95): 100% 6/6 [00:02<00:00,  2.88it/s]\n",
      "                   all        175        227      0.777      0.533      0.621      0.302\n",
      "\n",
      "      Epoch    GPU_mem   box_loss   cls_loss   dfl_loss  Instances       Size\n",
      "      12/25      2.37G      1.806      1.706      1.607         24        640: 100% 33/33 [00:14<00:00,  2.34it/s]\n",
      "                 Class     Images  Instances      Box(P          R      mAP50  mAP50-95): 100% 6/6 [00:02<00:00,  2.99it/s]\n",
      "                   all        175        227      0.678      0.538      0.599      0.291\n",
      "\n",
      "      Epoch    GPU_mem   box_loss   cls_loss   dfl_loss  Instances       Size\n",
      "      13/25      2.36G      1.801      1.776      1.598         21        640: 100% 33/33 [00:14<00:00,  2.30it/s]\n",
      "                 Class     Images  Instances      Box(P          R      mAP50  mAP50-95): 100% 6/6 [00:02<00:00,  2.62it/s]\n",
      "                   all        175        227      0.737      0.559      0.652      0.331\n",
      "\n",
      "      Epoch    GPU_mem   box_loss   cls_loss   dfl_loss  Instances       Size\n",
      "      14/25      2.37G      1.719      1.649      1.536         27        640: 100% 33/33 [00:14<00:00,  2.25it/s]\n",
      "                 Class     Images  Instances      Box(P          R      mAP50  mAP50-95): 100% 6/6 [00:02<00:00,  2.46it/s]\n",
      "                   all        175        227      0.741      0.639      0.696      0.344\n",
      "\n",
      "      Epoch    GPU_mem   box_loss   cls_loss   dfl_loss  Instances       Size\n",
      "      15/25      2.36G      1.706      1.593      1.519         20        640: 100% 33/33 [00:14<00:00,  2.35it/s]\n",
      "                 Class     Images  Instances      Box(P          R      mAP50  mAP50-95): 100% 6/6 [00:02<00:00,  2.62it/s]\n",
      "                   all        175        227      0.822      0.564      0.694      0.368\n",
      "Closing dataloader mosaic\n",
      "\u001b[34m\u001b[1malbumentations: \u001b[0mBlur(p=0.01, blur_limit=(3, 7)), MedianBlur(p=0.01, blur_limit=(3, 7)), ToGray(p=0.01, num_output_channels=3, method='weighted_average'), CLAHE(p=0.01, clip_limit=(1.0, 4.0), tile_grid_size=(8, 8))\n",
      "\n",
      "      Epoch    GPU_mem   box_loss   cls_loss   dfl_loss  Instances       Size\n",
      "      16/25      2.54G      1.637      1.571      1.559         17        640: 100% 33/33 [00:16<00:00,  2.06it/s]\n",
      "                 Class     Images  Instances      Box(P          R      mAP50  mAP50-95): 100% 6/6 [00:02<00:00,  2.72it/s]\n",
      "                   all        175        227      0.688      0.572      0.641      0.322\n",
      "\n",
      "      Epoch    GPU_mem   box_loss   cls_loss   dfl_loss  Instances       Size\n",
      "      17/25      2.36G      1.607      1.431      1.519         18        640: 100% 33/33 [00:13<00:00,  2.36it/s]\n",
      "                 Class     Images  Instances      Box(P          R      mAP50  mAP50-95): 100% 6/6 [00:01<00:00,  3.10it/s]\n",
      "                   all        175        227      0.789      0.609      0.701      0.358\n",
      "\n",
      "      Epoch    GPU_mem   box_loss   cls_loss   dfl_loss  Instances       Size\n",
      "      18/25      2.37G      1.556      1.356      1.514         17        640: 100% 33/33 [00:11<00:00,  2.75it/s]\n",
      "                 Class     Images  Instances      Box(P          R      mAP50  mAP50-95): 100% 6/6 [00:03<00:00,  1.56it/s]\n",
      "                   all        175        227      0.809      0.636      0.713      0.389\n",
      "\n",
      "      Epoch    GPU_mem   box_loss   cls_loss   dfl_loss  Instances       Size\n",
      "      19/25      2.36G      1.552      1.361       1.48         19        640: 100% 33/33 [00:11<00:00,  2.96it/s]\n",
      "                 Class     Images  Instances      Box(P          R      mAP50  mAP50-95): 100% 6/6 [00:03<00:00,  1.55it/s]\n",
      "                   all        175        227      0.832      0.656      0.757      0.421\n",
      "\n",
      "      Epoch    GPU_mem   box_loss   cls_loss   dfl_loss  Instances       Size\n",
      "      20/25      2.36G      1.546       1.27      1.483         19        640: 100% 33/33 [00:10<00:00,  3.04it/s]\n",
      "                 Class     Images  Instances      Box(P          R      mAP50  mAP50-95): 100% 6/6 [00:03<00:00,  1.98it/s]\n",
      "                   all        175        227      0.855      0.661      0.773      0.422\n",
      "\n",
      "      Epoch    GPU_mem   box_loss   cls_loss   dfl_loss  Instances       Size\n",
      "      21/25      2.36G      1.466      1.227      1.414         16        640: 100% 33/33 [00:11<00:00,  2.76it/s]\n",
      "                 Class     Images  Instances      Box(P          R      mAP50  mAP50-95): 100% 6/6 [00:01<00:00,  3.11it/s]\n",
      "                   all        175        227      0.791      0.701       0.76       0.43\n",
      "\n",
      "      Epoch    GPU_mem   box_loss   cls_loss   dfl_loss  Instances       Size\n",
      "      22/25      2.37G      1.419      1.194      1.379         16        640: 100% 33/33 [00:13<00:00,  2.52it/s]\n",
      "                 Class     Images  Instances      Box(P          R      mAP50  mAP50-95): 100% 6/6 [00:01<00:00,  3.02it/s]\n",
      "                   all        175        227       0.82      0.682      0.774      0.433\n",
      "\n",
      "      Epoch    GPU_mem   box_loss   cls_loss   dfl_loss  Instances       Size\n",
      "      23/25      2.36G      1.431      1.162      1.402         15        640: 100% 33/33 [00:14<00:00,  2.32it/s]\n",
      "                 Class     Images  Instances      Box(P          R      mAP50  mAP50-95): 100% 6/6 [00:02<00:00,  2.79it/s]\n",
      "                   all        175        227      0.775      0.712      0.777      0.445\n",
      "\n",
      "      Epoch    GPU_mem   box_loss   cls_loss   dfl_loss  Instances       Size\n",
      "      24/25      2.36G      1.394      1.141      1.366         16        640: 100% 33/33 [00:14<00:00,  2.30it/s]\n",
      "                 Class     Images  Instances      Box(P          R      mAP50  mAP50-95): 100% 6/6 [00:01<00:00,  3.11it/s]\n",
      "                   all        175        227      0.845      0.672      0.788      0.441\n",
      "\n",
      "      Epoch    GPU_mem   box_loss   cls_loss   dfl_loss  Instances       Size\n",
      "      25/25      2.36G      1.373      1.089      1.346         15        640: 100% 33/33 [00:14<00:00,  2.29it/s]\n",
      "                 Class     Images  Instances      Box(P          R      mAP50  mAP50-95): 100% 6/6 [00:01<00:00,  3.16it/s]\n",
      "                   all        175        227      0.788      0.714      0.793      0.451\n",
      "\n",
      "25 epochs completed in 0.124 hours.\n",
      "Optimizer stripped from /content/drive/MyDrive/CCTV-People-Dataset/runs/train/moderate/weights/last.pt, 5.5MB\n",
      "Optimizer stripped from /content/drive/MyDrive/CCTV-People-Dataset/runs/train/moderate/weights/best.pt, 5.5MB\n",
      "\n",
      "Validating /content/drive/MyDrive/CCTV-People-Dataset/runs/train/moderate/weights/best.pt...\n",
      "Ultralytics 8.3.40 🚀 Python-3.10.12 torch-2.5.1+cu121 CUDA:0 (Tesla T4, 15102MiB)\n",
      "YOLO11n summary (fused): 238 layers, 2,582,347 parameters, 0 gradients, 6.3 GFLOPs\n",
      "                 Class     Images  Instances      Box(P          R      mAP50  mAP50-95): 100% 6/6 [00:04<00:00,  1.50it/s]\n",
      "                   all        175        227       0.79      0.709      0.794       0.45\n",
      "Speed: 0.4ms preprocess, 3.4ms inference, 0.0ms loss, 5.1ms postprocess per image\n",
      "Results saved to \u001b[1m/content/drive/MyDrive/CCTV-People-Dataset/runs/train/moderate\u001b[0m\n",
      "💡 Learn more at https://docs.ultralytics.com/modes/train\n",
      "Ultralytics 8.3.40 🚀 Python-3.10.12 torch-2.5.1+cu121 CUDA:0 (Tesla T4, 15102MiB)\n",
      "\u001b[34m\u001b[1mengine/trainer: \u001b[0mtask=detect, mode=train, model=yolo11n.pt, data=/content/drive/MyDrive/CCTV-People-Dataset/yaml/data_severe_CIDNet.yaml, epochs=25, time=None, patience=100, batch=16, imgsz=640, save=True, save_period=5, cache=False, device=None, workers=8, project=/content/drive/MyDrive/CCTV-People-Dataset/runs/train, name=severe, exist_ok=False, pretrained=True, optimizer=auto, verbose=True, seed=0, deterministic=True, single_cls=False, rect=False, cos_lr=False, close_mosaic=10, resume=False, amp=True, fraction=1.0, profile=False, freeze=None, multi_scale=False, overlap_mask=True, mask_ratio=4, dropout=0.0, val=True, split=val, save_json=False, save_hybrid=False, conf=None, iou=0.7, max_det=300, half=False, dnn=False, plots=True, source=None, vid_stride=1, stream_buffer=False, visualize=False, augment=False, agnostic_nms=False, classes=None, retina_masks=False, embed=None, show=False, save_frames=False, save_txt=False, save_conf=False, save_crop=False, show_labels=True, show_conf=True, show_boxes=True, line_width=None, format=torchscript, keras=False, optimize=False, int8=False, dynamic=False, simplify=True, opset=None, workspace=None, nms=False, lr0=0.001, lrf=0.01, momentum=0.937, weight_decay=0.0005, warmup_epochs=3.0, warmup_momentum=0.8, warmup_bias_lr=0.1, box=7.5, cls=0.5, dfl=1.5, pose=12.0, kobj=1.0, nbs=64, hsv_h=0.015, hsv_s=0.7, hsv_v=0.4, degrees=0.0, translate=0.1, scale=0.5, shear=0.0, perspective=0.0, flipud=0.0, fliplr=0.5, bgr=0.0, mosaic=1.0, mixup=0.0, copy_paste=0.0, copy_paste_mode=flip, auto_augment=randaugment, erasing=0.4, crop_fraction=1.0, cfg=None, tracker=botsort.yaml, save_dir=/content/drive/MyDrive/CCTV-People-Dataset/runs/train/severe\n",
      "Overriding model.yaml nc=80 with nc=1\n",
      "\n",
      "                   from  n    params  module                                       arguments                     \n",
      "  0                  -1  1       464  ultralytics.nn.modules.conv.Conv             [3, 16, 3, 2]                 \n",
      "  1                  -1  1      4672  ultralytics.nn.modules.conv.Conv             [16, 32, 3, 2]                \n",
      "  2                  -1  1      6640  ultralytics.nn.modules.block.C3k2            [32, 64, 1, False, 0.25]      \n",
      "  3                  -1  1     36992  ultralytics.nn.modules.conv.Conv             [64, 64, 3, 2]                \n",
      "  4                  -1  1     26080  ultralytics.nn.modules.block.C3k2            [64, 128, 1, False, 0.25]     \n",
      "  5                  -1  1    147712  ultralytics.nn.modules.conv.Conv             [128, 128, 3, 2]              \n",
      "  6                  -1  1     87040  ultralytics.nn.modules.block.C3k2            [128, 128, 1, True]           \n",
      "  7                  -1  1    295424  ultralytics.nn.modules.conv.Conv             [128, 256, 3, 2]              \n",
      "  8                  -1  1    346112  ultralytics.nn.modules.block.C3k2            [256, 256, 1, True]           \n",
      "  9                  -1  1    164608  ultralytics.nn.modules.block.SPPF            [256, 256, 5]                 \n",
      " 10                  -1  1    249728  ultralytics.nn.modules.block.C2PSA           [256, 256, 1]                 \n",
      " 11                  -1  1         0  torch.nn.modules.upsampling.Upsample         [None, 2, 'nearest']          \n",
      " 12             [-1, 6]  1         0  ultralytics.nn.modules.conv.Concat           [1]                           \n",
      " 13                  -1  1    111296  ultralytics.nn.modules.block.C3k2            [384, 128, 1, False]          \n",
      " 14                  -1  1         0  torch.nn.modules.upsampling.Upsample         [None, 2, 'nearest']          \n",
      " 15             [-1, 4]  1         0  ultralytics.nn.modules.conv.Concat           [1]                           \n",
      " 16                  -1  1     32096  ultralytics.nn.modules.block.C3k2            [256, 64, 1, False]           \n",
      " 17                  -1  1     36992  ultralytics.nn.modules.conv.Conv             [64, 64, 3, 2]                \n",
      " 18            [-1, 13]  1         0  ultralytics.nn.modules.conv.Concat           [1]                           \n",
      " 19                  -1  1     86720  ultralytics.nn.modules.block.C3k2            [192, 128, 1, False]          \n",
      " 20                  -1  1    147712  ultralytics.nn.modules.conv.Conv             [128, 128, 3, 2]              \n",
      " 21            [-1, 10]  1         0  ultralytics.nn.modules.conv.Concat           [1]                           \n",
      " 22                  -1  1    378880  ultralytics.nn.modules.block.C3k2            [384, 256, 1, True]           \n",
      " 23        [16, 19, 22]  1    430867  ultralytics.nn.modules.head.Detect           [1, [64, 128, 256]]           \n",
      "YOLO11n summary: 319 layers, 2,590,035 parameters, 2,590,019 gradients, 6.4 GFLOPs\n",
      "\n",
      "Transferred 448/499 items from pretrained weights\n",
      "\u001b[34m\u001b[1mTensorBoard: \u001b[0mStart with 'tensorboard --logdir /content/drive/MyDrive/CCTV-People-Dataset/runs/train/severe', view at http://localhost:6006/\n",
      "Freezing layer 'model.23.dfl.conv.weight'\n",
      "\u001b[34m\u001b[1mAMP: \u001b[0mrunning Automatic Mixed Precision (AMP) checks...\n",
      "\u001b[34m\u001b[1mAMP: \u001b[0mchecks passed ✅\n",
      "\u001b[34m\u001b[1mtrain: \u001b[0mScanning /content/drive/MyDrive/CCTV-People-Dataset/train/Low_Brightness_Severe/CIDNet/labels... 525 images, 0 backgrounds, 0 corrupt: 100% 525/525 [00:17<00:00, 30.55it/s]\n",
      "\u001b[34m\u001b[1mtrain: \u001b[0mNew cache created: /content/drive/MyDrive/CCTV-People-Dataset/train/Low_Brightness_Severe/CIDNet/labels.cache\n",
      "/usr/local/lib/python3.10/dist-packages/albumentations/__init__.py:24: UserWarning: A new version of Albumentations is available: 1.4.21 (you have 1.4.20). Upgrade using: pip install -U albumentations. To disable automatic update checks, set the environment variable NO_ALBUMENTATIONS_UPDATE to 1.\n",
      "  check_for_updates()\n",
      "\u001b[34m\u001b[1malbumentations: \u001b[0mBlur(p=0.01, blur_limit=(3, 7)), MedianBlur(p=0.01, blur_limit=(3, 7)), ToGray(p=0.01, num_output_channels=3, method='weighted_average'), CLAHE(p=0.01, clip_limit=(1.0, 4.0), tile_grid_size=(8, 8))\n",
      "\u001b[34m\u001b[1mval: \u001b[0mScanning /content/drive/MyDrive/CCTV-People-Dataset/valid/Low_Brightness_Severe/CIDNet/labels... 175 images, 0 backgrounds, 0 corrupt: 100% 175/175 [00:06<00:00, 27.73it/s]\n",
      "\u001b[34m\u001b[1mval: \u001b[0mNew cache created: /content/drive/MyDrive/CCTV-People-Dataset/valid/Low_Brightness_Severe/CIDNet/labels.cache\n",
      "Plotting labels to /content/drive/MyDrive/CCTV-People-Dataset/runs/train/severe/labels.jpg... \n",
      "\u001b[34m\u001b[1moptimizer:\u001b[0m 'optimizer=auto' found, ignoring 'lr0=0.001' and 'momentum=0.937' and determining best 'optimizer', 'lr0' and 'momentum' automatically... \n",
      "\u001b[34m\u001b[1moptimizer:\u001b[0m AdamW(lr=0.002, momentum=0.9) with parameter groups 81 weight(decay=0.0), 88 weight(decay=0.0005), 87 bias(decay=0.0)\n",
      "\u001b[34m\u001b[1mTensorBoard: \u001b[0mmodel graph visualization added ✅\n",
      "Image sizes 640 train, 640 val\n",
      "Using 2 dataloader workers\n",
      "Logging results to \u001b[1m/content/drive/MyDrive/CCTV-People-Dataset/runs/train/severe\u001b[0m\n",
      "Starting training for 25 epochs...\n",
      "\n",
      "      Epoch    GPU_mem   box_loss   cls_loss   dfl_loss  Instances       Size\n",
      "       1/25      2.48G      2.264      3.438      1.837         26        640: 100% 33/33 [00:14<00:00,  2.22it/s]\n",
      "                 Class     Images  Instances      Box(P          R      mAP50  mAP50-95): 100% 6/6 [00:04<00:00,  1.36it/s]\n",
      "                   all        175        227    0.00269      0.621     0.0207    0.00932\n",
      "\n",
      "      Epoch    GPU_mem   box_loss   cls_loss   dfl_loss  Instances       Size\n",
      "       2/25      2.36G      2.125      2.854       1.76         21        640: 100% 33/33 [00:11<00:00,  2.76it/s]\n",
      "                 Class     Images  Instances      Box(P          R      mAP50  mAP50-95): 100% 6/6 [00:03<00:00,  1.94it/s]\n",
      "                   all        175        227      0.365      0.167      0.135     0.0403\n",
      "\n",
      "      Epoch    GPU_mem   box_loss   cls_loss   dfl_loss  Instances       Size\n",
      "       3/25      2.36G      2.108      2.749      1.795         30        640: 100% 33/33 [00:13<00:00,  2.44it/s]\n",
      "                 Class     Images  Instances      Box(P          R      mAP50  mAP50-95): 100% 6/6 [00:02<00:00,  2.69it/s]\n",
      "                   all        175        227      0.322        0.1     0.0681     0.0207\n",
      "\n",
      "      Epoch    GPU_mem   box_loss   cls_loss   dfl_loss  Instances       Size\n",
      "       4/25      2.38G      2.097      2.559      1.786         29        640: 100% 33/33 [00:14<00:00,  2.26it/s]\n",
      "                 Class     Images  Instances      Box(P          R      mAP50  mAP50-95): 100% 6/6 [00:02<00:00,  2.59it/s]\n",
      "                   all        175        227      0.317      0.181      0.175      0.066\n",
      "\n",
      "      Epoch    GPU_mem   box_loss   cls_loss   dfl_loss  Instances       Size\n",
      "       5/25      2.36G      2.051      2.473      1.781         20        640: 100% 33/33 [00:14<00:00,  2.29it/s]\n",
      "                 Class     Images  Instances      Box(P          R      mAP50  mAP50-95): 100% 6/6 [00:02<00:00,  2.66it/s]\n",
      "                   all        175        227     0.0328     0.0661     0.0141    0.00575\n",
      "\n",
      "      Epoch    GPU_mem   box_loss   cls_loss   dfl_loss  Instances       Size\n",
      "       6/25      2.39G      2.007       2.26      1.751         27        640: 100% 33/33 [00:13<00:00,  2.37it/s]\n",
      "                 Class     Images  Instances      Box(P          R      mAP50  mAP50-95): 100% 6/6 [00:02<00:00,  2.51it/s]\n",
      "                   all        175        227      0.328      0.225      0.154     0.0533\n",
      "\n",
      "      Epoch    GPU_mem   box_loss   cls_loss   dfl_loss  Instances       Size\n",
      "       7/25      2.36G      1.951      2.126      1.711         32        640: 100% 33/33 [00:13<00:00,  2.36it/s]\n",
      "                 Class     Images  Instances      Box(P          R      mAP50  mAP50-95): 100% 6/6 [00:02<00:00,  2.62it/s]\n",
      "                   all        175        227      0.623      0.379      0.416      0.165\n",
      "\n",
      "      Epoch    GPU_mem   box_loss   cls_loss   dfl_loss  Instances       Size\n",
      "       8/25      2.36G       1.99      2.093      1.762         22        640: 100% 33/33 [00:14<00:00,  2.23it/s]\n",
      "                 Class     Images  Instances      Box(P          R      mAP50  mAP50-95): 100% 6/6 [00:01<00:00,  3.07it/s]\n",
      "                   all        175        227      0.586      0.486      0.552      0.246\n",
      "\n",
      "      Epoch    GPU_mem   box_loss   cls_loss   dfl_loss  Instances       Size\n",
      "       9/25      2.36G      1.942      1.972      1.721         27        640: 100% 33/33 [00:14<00:00,  2.27it/s]\n",
      "                 Class     Images  Instances      Box(P          R      mAP50  mAP50-95): 100% 6/6 [00:02<00:00,  2.96it/s]\n",
      "                   all        175        227      0.644      0.519      0.551       0.24\n",
      "\n",
      "      Epoch    GPU_mem   box_loss   cls_loss   dfl_loss  Instances       Size\n",
      "      10/25      2.37G      1.943      1.972      1.704         29        640: 100% 33/33 [00:14<00:00,  2.33it/s]\n",
      "                 Class     Images  Instances      Box(P          R      mAP50  mAP50-95): 100% 6/6 [00:02<00:00,  2.45it/s]\n",
      "                   all        175        227      0.569      0.537      0.545      0.261\n",
      "\n",
      "      Epoch    GPU_mem   box_loss   cls_loss   dfl_loss  Instances       Size\n",
      "      11/25      2.36G      1.858      1.825      1.634         30        640: 100% 33/33 [00:14<00:00,  2.22it/s]\n",
      "                 Class     Images  Instances      Box(P          R      mAP50  mAP50-95): 100% 6/6 [00:02<00:00,  2.90it/s]\n",
      "                   all        175        227      0.681      0.592      0.627        0.3\n",
      "\n",
      "      Epoch    GPU_mem   box_loss   cls_loss   dfl_loss  Instances       Size\n",
      "      12/25      2.36G      1.809      1.806      1.603         24        640: 100% 33/33 [00:14<00:00,  2.28it/s]\n",
      "                 Class     Images  Instances      Box(P          R      mAP50  mAP50-95): 100% 6/6 [00:02<00:00,  2.62it/s]\n",
      "                   all        175        227      0.718      0.586      0.652      0.307\n",
      "\n",
      "      Epoch    GPU_mem   box_loss   cls_loss   dfl_loss  Instances       Size\n",
      "      13/25      2.36G      1.847       1.86      1.636         21        640: 100% 33/33 [00:14<00:00,  2.30it/s]\n",
      "                 Class     Images  Instances      Box(P          R      mAP50  mAP50-95): 100% 6/6 [00:02<00:00,  2.68it/s]\n",
      "                   all        175        227      0.668      0.559      0.623      0.289\n",
      "\n",
      "      Epoch    GPU_mem   box_loss   cls_loss   dfl_loss  Instances       Size\n",
      "      14/25      2.37G      1.822      1.692      1.609         27        640: 100% 33/33 [00:16<00:00,  1.95it/s]\n",
      "                 Class     Images  Instances      Box(P          R      mAP50  mAP50-95): 100% 6/6 [00:03<00:00,  1.78it/s]\n",
      "                   all        175        227      0.845      0.553      0.689      0.342\n",
      "\n",
      "      Epoch    GPU_mem   box_loss   cls_loss   dfl_loss  Instances       Size\n",
      "      15/25      2.36G      1.753      1.643      1.574         20        640: 100% 33/33 [00:15<00:00,  2.08it/s]\n",
      "                 Class     Images  Instances      Box(P          R      mAP50  mAP50-95): 100% 6/6 [00:01<00:00,  3.01it/s]\n",
      "                   all        175        227      0.708      0.565       0.63      0.311\n",
      "Closing dataloader mosaic\n",
      "\u001b[34m\u001b[1malbumentations: \u001b[0mBlur(p=0.01, blur_limit=(3, 7)), MedianBlur(p=0.01, blur_limit=(3, 7)), ToGray(p=0.01, num_output_channels=3, method='weighted_average'), CLAHE(p=0.01, clip_limit=(1.0, 4.0), tile_grid_size=(8, 8))\n",
      "\n",
      "      Epoch    GPU_mem   box_loss   cls_loss   dfl_loss  Instances       Size\n",
      "      16/25      2.54G      1.731      1.682      1.617         17        640: 100% 33/33 [00:16<00:00,  2.00it/s]\n",
      "                 Class     Images  Instances      Box(P          R      mAP50  mAP50-95): 100% 6/6 [00:02<00:00,  2.86it/s]\n",
      "                   all        175        227      0.735      0.588      0.669       0.34\n",
      "\n",
      "      Epoch    GPU_mem   box_loss   cls_loss   dfl_loss  Instances       Size\n",
      "      17/25      2.36G      1.655      1.491       1.55         18        640: 100% 33/33 [00:14<00:00,  2.29it/s]\n",
      "                 Class     Images  Instances      Box(P          R      mAP50  mAP50-95): 100% 6/6 [00:01<00:00,  3.04it/s]\n",
      "                   all        175        227      0.841      0.604      0.707      0.355\n",
      "\n",
      "      Epoch    GPU_mem   box_loss   cls_loss   dfl_loss  Instances       Size\n",
      "      18/25      2.37G      1.608       1.46      1.552         17        640: 100% 33/33 [00:14<00:00,  2.26it/s]\n",
      "                 Class     Images  Instances      Box(P          R      mAP50  mAP50-95): 100% 6/6 [00:02<00:00,  2.80it/s]\n",
      "                   all        175        227      0.809      0.634      0.729      0.379\n",
      "\n",
      "      Epoch    GPU_mem   box_loss   cls_loss   dfl_loss  Instances       Size\n",
      "      19/25      2.36G      1.603      1.395      1.499         19        640: 100% 33/33 [00:13<00:00,  2.44it/s]\n",
      "                 Class     Images  Instances      Box(P          R      mAP50  mAP50-95): 100% 6/6 [00:02<00:00,  2.97it/s]\n",
      "                   all        175        227      0.828      0.634      0.744      0.383\n",
      "\n",
      "      Epoch    GPU_mem   box_loss   cls_loss   dfl_loss  Instances       Size\n",
      "      20/25      2.36G      1.569      1.329      1.488         19        640: 100% 33/33 [00:14<00:00,  2.29it/s]\n",
      "                 Class     Images  Instances      Box(P          R      mAP50  mAP50-95): 100% 6/6 [00:02<00:00,  2.87it/s]\n",
      "                   all        175        227      0.768      0.692      0.772      0.399\n",
      "\n",
      "      Epoch    GPU_mem   box_loss   cls_loss   dfl_loss  Instances       Size\n",
      "      21/25      2.36G      1.532       1.29      1.463         16        640: 100% 33/33 [00:13<00:00,  2.47it/s]\n",
      "                 Class     Images  Instances      Box(P          R      mAP50  mAP50-95): 100% 6/6 [00:02<00:00,  2.12it/s]\n",
      "                   all        175        227      0.836      0.665      0.758      0.424\n",
      "\n",
      "      Epoch    GPU_mem   box_loss   cls_loss   dfl_loss  Instances       Size\n",
      "      22/25      2.37G      1.488      1.248      1.449         16        640: 100% 33/33 [00:11<00:00,  2.75it/s]\n",
      "                 Class     Images  Instances      Box(P          R      mAP50  mAP50-95): 100% 6/6 [00:04<00:00,  1.39it/s]\n",
      "                   all        175        227      0.858       0.64       0.77      0.428\n",
      "\n",
      "      Epoch    GPU_mem   box_loss   cls_loss   dfl_loss  Instances       Size\n",
      "      23/25      2.36G      1.492      1.211      1.457         15        640: 100% 33/33 [00:10<00:00,  3.02it/s]\n",
      "                 Class     Images  Instances      Box(P          R      mAP50  mAP50-95): 100% 6/6 [00:03<00:00,  1.81it/s]\n",
      "                   all        175        227       0.77      0.737      0.789      0.451\n",
      "\n",
      "      Epoch    GPU_mem   box_loss   cls_loss   dfl_loss  Instances       Size\n",
      "      24/25      2.36G      1.458        1.2      1.417         16        640: 100% 33/33 [00:11<00:00,  2.89it/s]\n",
      "                 Class     Images  Instances      Box(P          R      mAP50  mAP50-95): 100% 6/6 [00:02<00:00,  2.53it/s]\n",
      "                   all        175        227      0.809      0.711      0.791      0.445\n",
      "\n",
      "      Epoch    GPU_mem   box_loss   cls_loss   dfl_loss  Instances       Size\n",
      "      25/25      2.36G       1.42      1.162        1.4         15        640: 100% 33/33 [00:13<00:00,  2.44it/s]\n",
      "                 Class     Images  Instances      Box(P          R      mAP50  mAP50-95): 100% 6/6 [00:02<00:00,  2.91it/s]\n",
      "                   all        175        227      0.799      0.722      0.791      0.455\n",
      "\n",
      "25 epochs completed in 0.128 hours.\n",
      "Optimizer stripped from /content/drive/MyDrive/CCTV-People-Dataset/runs/train/severe/weights/last.pt, 5.5MB\n",
      "Optimizer stripped from /content/drive/MyDrive/CCTV-People-Dataset/runs/train/severe/weights/best.pt, 5.5MB\n",
      "\n",
      "Validating /content/drive/MyDrive/CCTV-People-Dataset/runs/train/severe/weights/best.pt...\n",
      "Ultralytics 8.3.40 🚀 Python-3.10.12 torch-2.5.1+cu121 CUDA:0 (Tesla T4, 15102MiB)\n",
      "YOLO11n summary (fused): 238 layers, 2,582,347 parameters, 0 gradients, 6.3 GFLOPs\n",
      "                 Class     Images  Instances      Box(P          R      mAP50  mAP50-95): 100% 6/6 [00:06<00:00,  1.13s/it]\n",
      "                   all        175        227      0.797      0.727      0.791      0.455\n",
      "Speed: 0.4ms preprocess, 4.6ms inference, 0.0ms loss, 7.8ms postprocess per image\n",
      "Results saved to \u001b[1m/content/drive/MyDrive/CCTV-People-Dataset/runs/train/severe\u001b[0m\n",
      "💡 Learn more at https://docs.ultralytics.com/modes/train\n",
      "Ultralytics 8.3.40 🚀 Python-3.10.12 torch-2.5.1+cu121 CUDA:0 (Tesla T4, 15102MiB)\n",
      "\u001b[34m\u001b[1mengine/trainer: \u001b[0mtask=detect, mode=train, model=yolo11n.pt, data=/content/drive/MyDrive/CCTV-People-Dataset/yaml/data_extreme_CIDNet.yaml, epochs=25, time=None, patience=100, batch=16, imgsz=640, save=True, save_period=5, cache=False, device=None, workers=8, project=/content/drive/MyDrive/CCTV-People-Dataset/runs/train, name=extreme, exist_ok=False, pretrained=True, optimizer=auto, verbose=True, seed=0, deterministic=True, single_cls=False, rect=False, cos_lr=False, close_mosaic=10, resume=False, amp=True, fraction=1.0, profile=False, freeze=None, multi_scale=False, overlap_mask=True, mask_ratio=4, dropout=0.0, val=True, split=val, save_json=False, save_hybrid=False, conf=None, iou=0.7, max_det=300, half=False, dnn=False, plots=True, source=None, vid_stride=1, stream_buffer=False, visualize=False, augment=False, agnostic_nms=False, classes=None, retina_masks=False, embed=None, show=False, save_frames=False, save_txt=False, save_conf=False, save_crop=False, show_labels=True, show_conf=True, show_boxes=True, line_width=None, format=torchscript, keras=False, optimize=False, int8=False, dynamic=False, simplify=True, opset=None, workspace=None, nms=False, lr0=0.001, lrf=0.01, momentum=0.937, weight_decay=0.0005, warmup_epochs=3.0, warmup_momentum=0.8, warmup_bias_lr=0.1, box=7.5, cls=0.5, dfl=1.5, pose=12.0, kobj=1.0, nbs=64, hsv_h=0.015, hsv_s=0.7, hsv_v=0.4, degrees=0.0, translate=0.1, scale=0.5, shear=0.0, perspective=0.0, flipud=0.0, fliplr=0.5, bgr=0.0, mosaic=1.0, mixup=0.0, copy_paste=0.0, copy_paste_mode=flip, auto_augment=randaugment, erasing=0.4, crop_fraction=1.0, cfg=None, tracker=botsort.yaml, save_dir=/content/drive/MyDrive/CCTV-People-Dataset/runs/train/extreme\n",
      "Overriding model.yaml nc=80 with nc=1\n",
      "\n",
      "                   from  n    params  module                                       arguments                     \n",
      "  0                  -1  1       464  ultralytics.nn.modules.conv.Conv             [3, 16, 3, 2]                 \n",
      "  1                  -1  1      4672  ultralytics.nn.modules.conv.Conv             [16, 32, 3, 2]                \n",
      "  2                  -1  1      6640  ultralytics.nn.modules.block.C3k2            [32, 64, 1, False, 0.25]      \n",
      "  3                  -1  1     36992  ultralytics.nn.modules.conv.Conv             [64, 64, 3, 2]                \n",
      "  4                  -1  1     26080  ultralytics.nn.modules.block.C3k2            [64, 128, 1, False, 0.25]     \n",
      "  5                  -1  1    147712  ultralytics.nn.modules.conv.Conv             [128, 128, 3, 2]              \n",
      "  6                  -1  1     87040  ultralytics.nn.modules.block.C3k2            [128, 128, 1, True]           \n",
      "  7                  -1  1    295424  ultralytics.nn.modules.conv.Conv             [128, 256, 3, 2]              \n",
      "  8                  -1  1    346112  ultralytics.nn.modules.block.C3k2            [256, 256, 1, True]           \n",
      "  9                  -1  1    164608  ultralytics.nn.modules.block.SPPF            [256, 256, 5]                 \n",
      " 10                  -1  1    249728  ultralytics.nn.modules.block.C2PSA           [256, 256, 1]                 \n",
      " 11                  -1  1         0  torch.nn.modules.upsampling.Upsample         [None, 2, 'nearest']          \n",
      " 12             [-1, 6]  1         0  ultralytics.nn.modules.conv.Concat           [1]                           \n",
      " 13                  -1  1    111296  ultralytics.nn.modules.block.C3k2            [384, 128, 1, False]          \n",
      " 14                  -1  1         0  torch.nn.modules.upsampling.Upsample         [None, 2, 'nearest']          \n",
      " 15             [-1, 4]  1         0  ultralytics.nn.modules.conv.Concat           [1]                           \n",
      " 16                  -1  1     32096  ultralytics.nn.modules.block.C3k2            [256, 64, 1, False]           \n",
      " 17                  -1  1     36992  ultralytics.nn.modules.conv.Conv             [64, 64, 3, 2]                \n",
      " 18            [-1, 13]  1         0  ultralytics.nn.modules.conv.Concat           [1]                           \n",
      " 19                  -1  1     86720  ultralytics.nn.modules.block.C3k2            [192, 128, 1, False]          \n",
      " 20                  -1  1    147712  ultralytics.nn.modules.conv.Conv             [128, 128, 3, 2]              \n",
      " 21            [-1, 10]  1         0  ultralytics.nn.modules.conv.Concat           [1]                           \n",
      " 22                  -1  1    378880  ultralytics.nn.modules.block.C3k2            [384, 256, 1, True]           \n",
      " 23        [16, 19, 22]  1    430867  ultralytics.nn.modules.head.Detect           [1, [64, 128, 256]]           \n",
      "YOLO11n summary: 319 layers, 2,590,035 parameters, 2,590,019 gradients, 6.4 GFLOPs\n",
      "\n",
      "Transferred 448/499 items from pretrained weights\n",
      "\u001b[34m\u001b[1mTensorBoard: \u001b[0mStart with 'tensorboard --logdir /content/drive/MyDrive/CCTV-People-Dataset/runs/train/extreme', view at http://localhost:6006/\n",
      "Freezing layer 'model.23.dfl.conv.weight'\n",
      "\u001b[34m\u001b[1mAMP: \u001b[0mrunning Automatic Mixed Precision (AMP) checks...\n",
      "\u001b[34m\u001b[1mAMP: \u001b[0mchecks passed ✅\n",
      "\u001b[34m\u001b[1mtrain: \u001b[0mScanning /content/drive/MyDrive/CCTV-People-Dataset/train/Low_Brightness_Extreme/CIDNet/labels... 525 images, 0 backgrounds, 0 corrupt: 100% 525/525 [00:20<00:00, 25.58it/s] \n",
      "\u001b[34m\u001b[1mtrain: \u001b[0mNew cache created: /content/drive/MyDrive/CCTV-People-Dataset/train/Low_Brightness_Extreme/CIDNet/labels.cache\n",
      "/usr/local/lib/python3.10/dist-packages/albumentations/__init__.py:24: UserWarning: A new version of Albumentations is available: 1.4.21 (you have 1.4.20). Upgrade using: pip install -U albumentations. To disable automatic update checks, set the environment variable NO_ALBUMENTATIONS_UPDATE to 1.\n",
      "  check_for_updates()\n",
      "\u001b[34m\u001b[1malbumentations: \u001b[0mBlur(p=0.01, blur_limit=(3, 7)), MedianBlur(p=0.01, blur_limit=(3, 7)), ToGray(p=0.01, num_output_channels=3, method='weighted_average'), CLAHE(p=0.01, clip_limit=(1.0, 4.0), tile_grid_size=(8, 8))\n",
      "\u001b[34m\u001b[1mval: \u001b[0mScanning /content/drive/MyDrive/CCTV-People-Dataset/valid/Low_Brightness_Extreme/CIDNet/labels... 175 images, 0 backgrounds, 0 corrupt: 100% 175/175 [00:06<00:00, 25.37it/s]\n",
      "\u001b[34m\u001b[1mval: \u001b[0mNew cache created: /content/drive/MyDrive/CCTV-People-Dataset/valid/Low_Brightness_Extreme/CIDNet/labels.cache\n",
      "Plotting labels to /content/drive/MyDrive/CCTV-People-Dataset/runs/train/extreme/labels.jpg... \n",
      "\u001b[34m\u001b[1moptimizer:\u001b[0m 'optimizer=auto' found, ignoring 'lr0=0.001' and 'momentum=0.937' and determining best 'optimizer', 'lr0' and 'momentum' automatically... \n",
      "\u001b[34m\u001b[1moptimizer:\u001b[0m AdamW(lr=0.002, momentum=0.9) with parameter groups 81 weight(decay=0.0), 88 weight(decay=0.0005), 87 bias(decay=0.0)\n",
      "\u001b[34m\u001b[1mTensorBoard: \u001b[0mmodel graph visualization added ✅\n",
      "Image sizes 640 train, 640 val\n",
      "Using 2 dataloader workers\n",
      "Logging results to \u001b[1m/content/drive/MyDrive/CCTV-People-Dataset/runs/train/extreme\u001b[0m\n",
      "Starting training for 25 epochs...\n",
      "\n",
      "      Epoch    GPU_mem   box_loss   cls_loss   dfl_loss  Instances       Size\n",
      "       1/25      2.58G      2.483      3.764      2.049         26        640: 100% 33/33 [00:17<00:00,  1.84it/s]\n",
      "                 Class     Images  Instances      Box(P          R      mAP50  mAP50-95): 100% 6/6 [00:02<00:00,  2.58it/s]\n",
      "                   all        175        227    0.00284      0.656      0.123     0.0514\n",
      "\n",
      "      Epoch    GPU_mem   box_loss   cls_loss   dfl_loss  Instances       Size\n",
      "       2/25      2.36G      2.296      3.232      1.904         21        640: 100% 33/33 [00:16<00:00,  2.05it/s]\n",
      "                 Class     Images  Instances      Box(P          R      mAP50  mAP50-95): 100% 6/6 [00:02<00:00,  2.30it/s]\n",
      "                   all        175        227      0.215      0.123     0.0723     0.0228\n",
      "\n",
      "      Epoch    GPU_mem   box_loss   cls_loss   dfl_loss  Instances       Size\n",
      "       3/25      2.36G      2.266      3.065      1.922         30        640: 100% 33/33 [00:14<00:00,  2.24it/s]\n",
      "                 Class     Images  Instances      Box(P          R      mAP50  mAP50-95): 100% 6/6 [00:02<00:00,  2.33it/s]\n",
      "                   all        175        227       0.21       0.11     0.0766     0.0203\n",
      "\n",
      "      Epoch    GPU_mem   box_loss   cls_loss   dfl_loss  Instances       Size\n",
      "       4/25      2.38G      2.211      2.815      1.902         29        640: 100% 33/33 [00:15<00:00,  2.07it/s]\n",
      "                 Class     Images  Instances      Box(P          R      mAP50  mAP50-95): 100% 6/6 [00:02<00:00,  2.65it/s]\n",
      "                   all        175        227      0.135      0.119     0.0612     0.0197\n",
      "\n",
      "      Epoch    GPU_mem   box_loss   cls_loss   dfl_loss  Instances       Size\n",
      "       5/25      2.36G      2.171      2.661      1.892         20        640: 100% 33/33 [00:14<00:00,  2.35it/s]\n",
      "                 Class     Images  Instances      Box(P          R      mAP50  mAP50-95): 100% 6/6 [00:01<00:00,  3.12it/s]\n",
      "                   all        175        227      0.358      0.211      0.196     0.0665\n",
      "\n",
      "      Epoch    GPU_mem   box_loss   cls_loss   dfl_loss  Instances       Size\n",
      "       6/25      2.39G      2.188      2.514      1.877         27        640: 100% 33/33 [00:14<00:00,  2.28it/s]\n",
      "                 Class     Images  Instances      Box(P          R      mAP50  mAP50-95): 100% 6/6 [00:02<00:00,  2.57it/s]\n",
      "                   all        175        227      0.323      0.203       0.15     0.0581\n",
      "\n",
      "      Epoch    GPU_mem   box_loss   cls_loss   dfl_loss  Instances       Size\n",
      "       7/25      2.36G      2.111      2.419      1.834         32        640: 100% 33/33 [00:13<00:00,  2.37it/s]\n",
      "                 Class     Images  Instances      Box(P          R      mAP50  mAP50-95): 100% 6/6 [00:02<00:00,  2.43it/s]\n",
      "                   all        175        227       0.35      0.265      0.237     0.0937\n",
      "\n",
      "      Epoch    GPU_mem   box_loss   cls_loss   dfl_loss  Instances       Size\n",
      "       8/25      2.36G      2.102      2.398      1.886         22        640: 100% 33/33 [00:14<00:00,  2.25it/s]\n",
      "                 Class     Images  Instances      Box(P          R      mAP50  mAP50-95): 100% 6/6 [00:02<00:00,  2.95it/s]\n",
      "                   all        175        227      0.484      0.366      0.383      0.159\n",
      "\n",
      "      Epoch    GPU_mem   box_loss   cls_loss   dfl_loss  Instances       Size\n",
      "       9/25      2.36G      2.064      2.248       1.85         27        640: 100% 33/33 [00:14<00:00,  2.33it/s]\n",
      "                 Class     Images  Instances      Box(P          R      mAP50  mAP50-95): 100% 6/6 [00:02<00:00,  2.57it/s]\n",
      "                   all        175        227      0.553      0.374      0.365      0.152\n",
      "\n",
      "      Epoch    GPU_mem   box_loss   cls_loss   dfl_loss  Instances       Size\n",
      "      10/25      2.37G      2.056      2.242      1.813         29        640: 100% 33/33 [00:14<00:00,  2.20it/s]\n",
      "                 Class     Images  Instances      Box(P          R      mAP50  mAP50-95): 100% 6/6 [00:02<00:00,  2.85it/s]\n",
      "                   all        175        227       0.47      0.414      0.356      0.148\n",
      "\n",
      "      Epoch    GPU_mem   box_loss   cls_loss   dfl_loss  Instances       Size\n",
      "      11/25      2.36G      1.998      2.096      1.757         30        640: 100% 33/33 [00:15<00:00,  2.15it/s]\n",
      "                 Class     Images  Instances      Box(P          R      mAP50  mAP50-95): 100% 6/6 [00:02<00:00,  2.59it/s]\n",
      "                   all        175        227      0.631      0.436      0.508      0.236\n",
      "\n",
      "      Epoch    GPU_mem   box_loss   cls_loss   dfl_loss  Instances       Size\n",
      "      12/25      2.36G       1.96      1.997      1.744         24        640: 100% 33/33 [00:14<00:00,  2.24it/s]\n",
      "                 Class     Images  Instances      Box(P          R      mAP50  mAP50-95): 100% 6/6 [00:02<00:00,  2.55it/s]\n",
      "                   all        175        227      0.683      0.493      0.564       0.26\n",
      "\n",
      "      Epoch    GPU_mem   box_loss   cls_loss   dfl_loss  Instances       Size\n",
      "      13/25      2.36G      2.018      2.086      1.792         21        640: 100% 33/33 [00:14<00:00,  2.31it/s]\n",
      "                 Class     Images  Instances      Box(P          R      mAP50  mAP50-95): 100% 6/6 [00:02<00:00,  2.71it/s]\n",
      "                   all        175        227      0.568      0.489      0.539      0.251\n",
      "\n",
      "      Epoch    GPU_mem   box_loss   cls_loss   dfl_loss  Instances       Size\n",
      "      14/25      2.37G      1.874      1.899       1.69         27        640: 100% 33/33 [00:14<00:00,  2.26it/s]\n",
      "                 Class     Images  Instances      Box(P          R      mAP50  mAP50-95): 100% 6/6 [00:02<00:00,  2.92it/s]\n",
      "                   all        175        227      0.749      0.454      0.571      0.269\n",
      "\n",
      "      Epoch    GPU_mem   box_loss   cls_loss   dfl_loss  Instances       Size\n",
      "      15/25      2.36G      1.903      1.886      1.703         20        640: 100% 33/33 [00:13<00:00,  2.39it/s]\n",
      "                 Class     Images  Instances      Box(P          R      mAP50  mAP50-95): 100% 6/6 [00:02<00:00,  2.51it/s]\n",
      "                   all        175        227      0.666      0.502      0.558      0.269\n",
      "Closing dataloader mosaic\n",
      "\u001b[34m\u001b[1malbumentations: \u001b[0mBlur(p=0.01, blur_limit=(3, 7)), MedianBlur(p=0.01, blur_limit=(3, 7)), ToGray(p=0.01, num_output_channels=3, method='weighted_average'), CLAHE(p=0.01, clip_limit=(1.0, 4.0), tile_grid_size=(8, 8))\n",
      "\n",
      "      Epoch    GPU_mem   box_loss   cls_loss   dfl_loss  Instances       Size\n",
      "      16/25      2.54G      1.856      1.899      1.772         17        640: 100% 33/33 [00:16<00:00,  1.97it/s]\n",
      "                 Class     Images  Instances      Box(P          R      mAP50  mAP50-95): 100% 6/6 [00:01<00:00,  3.26it/s]\n",
      "                   all        175        227       0.64      0.392      0.459      0.207\n",
      "\n",
      "      Epoch    GPU_mem   box_loss   cls_loss   dfl_loss  Instances       Size\n",
      "      17/25      2.36G      1.842      1.792      1.734         18        640: 100% 33/33 [00:13<00:00,  2.44it/s]\n",
      "                 Class     Images  Instances      Box(P          R      mAP50  mAP50-95): 100% 6/6 [00:03<00:00,  1.81it/s]\n",
      "                   all        175        227      0.723       0.52      0.602      0.285\n",
      "\n",
      "      Epoch    GPU_mem   box_loss   cls_loss   dfl_loss  Instances       Size\n",
      "      18/25      2.37G      1.759       1.72      1.723         17        640: 100% 33/33 [00:12<00:00,  2.54it/s]\n",
      "                 Class     Images  Instances      Box(P          R      mAP50  mAP50-95): 100% 6/6 [00:03<00:00,  1.63it/s]\n",
      "                   all        175        227      0.644      0.564      0.601      0.298\n",
      "\n",
      "      Epoch    GPU_mem   box_loss   cls_loss   dfl_loss  Instances       Size\n",
      "      19/25      2.36G      1.754      1.627      1.708         19        640: 100% 33/33 [00:11<00:00,  2.75it/s]\n",
      "                 Class     Images  Instances      Box(P          R      mAP50  mAP50-95): 100% 6/6 [00:04<00:00,  1.39it/s]\n",
      "                   all        175        227      0.708      0.576      0.646      0.321\n",
      "\n",
      "      Epoch    GPU_mem   box_loss   cls_loss   dfl_loss  Instances       Size\n",
      "      20/25      2.36G      1.732      1.577       1.69         19        640: 100% 33/33 [00:12<00:00,  2.74it/s]\n",
      "                 Class     Images  Instances      Box(P          R      mAP50  mAP50-95): 100% 6/6 [00:03<00:00,  1.51it/s]\n",
      "                   all        175        227      0.758      0.573      0.666      0.338\n",
      "\n",
      "      Epoch    GPU_mem   box_loss   cls_loss   dfl_loss  Instances       Size\n",
      "      21/25      2.36G      1.682       1.53      1.636         16        640: 100% 33/33 [00:11<00:00,  2.77it/s]\n",
      "                 Class     Images  Instances      Box(P          R      mAP50  mAP50-95): 100% 6/6 [00:03<00:00,  1.85it/s]\n",
      "                   all        175        227      0.788      0.555      0.645      0.335\n",
      "\n",
      "      Epoch    GPU_mem   box_loss   cls_loss   dfl_loss  Instances       Size\n",
      "      22/25      2.37G       1.66      1.514      1.625         16        640: 100% 33/33 [00:13<00:00,  2.48it/s]\n",
      "                 Class     Images  Instances      Box(P          R      mAP50  mAP50-95): 100% 6/6 [00:02<00:00,  2.78it/s]\n",
      "                   all        175        227      0.794      0.559      0.668      0.351\n",
      "\n",
      "      Epoch    GPU_mem   box_loss   cls_loss   dfl_loss  Instances       Size\n",
      "      23/25      2.36G      1.623      1.471      1.594         15        640: 100% 33/33 [00:14<00:00,  2.34it/s]\n",
      "                 Class     Images  Instances      Box(P          R      mAP50  mAP50-95): 100% 6/6 [00:02<00:00,  2.47it/s]\n",
      "                   all        175        227      0.865      0.537       0.67      0.349\n",
      "\n",
      "      Epoch    GPU_mem   box_loss   cls_loss   dfl_loss  Instances       Size\n",
      "      24/25      2.36G      1.617      1.433      1.584         16        640: 100% 33/33 [00:14<00:00,  2.27it/s]\n",
      "                 Class     Images  Instances      Box(P          R      mAP50  mAP50-95): 100% 6/6 [00:02<00:00,  2.56it/s]\n",
      "                   all        175        227      0.847      0.581      0.702      0.361\n",
      "\n",
      "      Epoch    GPU_mem   box_loss   cls_loss   dfl_loss  Instances       Size\n",
      "      25/25      2.36G      1.556      1.377      1.549         15        640: 100% 33/33 [00:15<00:00,  2.17it/s]\n",
      "                 Class     Images  Instances      Box(P          R      mAP50  mAP50-95): 100% 6/6 [00:02<00:00,  2.64it/s]\n",
      "                   all        175        227       0.83      0.603      0.703      0.367\n",
      "\n",
      "25 epochs completed in 0.130 hours.\n",
      "Optimizer stripped from /content/drive/MyDrive/CCTV-People-Dataset/runs/train/extreme/weights/last.pt, 5.5MB\n",
      "Optimizer stripped from /content/drive/MyDrive/CCTV-People-Dataset/runs/train/extreme/weights/best.pt, 5.5MB\n",
      "\n",
      "Validating /content/drive/MyDrive/CCTV-People-Dataset/runs/train/extreme/weights/best.pt...\n",
      "Ultralytics 8.3.40 🚀 Python-3.10.12 torch-2.5.1+cu121 CUDA:0 (Tesla T4, 15102MiB)\n",
      "YOLO11n summary (fused): 238 layers, 2,582,347 parameters, 0 gradients, 6.3 GFLOPs\n",
      "                 Class     Images  Instances      Box(P          R      mAP50  mAP50-95): 100% 6/6 [00:07<00:00,  1.21s/it]\n",
      "                   all        175        227       0.83      0.603      0.703      0.366\n",
      "Speed: 0.4ms preprocess, 5.5ms inference, 0.0ms loss, 7.5ms postprocess per image\n",
      "Results saved to \u001b[1m/content/drive/MyDrive/CCTV-People-Dataset/runs/train/extreme\u001b[0m\n",
      "💡 Learn more at https://docs.ultralytics.com/modes/train\n"
     ]
    }
   ],
   "source": [
    "# moderate 이미지로 학습\n",
    "!yolo train model=yolo11n.pt \\\n",
    "          data=/content/drive/MyDrive/CCTV-People-Dataset/yaml/data_moderate_CIDNet.yaml \\\n",
    "          epochs=25 \\\n",
    "          imgsz=640 \\\n",
    "          batch=16 \\\n",
    "          save_period=5 \\\n",
    "          lr0=0.001 \\\n",
    "          optimizer=auto \\\n",
    "          project=/content/drive/MyDrive/CCTV-People-Dataset/runs/train \\\n",
    "          name=moderate\n",
    "\n",
    "# severe 이미지로 학습\n",
    "!yolo train model=yolo11n.pt \\\n",
    "          data=/content/drive/MyDrive/CCTV-People-Dataset/yaml/data_severe_CIDNet.yaml \\\n",
    "          epochs=25 \\\n",
    "          imgsz=640 \\\n",
    "          batch=16 \\\n",
    "          save_period=5 \\\n",
    "          lr0=0.001 \\\n",
    "          optimizer=auto \\\n",
    "          project=/content/drive/MyDrive/CCTV-People-Dataset/runs/train \\\n",
    "          name=severe\n",
    "\n",
    "# extreme 이미지로 학습\n",
    "!yolo train model=yolo11n.pt \\\n",
    "          data=/content/drive/MyDrive/CCTV-People-Dataset/yaml/data_extreme_CIDNet.yaml \\\n",
    "          epochs=25 \\\n",
    "          imgsz=640 \\\n",
    "          batch=16 \\\n",
    "          save_period=5 \\\n",
    "          lr0=0.001 \\\n",
    "          optimizer=auto \\\n",
    "          project=/content/drive/MyDrive/CCTV-People-Dataset/runs/train \\\n",
    "          name=extreme"
   ]
  },
  {
   "cell_type": "markdown",
   "metadata": {
    "id": "ym6XsoM27vGL"
   },
   "source": [
    "**valid**"
   ]
  },
  {
   "cell_type": "code",
   "execution_count": 19,
   "metadata": {
    "colab": {
     "base_uri": "https://localhost:8080/"
    },
    "executionInfo": {
     "elapsed": 13291,
     "status": "ok",
     "timestamp": 1733394672725,
     "user": {
      "displayName": "윤여진",
      "userId": "15272112293797387179"
     },
     "user_tz": -540
    },
    "id": "AHd9NtgV4bjV",
    "outputId": "8bf8ea22-c6bd-4ac5-983b-171c6d6125e4"
   },
   "outputs": [
    {
     "name": "stdout",
     "output_type": "stream",
     "text": [
      "Ultralytics 8.3.40 🚀 Python-3.10.12 torch-2.5.1+cu121 CUDA:0 (Tesla T4, 15102MiB)\n",
      "YOLO11n summary (fused): 238 layers, 2,582,347 parameters, 0 gradients, 6.3 GFLOPs\n"
     ]
    },
    {
     "name": "stderr",
     "output_type": "stream",
     "text": [
      "\u001b[34m\u001b[1mval: \u001b[0mScanning /content/drive/MyDrive/CCTV-People-Dataset/valid/Original/labels.cache... 175 images, 0 backgrounds, 0 corrupt: 100%|██████████| 175/175 [00:00<?, ?it/s]\n",
      "                 Class     Images  Instances      Box(P          R      mAP50  mAP50-95): 100%|██████████| 11/11 [00:06<00:00,  1.68it/s]\n"
     ]
    },
    {
     "name": "stdout",
     "output_type": "stream",
     "text": [
      "                   all        175        227      0.855      0.755      0.842      0.492\n",
      "Speed: 4.4ms preprocess, 7.9ms inference, 0.0ms loss, 7.6ms postprocess per image\n",
      "Results saved to \u001b[1mruns/detect/val\u001b[0m\n"
     ]
    }
   ],
   "source": [
    "from ultralytics import YOLO\n",
    "\n",
    "# 원본 데이터로 훈련된 모델 평가\n",
    "model_original = YOLO('/content/drive/MyDrive/CCTV-People-Dataset/runs/train/original/weights/best.pt')\n",
    "results_original = model_original.val(data='/content/drive/MyDrive/CCTV-People-Dataset/yaml/data_origin.yaml')"
   ]
  },
  {
   "cell_type": "code",
   "execution_count": null,
   "metadata": {
    "colab": {
     "base_uri": "https://localhost:8080/"
    },
    "executionInfo": {
     "elapsed": 32415,
     "status": "ok",
     "timestamp": 1733394710128,
     "user": {
      "displayName": "윤여진",
      "userId": "15272112293797387179"
     },
     "user_tz": -540
    },
    "id": "mgL2sQj5U-39",
    "outputId": "9050b8ae-de5c-4e77-a4bc-f9ce71163daf"
   },
   "outputs": [
    {
     "name": "stdout",
     "output_type": "stream",
     "text": [
      "Ultralytics 8.3.40 🚀 Python-3.10.12 torch-2.5.1+cu121 CUDA:0 (Tesla T4, 15102MiB)\n",
      "YOLO11n summary (fused): 238 layers, 2,582,347 parameters, 0 gradients, 6.3 GFLOPs\n"
     ]
    },
    {
     "name": "stderr",
     "output_type": "stream",
     "text": [
      "\u001b[34m\u001b[1mval: \u001b[0mScanning /content/drive/MyDrive/CCTV-People-Dataset/valid/Low_Brightness_Moderate/CIDNet/labels.cache... 175 images, 0 backgrounds, 0 corrupt: 100%|██████████| 175/175 [00:00<?, ?it/s]\n",
      "                 Class     Images  Instances      Box(P          R      mAP50  mAP50-95): 100%|██████████| 11/11 [00:06<00:00,  1.58it/s]\n"
     ]
    },
    {
     "name": "stdout",
     "output_type": "stream",
     "text": [
      "                   all        175        227      0.791      0.709      0.795      0.449\n",
      "Speed: 6.8ms preprocess, 6.0ms inference, 0.0ms loss, 4.3ms postprocess per image\n",
      "Results saved to \u001b[1mruns/detect/val2\u001b[0m\n",
      "Ultralytics 8.3.40 🚀 Python-3.10.12 torch-2.5.1+cu121 CUDA:0 (Tesla T4, 15102MiB)\n",
      "YOLO11n summary (fused): 238 layers, 2,582,347 parameters, 0 gradients, 6.3 GFLOPs\n"
     ]
    },
    {
     "name": "stderr",
     "output_type": "stream",
     "text": [
      "\u001b[34m\u001b[1mval: \u001b[0mScanning /content/drive/MyDrive/CCTV-People-Dataset/valid/Low_Brightness_Severe/CIDNet/labels.cache... 175 images, 0 backgrounds, 0 corrupt: 100%|██████████| 175/175 [00:00<?, ?it/s]\n",
      "                 Class     Images  Instances      Box(P          R      mAP50  mAP50-95): 100%|██████████| 11/11 [00:04<00:00,  2.31it/s]\n"
     ]
    },
    {
     "name": "stdout",
     "output_type": "stream",
     "text": [
      "                   all        175        227      0.801      0.725      0.791      0.454\n",
      "Speed: 2.2ms preprocess, 8.1ms inference, 0.0ms loss, 1.9ms postprocess per image\n",
      "Results saved to \u001b[1mruns/detect/val3\u001b[0m\n",
      "Ultralytics 8.3.40 🚀 Python-3.10.12 torch-2.5.1+cu121 CUDA:0 (Tesla T4, 15102MiB)\n",
      "YOLO11n summary (fused): 238 layers, 2,582,347 parameters, 0 gradients, 6.3 GFLOPs\n"
     ]
    },
    {
     "name": "stderr",
     "output_type": "stream",
     "text": [
      "\u001b[34m\u001b[1mval: \u001b[0mScanning /content/drive/MyDrive/CCTV-People-Dataset/valid/Low_Brightness_Extreme/CIDNet/labels.cache... 175 images, 0 backgrounds, 0 corrupt: 100%|██████████| 175/175 [00:00<?, ?it/s]\n",
      "                 Class     Images  Instances      Box(P          R      mAP50  mAP50-95): 100%|██████████| 11/11 [00:07<00:00,  1.39it/s]\n"
     ]
    },
    {
     "name": "stdout",
     "output_type": "stream",
     "text": [
      "                   all        175        227      0.792      0.608        0.7      0.366\n",
      "Speed: 7.6ms preprocess, 6.1ms inference, 0.0ms loss, 4.0ms postprocess per image\n",
      "Results saved to \u001b[1mruns/detect/val4\u001b[0m\n"
     ]
    }
   ],
   "source": [
    "# moderate 저조도\n",
    "model_moderate = YOLO('/content/drive/MyDrive/CCTV-People-Dataset/runs/train/moderate/weights/best.pt')\n",
    "results_moderate = model_moderate.val(data='/content/drive/MyDrive/CCTV-People-Dataset/yaml/data_moderate_CIDNet.yaml')\n",
    "\n",
    "# severe 저조도\n",
    "model_severe = YOLO('/content/drive/MyDrive/CCTV-People-Dataset/runs/train/severe/weights/best.pt')\n",
    "results_severe = model_severe.val(data='/content/drive/MyDrive/CCTV-People-Dataset/yaml/data_severe_CIDNet.yaml')\n",
    "\n",
    "# extreme 저조도\n",
    "model_extreme = YOLO('/content/drive/MyDrive/CCTV-People-Dataset/runs/train/extreme/weights/best.pt')\n",
    "results_extreme = model_extreme.val(data='/content/drive/MyDrive/CCTV-People-Dataset/yaml/data_extreme_CIDNet.yaml')"
   ]
  },
  {
   "cell_type": "code",
   "execution_count": null,
   "metadata": {
    "colab": {
     "base_uri": "https://localhost:8080/"
    },
    "executionInfo": {
     "elapsed": 1525,
     "status": "ok",
     "timestamp": 1733394717957,
     "user": {
      "displayName": "윤여진",
      "userId": "15272112293797387179"
     },
     "user_tz": -540
    },
    "id": "I_v1W10Deaau",
    "outputId": "7c106d6e-cc6a-428c-a6fe-790c5ab508b3"
   },
   "outputs": [
    {
     "name": "stdout",
     "output_type": "stream",
     "text": [
      "/content/runs/detect가 /content/drive/MyDrive/CCTV-People-Dataset/runs/detect로 이동되었습니다.\n"
     ]
    }
   ],
   "source": [
    "# 저장 폴더 이동\n",
    "\n",
    "import shutil\n",
    "\n",
    "source = \"/content/runs/detect\"\n",
    "destination = \"/content/drive/MyDrive/CCTV-People-Dataset/runs/detect\"\n",
    "\n",
    "shutil.move(source, destination)\n",
    "print(f\"{source}가 {destination}로 이동되었습니다.\")"
   ]
  },
  {
   "cell_type": "markdown",
   "metadata": {
    "id": "4PJoIvBIt30D"
   },
   "source": [
    "**평가 지표**\n",
    "\n",
    "현재 데이터셋에 클래스가 하나('person')만 존재하므로, mAP 값과 AP 값은 동일하게 나타남."
   ]
  },
  {
   "cell_type": "code",
   "execution_count": 23,
   "metadata": {
    "colab": {
     "base_uri": "https://localhost:8080/",
     "height": 805
    },
    "executionInfo": {
     "elapsed": 1636,
     "status": "ok",
     "timestamp": 1733394723470,
     "user": {
      "displayName": "윤여진",
      "userId": "15272112293797387179"
     },
     "user_tz": -540
    },
    "id": "0StC48yD9MB4",
    "outputId": "3ef469ad-9213-46d6-aad5-a98f02b749c1"
   },
   "outputs": [
    {
     "name": "stdout",
     "output_type": "stream",
     "text": [
      "  Condition         Precision (P)            Recall (R)     mAP50  mAP50-95\n",
      "0  Original   [0.855274480188526]  [0.7549801159925182]  0.841603  0.491710\n",
      "1  Moderate  [0.7905996670120802]  [0.7092511013215859]  0.794523  0.448979\n",
      "2    Severe  [0.8005762541605106]  [0.7250816818736826]  0.791404  0.454177\n",
      "3   Extreme  [0.7915673364630023]  [0.6079295154185022]  0.700334  0.366045\n"
     ]
    },
    {
     "data": {
      "image/png": "[encoded data removed]",
      "text/plain": [
       "<Figure size 1200x800 with 1 Axes>"
      ]
     },
     "metadata": {},
     "output_type": "display_data"
    }
   ],
   "source": [
    "import pandas as pd\n",
    "import matplotlib.pyplot as plt\n",
    "\n",
    "# YOLO 평가 결과에서 메트릭을 추출합니다.\n",
    "def extract_metrics(result):\n",
    "    metrics = {\n",
    "        \"Precision (P)\": result.box.p,  # 단일 값으로 사용\n",
    "        \"Recall (R)\": result.box.r,     # 단일 값으로 사용\n",
    "        \"mAP50\": result.box.map50,      # 단일 값으로 사용\n",
    "        \"mAP50-95\": result.box.map      # 단일 값으로 사용\n",
    "    }\n",
    "    return metrics\n",
    "\n",
    "# 각 결과로부터 메트릭을 추출합니다.\n",
    "metrics_original = extract_metrics(results_original)\n",
    "metrics_moderate = extract_metrics(results_moderate)\n",
    "metrics_severe = extract_metrics(results_severe)\n",
    "metrics_extreme = extract_metrics(results_extreme)\n",
    "\n",
    "# 결과를 데이터프레임에 저장합니다.\n",
    "data = {\n",
    "    \"Condition\": [\"Original\", \"Moderate\", \"Severe\", \"Extreme\"],\n",
    "    \"Precision (P)\": [metrics_original[\"Precision (P)\"], metrics_moderate[\"Precision (P)\"], metrics_severe[\"Precision (P)\"], metrics_extreme[\"Precision (P)\"]],\n",
    "    \"Recall (R)\": [metrics_original[\"Recall (R)\"], metrics_moderate[\"Recall (R)\"], metrics_severe[\"Recall (R)\"], metrics_extreme[\"Recall (R)\"]],\n",
    "    \"mAP50\": [metrics_original[\"mAP50\"], metrics_moderate[\"mAP50\"], metrics_severe[\"mAP50\"], metrics_extreme[\"mAP50\"]],\n",
    "    \"mAP50-95\": [metrics_original[\"mAP50-95\"], metrics_moderate[\"mAP50-95\"], metrics_severe[\"mAP50-95\"], metrics_extreme[\"mAP50-95\"]],\n",
    "}\n",
    "\n",
    "# 데이터프레임 생성\n",
    "df = pd.DataFrame(data)\n",
    "\n",
    "# 결과 출력 (확인용)\n",
    "print(df)\n",
    "\n",
    "# 메트릭 비교를 위한 시각화\n",
    "metrics = [\"Precision (P)\", \"Recall (R)\", \"mAP50\", \"mAP50-95\"]\n",
    "x = df[\"Condition\"]\n",
    "\n",
    "plt.figure(figsize=(12, 8))\n",
    "\n",
    "# 각 메트릭을 플롯으로 그립니다.\n",
    "for metric in metrics:\n",
    "    plt.plot(x, df[metric], marker='o', label=metric)\n",
    "\n",
    "# 라벨 및 제목 설정\n",
    "plt.xlabel(\"Low Brightness Condition\")\n",
    "plt.ylabel(\"Metric Value\")\n",
    "plt.title(\"Comparison of Evaluation Metrics Across Different Low Brightness Conditions\")\n",
    "plt.legend()\n",
    "plt.grid(True)\n",
    "plt.show()"
   ]
  }
 ],
 "metadata": {
  "accelerator": "GPU",
  "colab": {
   "gpuType": "T4",
   "provenance": []
  },
  "kernelspec": {
   "display_name": "Python 3",
   "name": "python3"
  },
  "language_info": {
   "name": "python"
  }
 },
 "nbformat": 4,
 "nbformat_minor": 0
}
