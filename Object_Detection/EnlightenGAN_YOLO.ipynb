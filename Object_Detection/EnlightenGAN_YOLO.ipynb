{
 "cells": [
  {
   "cell_type": "markdown",
   "metadata": {
    "id": "jvEvHmAHs3wl"
   },
   "source": [
    "# **yaml 작성**\n",
    "\n",
    "*   data_origin.yaml\n",
    "*   data_moderate_GAN.yaml\n",
    "*   data_severe_GAN.yaml\n",
    "*   data_extreme_GAN.yaml\n",
    "\n",
    "\n",
    "\n"
   ]
  },
  {
   "cell_type": "code",
   "execution_count": null,
   "metadata": {
    "colab": {
     "base_uri": "https://localhost:8080/"
    },
    "executionInfo": {
     "elapsed": 49143,
     "status": "ok",
     "timestamp": 1733395328264,
     "user": {
      "displayName": "윤여진",
      "userId": "15272112293797387179"
     },
     "user_tz": -540
    },
    "id": "FRVAj-8AqGdu",
    "outputId": "91fb0398-5af3-48d2-b9f6-588bc514b371"
   },
   "outputs": [
    {
     "name": "stdout",
     "output_type": "stream",
     "text": [
      "Mounted at /content/drives\n"
     ]
    }
   ],
   "source": [
    "# 드라이브 마운트\n",
    "from google.colab import drive\n",
    "drive.mount('/content/drives')"
   ]
  },
  {
   "cell_type": "code",
   "execution_count": null,
   "metadata": {
    "colab": {
     "base_uri": "https://localhost:8080/"
    },
    "id": "3OGd9gShs98l",
    "outputId": "482d5606-30dd-4e52-90eb-e4f26dc1d5b0"
   },
   "outputs": [
    {
     "name": "stdout",
     "output_type": "stream",
     "text": [
      "\n",
      "train: /content/drive/MyDrive/CCTV-People-Dataset/train/images\n",
      "val: /content/drive/MyDrive/CCTV-People-Dataset/valid/images\n",
      "test: ../test/images\n",
      "\n",
      "nc: 1\n",
      "names: ['Human pose estimation']\n",
      "\n",
      "roboflow:\n",
      "  workspace: project-wk4fq\n",
      "  project: cctv-people\n",
      "  version: 1\n",
      "  license: CC BY 4.0\n",
      "  url: https://universe.roboflow.com/project-wk4fq/cctv-people/dataset/1\n"
     ]
    }
   ],
   "source": [
    "# data_origin.yaml 파일 작성\n",
    "yaml_content = \"\"\"\n",
    "train: /content/drive/MyDrive/CCTV-People-Dataset/train/images\n",
    "val: /content/drive/MyDrive/CCTV-People-Dataset/valid/images\n",
    "test: ../test/images\n",
    "\n",
    "nc: 1\n",
    "names: ['Human pose estimation']\n",
    "\n",
    "roboflow:\n",
    "  workspace: project-wk4fq\n",
    "  project: cctv-people\n",
    "  version: 1\n",
    "  license: CC BY 4.0\n",
    "  url: https://universe.roboflow.com/project-wk4fq/cctv-people/dataset/1\n",
    "\"\"\"\n",
    "\n",
    "# 파일 저장\n",
    "with open('/content/drive/MyDrive/CCTV-People-Dataset/data_origin.yaml', 'w') as f:\n",
    "    f.write(yaml_content)\n",
    "\n",
    "# 저장된 파일 확인\n",
    "!cat /content/drive/MyDrive/CCTV-People-Dataset/data_origin.yaml"
   ]
  },
  {
   "cell_type": "code",
   "execution_count": null,
   "metadata": {
    "colab": {
     "base_uri": "https://localhost:8080/",
     "height": 211
    },
    "executionInfo": {
     "elapsed": 299,
     "status": "error",
     "timestamp": 1733395536955,
     "user": {
      "displayName": "윤여진",
      "userId": "15272112293797387179"
     },
     "user_tz": -540
    },
    "id": "w_Nkgm65tcjF",
    "outputId": "05e81387-ff6a-4d8f-a643-3c992055f7f9"
   },
   "outputs": [
    {
     "ename": "FileNotFoundError",
     "evalue": "[Errno 2] No such file or directory: '/content/drive/MyDrive/CCTV-People-Dataset/yaml/data_moderate_GAN.yaml'",
     "output_type": "error",
     "traceback": [
      "\u001b[0;31m---------------------------------------------------------------------------\u001b[0m",
      "\u001b[0;31mFileNotFoundError\u001b[0m                         Traceback (most recent call last)",
      "\u001b[0;32m<ipython-input-2-8da363d3204d>\u001b[0m in \u001b[0;36m<cell line: 19>\u001b[0;34m()\u001b[0m\n\u001b[1;32m     17\u001b[0m \u001b[0;34m\u001b[0m\u001b[0m\n\u001b[1;32m     18\u001b[0m \u001b[0;31m# 파일 저장\u001b[0m\u001b[0;34m\u001b[0m\u001b[0;34m\u001b[0m\u001b[0m\n\u001b[0;32m---> 19\u001b[0;31m \u001b[0;32mwith\u001b[0m \u001b[0mopen\u001b[0m\u001b[0;34m(\u001b[0m\u001b[0;34m'/content/drive/MyDrive/CCTV-People-Dataset/yaml/data_moderate_GAN.yaml'\u001b[0m\u001b[0;34m,\u001b[0m \u001b[0;34m'w'\u001b[0m\u001b[0;34m)\u001b[0m \u001b[0;32mas\u001b[0m \u001b[0mf\u001b[0m\u001b[0;34m:\u001b[0m\u001b[0;34m\u001b[0m\u001b[0;34m\u001b[0m\u001b[0m\n\u001b[0m\u001b[1;32m     20\u001b[0m     \u001b[0mf\u001b[0m\u001b[0;34m.\u001b[0m\u001b[0mwrite\u001b[0m\u001b[0;34m(\u001b[0m\u001b[0myaml_content\u001b[0m\u001b[0;34m)\u001b[0m\u001b[0;34m\u001b[0m\u001b[0;34m\u001b[0m\u001b[0m\n\u001b[1;32m     21\u001b[0m \u001b[0;34m\u001b[0m\u001b[0m\n",
      "\u001b[0;31mFileNotFoundError\u001b[0m: [Errno 2] No such file or directory: '/content/drive/MyDrive/CCTV-People-Dataset/yaml/data_moderate_GAN.yaml'"
     ]
    }
   ],
   "source": [
    "# data_moderate_GAN.yaml 파일 작성\n",
    "yaml_content = \"\"\"\n",
    "train: /content/drive/MyDrive/CCTV-People-Dataset/train/Low_Brightness_Moderate/GAN/images\n",
    "val: /content/drive/MyDrive/CCTV-People-Dataset/valid/Low_Brightness_Moderate/GAN/images\n",
    "test: ../test/images\n",
    "\n",
    "nc: 1\n",
    "names: ['Human pose estimation']\n",
    "\n",
    "roboflow:\n",
    "  workspace: project-wk4fq\n",
    "  project: cctv-people\n",
    "  version: 1\n",
    "  license: CC BY 4.0\n",
    "  url: https://universe.roboflow.com/project-wk4fq/cctv-people/dataset/1\n",
    "\"\"\"\n",
    "\n",
    "# 파일 저장\n",
    "with open('/content/drive/MyDrive/CCTV-People-Dataset/yaml/data_moderate_GAN.yaml', 'w') as f:\n",
    "    f.write(yaml_content)\n",
    "\n",
    "# 저장된 파일 확인\n",
    "!cat /content/drive/MyDrive/CCTV-People-Dataset/yaml/data_moderate_GAN.yaml"
   ]
  },
  {
   "cell_type": "code",
   "execution_count": null,
   "metadata": {
    "colab": {
     "base_uri": "https://localhost:8080/"
    },
    "executionInfo": {
     "elapsed": 308,
     "status": "ok",
     "timestamp": 1733395855071,
     "user": {
      "displayName": "윤여진",
      "userId": "15272112293797387179"
     },
     "user_tz": -540
    },
    "id": "uaGKZ_-tuuze",
    "outputId": "cc5309cc-92f0-4d85-a018-8077e32cd58c"
   },
   "outputs": [
    {
     "name": "stdout",
     "output_type": "stream",
     "text": [
      "\n",
      "train: /content/drive/MyDrive/CCTV-People-Dataset/train/Low_Brightness_Severe/GAN/images\n",
      "val: /content/drives/MyDrive/CCTV-People-Dataset/valid/Low_Brightness_Severe/GAN/images\n",
      "test: ../test/images\n",
      "\n",
      "nc: 1\n",
      "names: ['Human pose estimation']\n",
      "\n",
      "roboflow:\n",
      "  workspace: project-wk4fq\n",
      "  project: cctv-people\n",
      "  version: 1\n",
      "  license: CC BY 4.0\n",
      "  url: https://universe.roboflow.com/project-wk4fq/cctv-people/dataset/1\n"
     ]
    }
   ],
   "source": [
    "# data_severe_GAN.yaml 파일 작성\n",
    "yaml_content = \"\"\"\n",
    "train: /content/drive/MyDrive/CCTV-People-Dataset/train/Low_Brightness_Severe/GAN/images\n",
    "val: /content/drives/MyDrive/CCTV-People-Dataset/valid/Low_Brightness_Severe/GAN/images\n",
    "test: ../test/images\n",
    "\n",
    "nc: 1\n",
    "names: ['Human pose estimation']\n",
    "\n",
    "roboflow:\n",
    "  workspace: project-wk4fq\n",
    "  project: cctv-people\n",
    "  version: 1\n",
    "  license: CC BY 4.0\n",
    "  url: https://universe.roboflow.com/project-wk4fq/cctv-people/dataset/1\n",
    "\"\"\"\n",
    "\n",
    "# 파일 저장\n",
    "with open('/content/drives/MyDrive/CCTV-People-Dataset/yaml/data_severe_GAN.yaml', 'w') as f:\n",
    "    f.write(yaml_content)\n",
    "\n",
    "# 저장된 파일 확인\n",
    "!cat /content/drives/MyDrive/CCTV-People-Dataset/yaml/data_severe_GAN.yaml"
   ]
  },
  {
   "cell_type": "code",
   "execution_count": null,
   "metadata": {
    "colab": {
     "base_uri": "https://localhost:8080/"
    },
    "executionInfo": {
     "elapsed": 365,
     "status": "ok",
     "timestamp": 1733395871218,
     "user": {
      "displayName": "윤여진",
      "userId": "15272112293797387179"
     },
     "user_tz": -540
    },
    "id": "e9wLWLkMu51h",
    "outputId": "d05726ca-7b86-457a-e798-aeebe987e35d"
   },
   "outputs": [
    {
     "name": "stdout",
     "output_type": "stream",
     "text": [
      "\n",
      "train: /content/drive/MyDrive/CCTV-People-Dataset/train/Low_Brightness_Extreme/GAN/images\n",
      "val: /content/drives/MyDrive/CCTV-People-Dataset/valid/Low_Brightness_Extreme/GAN/images\n",
      "test: ../test/images\n",
      "\n",
      "nc: 1\n",
      "names: ['Human pose estimation']\n",
      "\n",
      "roboflow:\n",
      "  workspace: project-wk4fq\n",
      "  project: cctv-people\n",
      "  version: 1\n",
      "  license: CC BY 4.0\n",
      "  url: https://universe.roboflow.com/project-wk4fq/cctv-people/dataset/1\n"
     ]
    }
   ],
   "source": [
    "# data_extreme_GAN.yaml 파일 작성\n",
    "yaml_content = \"\"\"\n",
    "train: /content/drive/MyDrive/CCTV-People-Dataset/train/Low_Brightness_Extreme/GAN/images\n",
    "val: /content/drives/MyDrive/CCTV-People-Dataset/valid/Low_Brightness_Extreme/GAN/images\n",
    "test: ../test/images\n",
    "\n",
    "nc: 1\n",
    "names: ['Human pose estimation']\n",
    "\n",
    "roboflow:\n",
    "  workspace: project-wk4fq\n",
    "  project: cctv-people\n",
    "  version: 1\n",
    "  license: CC BY 4.0\n",
    "  url: https://universe.roboflow.com/project-wk4fq/cctv-people/dataset/1\n",
    "\"\"\"\n",
    "\n",
    "# 파일 저장\n",
    "with open('/content/drives/MyDrive/CCTV-People-Dataset/yaml/data_extreme_GAN.yaml', 'w') as f:\n",
    "    f.write(yaml_content)\n",
    "\n",
    "# 저장된 파일 확인\n",
    "!cat /content/drives/MyDrive/CCTV-People-Dataset/yaml/data_extreme_GAN.yaml"
   ]
  },
  {
   "cell_type": "markdown",
   "metadata": {
    "id": "7eXyR016vE7I"
   },
   "source": [
    "# **yolo**"
   ]
  },
  {
   "cell_type": "markdown",
   "metadata": {
    "id": "jO0OY24x7sBD"
   },
   "source": [
    "**train**"
   ]
  },
  {
   "cell_type": "code",
   "execution_count": 7,
   "metadata": {
    "colab": {
     "base_uri": "https://localhost:8080/"
    },
    "executionInfo": {
     "elapsed": 11786,
     "status": "ok",
     "timestamp": 1733395784450,
     "user": {
      "displayName": "윤여진",
      "userId": "15272112293797387179"
     },
     "user_tz": -540
    },
    "id": "4peng09RqOvL",
    "outputId": "cd037716-b1d5-4339-b145-db0338afc388"
   },
   "outputs": [
    {
     "name": "stdout",
     "output_type": "stream",
     "text": [
      "Ultralytics 8.3.40 🚀 Python-3.10.12 torch-2.5.1+cu121 CUDA:0 (Tesla T4, 15102MiB)\n",
      "Setup complete ✅ (2 CPUs, 12.7 GB RAM, 32.7/112.6 GB disk)\n"
     ]
    }
   ],
   "source": [
    "%pip install ultralytics\n",
    "import ultralytics\n",
    "ultralytics.checks()"
   ]
  },
  {
   "cell_type": "code",
   "execution_count": null,
   "metadata": {
    "id": "m2JLqNPOBKjI"
   },
   "outputs": [],
   "source": [
    "# train 이미지에 라벨 복사\n",
    "\n",
    "import os\n",
    "import shutil\n",
    "\n",
    "# 원본 라벨 폴더\n",
    "labels_folder = \"/content/drive/MyDrive/CCTV-People-Dataset/train/Original/labels\"\n",
    "\n",
    "# 저조도 이미지 폴더들\n",
    "low_brightness_folders = [\n",
    "    \"/content/drive/MyDrive/CCTV-People-Dataset/train/Low_Brightness_Moderate/GAN\",\n",
    "    \"/content/drive/MyDrive/CCTV-People-Dataset/train/Low_Brightness_Severe/GAN\",\n",
    "    \"/content/drive/MyDrive/CCTV-People-Dataset/train/Low_Brightness_Extreme/GAN\",\n",
    "]\n",
    "\n",
    "# 각 저조도 폴더에 라벨 복사\n",
    "for folder in low_brightness_folders:\n",
    "    images_folder = os.path.join(folder, \"images\")\n",
    "    labels_output_folder = os.path.join(folder, \"labels\")\n",
    "\n",
    "    # 라벨 저장 폴더가 없으면 생성\n",
    "    os.makedirs(labels_output_folder, exist_ok=True)\n",
    "\n",
    "    # 이미지 파일 이름에 맞는 라벨 복사\n",
    "    for image_file in os.listdir(images_folder):\n",
    "        if image_file.endswith(\".jpg\"):  # 이미지 파일만 처리\n",
    "            label_file = image_file.replace(\".jpg\", \".txt\")  # 라벨 파일 이름\n",
    "            src_label_path = os.path.join(labels_folder, label_file)\n",
    "            dst_label_path = os.path.join(labels_output_folder, label_file)\n",
    "\n",
    "            # 라벨 파일 복사\n",
    "            if os.path.exists(src_label_path):\n",
    "                shutil.copy(src_label_path, dst_label_path)\n",
    "            else:\n",
    "                print(f\"Label not found for {image_file}\")"
   ]
  },
  {
   "cell_type": "code",
   "execution_count": null,
   "metadata": {
    "id": "RiRoIcH8Sims"
   },
   "outputs": [],
   "source": [
    "# valid 이미지에 라벨 복사\n",
    "\n",
    "import os\n",
    "import shutil\n",
    "\n",
    "# 원본 라벨 폴더\n",
    "labels_folder = \"/content/drive/MyDrive/CCTV-People-Dataset/valid/Original/labels\"\n",
    "\n",
    "# 저조도 이미지 폴더들\n",
    "low_brightness_folders = [\n",
    "    \"/content/drive/MyDrive/CCTV-People-Dataset/valid/Low_Brightness_Moderate/GAN\",\n",
    "    \"/content/drive/MyDrive/CCTV-People-Dataset/valid/Low_Brightness_Severe/GAN\",\n",
    "    \"/content/drive/MyDrive/CCTV-People-Dataset/valid/Low_Brightness_Extreme/GAN\",\n",
    "]\n",
    "\n",
    "# 각 저조도 폴더에 라벨 복사\n",
    "for folder in low_brightness_folders:\n",
    "    images_folder = os.path.join(folder, \"images\")\n",
    "    labels_output_folder = os.path.join(folder, \"labels\")\n",
    "\n",
    "    # 라벨 저장 폴더가 없으면 생성\n",
    "    os.makedirs(labels_output_folder, exist_ok=True)\n",
    "\n",
    "    # 이미지 파일 이름에 맞는 라벨 복사\n",
    "    for image_file in os.listdir(images_folder):\n",
    "        if image_file.endswith(\".jpg\"):  # 이미지 파일만 처리\n",
    "            label_file = image_file.replace(\".jpg\", \".txt\")  # 라벨 파일 이름\n",
    "            src_label_path = os.path.join(labels_folder, label_file)\n",
    "            dst_label_path = os.path.join(labels_output_folder, label_file)\n",
    "\n",
    "            # 라벨 파일 복사\n",
    "            if os.path.exists(src_label_path):\n",
    "                shutil.copy(src_label_path, dst_label_path)\n",
    "            else:\n",
    "                print(f\"Label not found for {image_file}\")"
   ]
  },
  {
   "cell_type": "code",
   "execution_count": null,
   "metadata": {
    "colab": {
     "base_uri": "https://localhost:8080/"
    },
    "executionInfo": {
     "elapsed": 39043,
     "status": "ok",
     "timestamp": 1733378492266,
     "user": {
      "displayName": "윤여찬",
      "userId": "09256589393447492275"
     },
     "user_tz": -540
    },
    "id": "AlJVgG11Bsy6",
    "outputId": "7a7e7154-027d-4a7c-aba5-76e1d7e85ea9"
   },
   "outputs": [
    {
     "name": "stdout",
     "output_type": "stream",
     "text": [
      "Ultralytics 8.3.41 🚀 Python-3.10.12 torch-2.5.1+cu121 CUDA:0 (Tesla T4, 15102MiB)\n",
      "\u001b[34m\u001b[1mengine/trainer: \u001b[0mtask=detect, mode=train, model=yolo11n.pt, data=/content/drive/MyDrive/CCTV-People-Dataset/yaml/data_severe_GAN.yaml, epochs=25, time=None, patience=100, batch=16, imgsz=640, save=True, save_period=5, cache=False, device=None, workers=8, project=/content/drive/MyDrive/CCTV-People-Dataset/runs/train, name=severe2, exist_ok=False, pretrained=True, optimizer=auto, verbose=True, seed=0, deterministic=True, single_cls=False, rect=False, cos_lr=False, close_mosaic=10, resume=False, amp=True, fraction=1.0, profile=False, freeze=None, multi_scale=False, overlap_mask=True, mask_ratio=4, dropout=0.0, val=True, split=val, save_json=False, save_hybrid=False, conf=None, iou=0.7, max_det=300, half=False, dnn=False, plots=True, source=None, vid_stride=1, stream_buffer=False, visualize=False, augment=False, agnostic_nms=False, classes=None, retina_masks=False, embed=None, show=False, save_frames=False, save_txt=False, save_conf=False, save_crop=False, show_labels=True, show_conf=True, show_boxes=True, line_width=None, format=torchscript, keras=False, optimize=False, int8=False, dynamic=False, simplify=True, opset=None, workspace=None, nms=False, lr0=0.001, lrf=0.01, momentum=0.937, weight_decay=0.0005, warmup_epochs=3.0, warmup_momentum=0.8, warmup_bias_lr=0.1, box=7.5, cls=0.5, dfl=1.5, pose=12.0, kobj=1.0, nbs=64, hsv_h=0.015, hsv_s=0.7, hsv_v=0.4, degrees=0.0, translate=0.1, scale=0.5, shear=0.0, perspective=0.0, flipud=0.0, fliplr=0.5, bgr=0.0, mosaic=1.0, mixup=0.0, copy_paste=0.0, copy_paste_mode=flip, auto_augment=randaugment, erasing=0.4, crop_fraction=1.0, cfg=None, tracker=botsort.yaml, save_dir=/content/drive/MyDrive/CCTV-People-Dataset/runs/train/severe2\n",
      "Traceback (most recent call last):\n",
      "  File \"/usr/local/lib/python3.10/dist-packages/ultralytics/engine/trainer.py\", line 562, in get_dataset\n",
      "    data = check_det_dataset(self.args.data)\n",
      "  File \"/usr/local/lib/python3.10/dist-packages/ultralytics/data/utils.py\", line 269, in check_det_dataset\n",
      "    file = check_file(dataset)\n",
      "  File \"/usr/local/lib/python3.10/dist-packages/ultralytics/utils/checks.py\", line 520, in check_file\n",
      "    raise FileNotFoundError(f\"'{file}' does not exist\")\n",
      "FileNotFoundError: '/content/drive/MyDrive/CCTV-People-Dataset/yaml/data_severe_GAN.yaml' does not exist\n",
      "\n",
      "The above exception was the direct cause of the following exception:\n",
      "\n",
      "Traceback (most recent call last):\n",
      "  File \"/usr/local/bin/yolo\", line 8, in <module>\n",
      "    sys.exit(entrypoint())\n",
      "  File \"/usr/local/lib/python3.10/dist-packages/ultralytics/cfg/__init__.py\", line 972, in entrypoint\n",
      "    getattr(model, mode)(**overrides)  # default args from model\n",
      "  File \"/usr/local/lib/python3.10/dist-packages/ultralytics/engine/model.py\", line 799, in train\n",
      "    self.trainer = (trainer or self._smart_load(\"trainer\"))(overrides=args, _callbacks=self.callbacks)\n",
      "  File \"/usr/local/lib/python3.10/dist-packages/ultralytics/engine/trainer.py\", line 133, in __init__\n",
      "    self.trainset, self.testset = self.get_dataset()\n",
      "  File \"/usr/local/lib/python3.10/dist-packages/ultralytics/engine/trainer.py\", line 566, in get_dataset\n",
      "    raise RuntimeError(emojis(f\"Dataset '{clean_url(self.args.data)}' error ❌ {e}\")) from e\n",
      "RuntimeError: Dataset '/content/drive/MyDrive/CCTV-People-Dataset/yaml/data_severe_GAN.yaml' error ❌ '/content/drive/MyDrive/CCTV-People-Dataset/yaml/data_severe_GAN.yaml' does not exist\n",
      "Sentry is attempting to send 2 pending events\n",
      "Waiting up to 2 seconds\n",
      "Press Ctrl-C to quit\n",
      "Ultralytics 8.3.41 🚀 Python-3.10.12 torch-2.5.1+cu121 CUDA:0 (Tesla T4, 15102MiB)\n",
      "\u001b[34m\u001b[1mengine/trainer: \u001b[0mtask=detect, mode=train, model=yolo11n.pt, data=/content/drive/MyDrive/CCTV-People-Dataset/yaml/data_extreme_GAN.yaml, epochs=25, time=None, patience=100, batch=16, imgsz=640, save=True, save_period=5, cache=False, device=None, workers=8, project=/content/drive/MyDrive/CCTV-People-Dataset/runs/train, name=extreme2, exist_ok=False, pretrained=True, optimizer=auto, verbose=True, seed=0, deterministic=True, single_cls=False, rect=False, cos_lr=False, close_mosaic=10, resume=False, amp=True, fraction=1.0, profile=False, freeze=None, multi_scale=False, overlap_mask=True, mask_ratio=4, dropout=0.0, val=True, split=val, save_json=False, save_hybrid=False, conf=None, iou=0.7, max_det=300, half=False, dnn=False, plots=True, source=None, vid_stride=1, stream_buffer=False, visualize=False, augment=False, agnostic_nms=False, classes=None, retina_masks=False, embed=None, show=False, save_frames=False, save_txt=False, save_conf=False, save_crop=False, show_labels=True, show_conf=True, show_boxes=True, line_width=None, format=torchscript, keras=False, optimize=False, int8=False, dynamic=False, simplify=True, opset=None, workspace=None, nms=False, lr0=0.001, lrf=0.01, momentum=0.937, weight_decay=0.0005, warmup_epochs=3.0, warmup_momentum=0.8, warmup_bias_lr=0.1, box=7.5, cls=0.5, dfl=1.5, pose=12.0, kobj=1.0, nbs=64, hsv_h=0.015, hsv_s=0.7, hsv_v=0.4, degrees=0.0, translate=0.1, scale=0.5, shear=0.0, perspective=0.0, flipud=0.0, fliplr=0.5, bgr=0.0, mosaic=1.0, mixup=0.0, copy_paste=0.0, copy_paste_mode=flip, auto_augment=randaugment, erasing=0.4, crop_fraction=1.0, cfg=None, tracker=botsort.yaml, save_dir=/content/drive/MyDrive/CCTV-People-Dataset/runs/train/extreme2\n",
      "Traceback (most recent call last):\n",
      "  File \"/usr/local/lib/python3.10/dist-packages/ultralytics/engine/trainer.py\", line 562, in get_dataset\n",
      "    data = check_det_dataset(self.args.data)\n",
      "  File \"/usr/local/lib/python3.10/dist-packages/ultralytics/data/utils.py\", line 269, in check_det_dataset\n",
      "    file = check_file(dataset)\n",
      "  File \"/usr/local/lib/python3.10/dist-packages/ultralytics/utils/checks.py\", line 520, in check_file\n",
      "    raise FileNotFoundError(f\"'{file}' does not exist\")\n",
      "FileNotFoundError: '/content/drive/MyDrive/CCTV-People-Dataset/yaml/data_extreme_GAN.yaml' does not exist\n",
      "\n",
      "The above exception was the direct cause of the following exception:\n",
      "\n",
      "Traceback (most recent call last):\n",
      "  File \"/usr/local/bin/yolo\", line 8, in <module>\n",
      "    sys.exit(entrypoint())\n",
      "  File \"/usr/local/lib/python3.10/dist-packages/ultralytics/cfg/__init__.py\", line 972, in entrypoint\n",
      "    getattr(model, mode)(**overrides)  # default args from model\n",
      "  File \"/usr/local/lib/python3.10/dist-packages/ultralytics/engine/model.py\", line 799, in train\n",
      "    self.trainer = (trainer or self._smart_load(\"trainer\"))(overrides=args, _callbacks=self.callbacks)\n",
      "  File \"/usr/local/lib/python3.10/dist-packages/ultralytics/engine/trainer.py\", line 133, in __init__\n",
      "    self.trainset, self.testset = self.get_dataset()\n",
      "  File \"/usr/local/lib/python3.10/dist-packages/ultralytics/engine/trainer.py\", line 566, in get_dataset\n",
      "    raise RuntimeError(emojis(f\"Dataset '{clean_url(self.args.data)}' error ❌ {e}\")) from e\n",
      "RuntimeError: Dataset '/content/drive/MyDrive/CCTV-People-Dataset/yaml/data_extreme_GAN.yaml' error ❌ '/content/drive/MyDrive/CCTV-People-Dataset/yaml/data_extreme_GAN.yaml' does not exist\n",
      "Sentry is attempting to send 2 pending events\n",
      "Waiting up to 2 seconds\n",
      "Press Ctrl-C to quit\n"
     ]
    }
   ],
   "source": [
    "# moderate 이미지로 학습\n",
    "!yolo train model=yolo11n.pt \\\n",
    "          data=/content/drive/MyDrive/CCTV-People-Dataset/yaml/data_moderate_GAN.yaml \\\n",
    "          epochs=25 \\\n",
    "          imgsz=640 \\\n",
    "          batch=16 \\\n",
    "          save_period=5 \\\n",
    "          lr0=0.001 \\\n",
    "          optimizer=auto \\\n",
    "          project=/content/drive/MyDrive/CCTV-People-Dataset/runs/train \\\n",
    "          name=moderate\n",
    "\n",
    "# severe 이미지로 학습\n",
    "!yolo train model=yolo11n.pt \\\n",
    "          data=/content/drives/MyDrive/CCTV-People-Dataset/yaml/data_severe_GAN.yaml \\\n",
    "          epochs=25 \\\n",
    "          imgsz=640 \\\n",
    "          batch=16 \\\n",
    "          save_period=5 \\\n",
    "          lr0=0.001 \\\n",
    "          optimizer=auto \\\n",
    "          project=/content/drive/MyDrive/CCTV-People-Dataset/runs/train \\\n",
    "          name=severe\n",
    "\n",
    "# extreme 이미지로 학습\n",
    "!yolo train model=yolo11n.pt \\\n",
    "          data=/content/drives/MyDrive/CCTV-People-Dataset/yaml/data_extreme_GAN.yaml \\\n",
    "          epochs=25 \\\n",
    "          imgsz=640 \\\n",
    "          batch=16 \\\n",
    "          save_period=5 \\\n",
    "          lr0=0.001 \\\n",
    "          optimizer=auto \\\n",
    "          project=/content/drive/MyDrive/CCTV-People-Dataset/runs/train \\\n",
    "          name=extreme"
   ]
  },
  {
   "cell_type": "markdown",
   "metadata": {
    "id": "ym6XsoM27vGL"
   },
   "source": [
    "**valid**"
   ]
  },
  {
   "cell_type": "code",
   "execution_count": null,
   "metadata": {
    "colab": {
     "base_uri": "https://localhost:8080/"
    },
    "executionInfo": {
     "elapsed": 15554,
     "status": "ok",
     "timestamp": 1733229973343,
     "user": {
      "displayName": "윤여찬",
      "userId": "09256589393447492275"
     },
     "user_tz": -540
    },
    "id": "AHd9NtgV4bjV",
    "outputId": "ab55a1ea-eaaa-44cc-879e-97961ef0bbf8"
   },
   "outputs": [
    {
     "name": "stdout",
     "output_type": "stream",
     "text": [
      "Ultralytics 8.3.40 🚀 Python-3.10.12 torch-2.5.1+cu121 CUDA:0 (Tesla T4, 15102MiB)\n",
      "YOLO11n summary (fused): 238 layers, 2,582,347 parameters, 0 gradients, 6.3 GFLOPs\n"
     ]
    },
    {
     "name": "stderr",
     "output_type": "stream",
     "text": [
      "\u001b[34m\u001b[1mval: \u001b[0mScanning /content/drive/MyDrive/CCTV-People-Dataset/valid/Original/labels.cache... 175 images, 0 backgrounds, 0 corrupt: 100%|██████████| 175/175 [00:00<?, ?it/s]\n",
      "                 Class     Images  Instances      Box(P          R      mAP50  mAP50-95): 100%|██████████| 11/11 [00:04<00:00,  2.22it/s]\n"
     ]
    },
    {
     "name": "stdout",
     "output_type": "stream",
     "text": [
      "                   all        175        227      0.853      0.789      0.862      0.513\n",
      "Speed: 2.2ms preprocess, 6.7ms inference, 0.0ms loss, 9.7ms postprocess per image\n",
      "Results saved to \u001b[1mruns/detect/val\u001b[0m\n"
     ]
    }
   ],
   "source": [
    "from ultralytics import YOLO\n",
    "\n",
    "# 원본 데이터로 훈련된 모델 평가\n",
    "model_original = YOLO('/content/drive/MyDrive/CCTV-People-Dataset/runs/train/best.pt')\n",
    "results_original = model_original.val(data='/content/drive/MyDrive/CCTV-People-Dataset/yaml/data_origin.yaml')"
   ]
  },
  {
   "cell_type": "code",
   "execution_count": null,
   "metadata": {
    "colab": {
     "base_uri": "https://localhost:8080/"
    },
    "executionInfo": {
     "elapsed": 144457,
     "status": "ok",
     "timestamp": 1733396021869,
     "user": {
      "displayName": "윤여진",
      "userId": "15272112293797387179"
     },
     "user_tz": -540
    },
    "id": "mgL2sQj5U-39",
    "outputId": "b1e54c4d-32a4-40d5-f169-372af1221394"
   },
   "outputs": [
    {
     "name": "stdout",
     "output_type": "stream",
     "text": [
      "Ultralytics 8.3.40 🚀 Python-3.10.12 torch-2.5.1+cu121 CUDA:0 (Tesla T4, 15102MiB)\n",
      "YOLO11n summary (fused): 238 layers, 2,582,347 parameters, 0 gradients, 6.3 GFLOPs\n",
      "Downloading https://ultralytics.com/assets/Arial.ttf to '/root/.config/Ultralytics/Arial.ttf'...\n"
     ]
    },
    {
     "name": "stderr",
     "output_type": "stream",
     "text": [
      "100%|██████████| 755k/755k [00:00<00:00, 29.1MB/s]\n",
      "\u001b[34m\u001b[1mval: \u001b[0mScanning /content/drives/MyDrive/CCTV-People-Dataset/valid/Low_Brightness_Severe/GAN/labels... 175 images, 0 backgrounds, 0 corrupt: 100%|██████████| 175/175 [00:54<00:00,  3.21it/s]"
     ]
    },
    {
     "name": "stdout",
     "output_type": "stream",
     "text": [
      "\u001b[34m\u001b[1mval: \u001b[0mNew cache created: /content/drives/MyDrive/CCTV-People-Dataset/valid/Low_Brightness_Severe/GAN/labels.cache\n"
     ]
    },
    {
     "name": "stderr",
     "output_type": "stream",
     "text": [
      "\n",
      "                 Class     Images  Instances      Box(P          R      mAP50  mAP50-95): 100%|██████████| 11/11 [00:09<00:00,  1.12it/s]\n"
     ]
    },
    {
     "name": "stdout",
     "output_type": "stream",
     "text": [
      "                   all        175        227      0.862      0.661      0.784      0.439\n",
      "Speed: 6.1ms preprocess, 7.9ms inference, 0.0ms loss, 9.7ms postprocess per image\n",
      "Results saved to \u001b[1mruns/detect/val2\u001b[0m\n",
      "Ultralytics 8.3.40 🚀 Python-3.10.12 torch-2.5.1+cu121 CUDA:0 (Tesla T4, 15102MiB)\n",
      "YOLO11n summary (fused): 238 layers, 2,582,347 parameters, 0 gradients, 6.3 GFLOPs\n"
     ]
    },
    {
     "name": "stderr",
     "output_type": "stream",
     "text": [
      "\u001b[34m\u001b[1mval: \u001b[0mScanning /content/drives/MyDrive/CCTV-People-Dataset/valid/Low_Brightness_Extreme/GAN/labels... 175 images, 0 backgrounds, 0 corrupt: 100%|██████████| 175/175 [00:53<00:00,  3.25it/s]"
     ]
    },
    {
     "name": "stdout",
     "output_type": "stream",
     "text": [
      "\u001b[34m\u001b[1mval: \u001b[0mNew cache created: /content/drives/MyDrive/CCTV-People-Dataset/valid/Low_Brightness_Extreme/GAN/labels.cache\n"
     ]
    },
    {
     "name": "stderr",
     "output_type": "stream",
     "text": [
      "\n",
      "                 Class     Images  Instances      Box(P          R      mAP50  mAP50-95): 100%|██████████| 11/11 [00:04<00:00,  2.46it/s]\n"
     ]
    },
    {
     "name": "stdout",
     "output_type": "stream",
     "text": [
      "                   all        175        227      0.844      0.572      0.688       0.36\n",
      "Speed: 3.5ms preprocess, 4.8ms inference, 0.0ms loss, 2.2ms postprocess per image\n",
      "Results saved to \u001b[1mruns/detect/val3\u001b[0m\n"
     ]
    }
   ],
   "source": [
    "from ultralytics import YOLO\n",
    "\n",
    "# moderate 저조도\n",
    "model_moderate = YOLO('/content/drive/MyDrive/CCTV-People-Dataset/runs/train/EnlightenGAN/moderate/weights/best.pt')\n",
    "results_moderate = model_moderate.val(data='/content/drive/MyDrive/CCTV-People-Dataset/yaml/data_moderate_GAN.yaml')\n",
    "\n",
    "# severe 저조도\n",
    "model_severe = YOLO('/content/drives/MyDrive/CCTV-People-Dataset/runs/train/gan/enlightengan_severe/weights/best.pt')\n",
    "results_severe = model_severe.val(data='/content/drives/MyDrive/CCTV-People-Dataset/yaml/data_severe_GAN.yaml')\n",
    "\n",
    "# extreme 저조도\n",
    "model_extreme = YOLO('/content/drives/MyDrive/CCTV-People-Dataset/runs/train/gan/enlightengan_extreme/weights/best.pt')\n",
    "results_extreme = model_extreme.val(data='/content/drives/MyDrive/CCTV-People-Dataset/yaml/data_extreme_GAN.yaml')"
   ]
  },
  {
   "cell_type": "code",
   "execution_count": null,
   "metadata": {
    "colab": {
     "base_uri": "https://localhost:8080/"
    },
    "executionInfo": {
     "elapsed": 286,
     "status": "ok",
     "timestamp": 1733396025337,
     "user": {
      "displayName": "윤여진",
      "userId": "15272112293797387179"
     },
     "user_tz": -540
    },
    "id": "Jkojk5aXeivC",
    "outputId": "1896f84d-e5ee-460a-fa1f-bb1e4eaaad73"
   },
   "outputs": [
    {
     "name": "stdout",
     "output_type": "stream",
     "text": [
      "/content/runs/detect가 /content/drive/MyDrive/CCTV-People-Dataset로 이동되었습니다.\n"
     ]
    }
   ],
   "source": [
    "# 저장 폴더 이동\n",
    "\n",
    "import shutil\n",
    "\n",
    "source = \"/content/runs/detect\"\n",
    "destination = \"/content/drive/MyDrive/CCTV-People-Dataset\"\n",
    "\n",
    "shutil.move(source, destination)\n",
    "print(f\"{source}가 {destination}로 이동되었습니다.\")"
   ]
  },
  {
   "cell_type": "markdown",
   "metadata": {
    "id": "4PJoIvBIt30D"
   },
   "source": [
    "**평가 지표**\n",
    "\n",
    "현재 데이터셋에 클래스가 하나('person')만 존재하므로, mAP 값과 AP 값은 동일하게 나타남."
   ]
  },
  {
   "cell_type": "code",
   "execution_count": null,
   "metadata": {
    "colab": {
     "base_uri": "https://localhost:8080/",
     "height": 770
    },
    "executionInfo": {
     "elapsed": 635,
     "status": "ok",
     "timestamp": 1733396070081,
     "user": {
      "displayName": "윤여진",
      "userId": "15272112293797387179"
     },
     "user_tz": -540
    },
    "id": "0StC48yD9MB4",
    "outputId": "3f456da1-054c-438f-9c91-c2c933537841"
   },
   "outputs": [
    {
     "name": "stdout",
     "output_type": "stream",
     "text": [
      "  Condition         Precision (P)            Recall (R)     mAP50  mAP50-95\n",
      "0    Severe  [0.8620731346331981]  [0.6608162535941418]  0.784161  0.439010\n",
      "1   Extreme  [0.8440282188684428]  [0.5721352593572414]  0.687874  0.359755\n"
     ]
    },
    {
     "data": {
      "image/png": "[encoded data removed]",
      "text/plain": [
       "<Figure size 1200x800 with 1 Axes>"
      ]
     },
     "metadata": {},
     "output_type": "display_data"
    }
   ],
   "source": [
    "import pandas as pd\n",
    "import matplotlib.pyplot as plt\n",
    "\n",
    "# YOLO 평가 결과에서 메트릭을 추출합니다.\n",
    "def extract_metrics(result):\n",
    "    metrics = {\n",
    "        \"Precision (P)\": result.box.p,  # 단일 값으로 사용\n",
    "        \"Recall (R)\": result.box.r,     # 단일 값으로 사용\n",
    "        \"mAP50\": result.box.map50,      # 단일 값으로 사용\n",
    "        \"mAP50-95\": result.box.map      # 단일 값으로 사용\n",
    "    }\n",
    "    return metrics\n",
    "\n",
    "# 각 결과로부터 메트릭을 추출합니다.\n",
    "metrics_original = extract_metrics(results_original)\n",
    "metrics_moderate = extract_metrics(results_moderate)\n",
    "metrics_severe = extract_metrics(results_severe)\n",
    "metrics_extreme = extract_metrics(results_extreme)\n",
    "\n",
    "# 결과를 데이터프레임에 저장합니다.\n",
    "data = {\n",
    "    \"Condition\": [\"Original\", \"Moderate\", \"Severe\", \"Extreme\"],\n",
    "    \"Precision (P)\": [metrics_original[\"Precision (P)\"], metrics_moderate[\"Precision (P)\"], metrics_severe[\"Precision (P)\"], metrics_extreme[\"Precision (P)\"]],\n",
    "    \"Recall (R)\": [metrics_original[\"Recall (R)\"], metrics_moderate[\"Recall (R)\"], metrics_severe[\"Recall (R)\"], metrics_extreme[\"Recall (R)\"]],\n",
    "    \"mAP50\": [metrics_original[\"mAP50\"], metrics_moderate[\"mAP50\"], metrics_severe[\"mAP50\"], metrics_extreme[\"mAP50\"]],\n",
    "    \"mAP50-95\": [metrics_original[\"mAP50-95\"], metrics_moderate[\"mAP50-95\"], metrics_severe[\"mAP50-95\"], metrics_extreme[\"mAP50-95\"]],\n",
    "}\n",
    "\n",
    "# 데이터프레임 생성\n",
    "df = pd.DataFrame(data)\n",
    "\n",
    "# 결과 출력 (확인용)\n",
    "print(df)\n",
    "\n",
    "# 메트릭 비교를 위한 시각화\n",
    "metrics = [\"Precision (P)\", \"Recall (R)\", \"mAP50\", \"mAP50-95\"]\n",
    "x = df[\"Condition\"]\n",
    "\n",
    "plt.figure(figsize=(12, 8))\n",
    "\n",
    "# 각 메트릭을 플롯으로 그립니다.\n",
    "for metric in metrics:\n",
    "    plt.plot(x, df[metric], marker='o', label=metric)\n",
    "\n",
    "# 라벨 및 제목 설정\n",
    "plt.xlabel(\"Low Brightness Condition\")\n",
    "plt.ylabel(\"Metric Value\")\n",
    "plt.title(\"Comparison of Evaluation Metrics Across Different Low Brightness Conditions\")\n",
    "plt.legend()\n",
    "plt.grid(True)\n",
    "plt.show()"
   ]
  }
 ],
 "metadata": {
  "accelerator": "GPU",
  "colab": {
   "gpuType": "T4",
   "provenance": []
  },
  "kernelspec": {
   "display_name": "Python 3",
   "name": "python3"
  },
  "language_info": {
   "name": "python"
  }
 },
 "nbformat": 4,
 "nbformat_minor": 0
}
