{
  "nbformat": 4,
  "nbformat_minor": 0,
  "metadata": {
    "colab": {
      "provenance": []
    },
    "kernelspec": {
      "name": "python3",
      "display_name": "Python 3"
    },
    "language_info": {
      "name": "python"
    }
  },
  "cells": [
    {
      "cell_type": "code",
      "source": [
        "from google.colab import drive\n",
        "drive.mount('/content/drive')"
      ],
      "metadata": {
        "colab": {
          "base_uri": "https://localhost:8080/"
        },
        "id": "FRVAj-8AqGdu",
        "outputId": "9e103d69-0bba-41e3-caf3-4ea221dfc526"
      },
      "execution_count": null,
      "outputs": [
        {
          "output_type": "stream",
          "name": "stdout",
          "text": [
            "Mounted at /content/drive\n"
          ]
        }
      ]
    },
    {
      "cell_type": "code",
      "execution_count": null,
      "metadata": {
        "colab": {
          "base_uri": "https://localhost:8080/"
        },
        "id": "dnE21M_Eo2yu",
        "outputId": "b35da752-6564-4578-83ac-230d4c649744"
      },
      "outputs": [
        {
          "output_type": "stream",
          "name": "stdout",
          "text": [
            "Collecting roboflow\n",
            "  Downloading roboflow-1.1.49-py3-none-any.whl.metadata (9.7 kB)\n",
            "Requirement already satisfied: certifi in /usr/local/lib/python3.10/dist-packages (from roboflow) (2024.8.30)\n",
            "Collecting idna==3.7 (from roboflow)\n",
            "  Downloading idna-3.7-py3-none-any.whl.metadata (9.9 kB)\n",
            "Requirement already satisfied: cycler in /usr/local/lib/python3.10/dist-packages (from roboflow) (0.12.1)\n",
            "Requirement already satisfied: kiwisolver>=1.3.1 in /usr/local/lib/python3.10/dist-packages (from roboflow) (1.4.7)\n",
            "Requirement already satisfied: matplotlib in /usr/local/lib/python3.10/dist-packages (from roboflow) (3.8.0)\n",
            "Requirement already satisfied: numpy>=1.18.5 in /usr/local/lib/python3.10/dist-packages (from roboflow) (1.26.4)\n",
            "Requirement already satisfied: opencv-python-headless==4.10.0.84 in /usr/local/lib/python3.10/dist-packages (from roboflow) (4.10.0.84)\n",
            "Requirement already satisfied: Pillow>=7.1.2 in /usr/local/lib/python3.10/dist-packages (from roboflow) (11.0.0)\n",
            "Requirement already satisfied: python-dateutil in /usr/local/lib/python3.10/dist-packages (from roboflow) (2.8.2)\n",
            "Collecting python-dotenv (from roboflow)\n",
            "  Downloading python_dotenv-1.0.1-py3-none-any.whl.metadata (23 kB)\n",
            "Requirement already satisfied: requests in /usr/local/lib/python3.10/dist-packages (from roboflow) (2.32.3)\n",
            "Requirement already satisfied: six in /usr/local/lib/python3.10/dist-packages (from roboflow) (1.16.0)\n",
            "Requirement already satisfied: urllib3>=1.26.6 in /usr/local/lib/python3.10/dist-packages (from roboflow) (2.2.3)\n",
            "Requirement already satisfied: tqdm>=4.41.0 in /usr/local/lib/python3.10/dist-packages (from roboflow) (4.66.6)\n",
            "Requirement already satisfied: PyYAML>=5.3.1 in /usr/local/lib/python3.10/dist-packages (from roboflow) (6.0.2)\n",
            "Requirement already satisfied: requests-toolbelt in /usr/local/lib/python3.10/dist-packages (from roboflow) (1.0.0)\n",
            "Collecting filetype (from roboflow)\n",
            "  Downloading filetype-1.2.0-py2.py3-none-any.whl.metadata (6.5 kB)\n",
            "Requirement already satisfied: contourpy>=1.0.1 in /usr/local/lib/python3.10/dist-packages (from matplotlib->roboflow) (1.3.1)\n",
            "Requirement already satisfied: fonttools>=4.22.0 in /usr/local/lib/python3.10/dist-packages (from matplotlib->roboflow) (4.55.0)\n",
            "Requirement already satisfied: packaging>=20.0 in /usr/local/lib/python3.10/dist-packages (from matplotlib->roboflow) (24.2)\n",
            "Requirement already satisfied: pyparsing>=2.3.1 in /usr/local/lib/python3.10/dist-packages (from matplotlib->roboflow) (3.2.0)\n",
            "Requirement already satisfied: charset-normalizer<4,>=2 in /usr/local/lib/python3.10/dist-packages (from requests->roboflow) (3.4.0)\n",
            "Downloading roboflow-1.1.49-py3-none-any.whl (80 kB)\n",
            "\u001b[2K   \u001b[90m━━━━━━━━━━━━━━━━━━━━━━━━━━━━━━━━━━━━━━━━\u001b[0m \u001b[32m80.9/80.9 kB\u001b[0m \u001b[31m4.6 MB/s\u001b[0m eta \u001b[36m0:00:00\u001b[0m\n",
            "\u001b[?25hDownloading idna-3.7-py3-none-any.whl (66 kB)\n",
            "\u001b[2K   \u001b[90m━━━━━━━━━━━━━━━━━━━━━━━━━━━━━━━━━━━━━━━━\u001b[0m \u001b[32m66.8/66.8 kB\u001b[0m \u001b[31m4.5 MB/s\u001b[0m eta \u001b[36m0:00:00\u001b[0m\n",
            "\u001b[?25hDownloading filetype-1.2.0-py2.py3-none-any.whl (19 kB)\n",
            "Downloading python_dotenv-1.0.1-py3-none-any.whl (19 kB)\n",
            "Installing collected packages: filetype, python-dotenv, idna, roboflow\n",
            "  Attempting uninstall: idna\n",
            "    Found existing installation: idna 3.10\n",
            "    Uninstalling idna-3.10:\n",
            "      Successfully uninstalled idna-3.10\n",
            "Successfully installed filetype-1.2.0 idna-3.7 python-dotenv-1.0.1 roboflow-1.1.49\n",
            "loading Roboflow workspace...\n",
            "loading Roboflow project...\n"
          ]
        },
        {
          "output_type": "stream",
          "name": "stderr",
          "text": [
            "Downloading Dataset Version Zip in cctv-people-1 to yolov11:: 100%|██████████| 35347/35347 [00:02<00:00, 15969.49it/s]"
          ]
        },
        {
          "output_type": "stream",
          "name": "stdout",
          "text": [
            "\n"
          ]
        },
        {
          "output_type": "stream",
          "name": "stderr",
          "text": [
            "\n",
            "Extracting Dataset Version Zip to cctv-people-1 in yolov11:: 100%|██████████| 1409/1409 [00:00<00:00, 2279.67it/s]\n"
          ]
        }
      ],
      "source": [
        "!pip install roboflow\n",
        "\n",
        "from roboflow import Roboflow\n",
        "rf = Roboflow(api_key=\"G83iMusx7om9N1sxHXtS\")\n",
        "project = rf.workspace(\"project-wk4fq\").project(\"cctv-people\")\n",
        "version = project.version(1)\n",
        "dataset = version.download(\"yolov11\")"
      ]
    },
    {
      "cell_type": "code",
      "source": [
        "# Google Drive로 데이터셋 이동\n",
        "import shutil\n",
        "\n",
        "drive_path = \"/content/drive/MyDrive/CCTV-People-Dataset\"\n",
        "shutil.move(dataset.location, drive_path)\n",
        "\n",
        "print(f\"Dataset moved to {drive_path}\")"
      ],
      "metadata": {
        "colab": {
          "base_uri": "https://localhost:8080/"
        },
        "id": "3uNgOqDuqeh1",
        "outputId": "9be1ec32-e014-4b45-eaba-2231c3c60986"
      },
      "execution_count": null,
      "outputs": [
        {
          "output_type": "stream",
          "name": "stdout",
          "text": [
            "Dataset moved to /content/drive/MyDrive/CCTV-People-Dataset\n"
          ]
        }
      ]
    },
    {
      "cell_type": "markdown",
      "source": [
        "# **저조도 전처리**"
      ],
      "metadata": {
        "id": "IAOWh2QDsxDu"
      }
    },
    {
      "cell_type": "code",
      "source": [
        "import cv2\n",
        "import os\n",
        "import glob\n",
        "import numpy as np\n",
        "\n",
        "def adjust_brightness_with_noise(input_folder, output_folder, alpha, noise_mean, noise_std):\n",
        "    \"\"\"\n",
        "    저조도 이미지를 생성하기 위해 밝기 감소 및 노이즈를 추가하는 함수.\n",
        "\n",
        "    Parameters:\n",
        "        input_folder (str): 원본 이미지가 저장된 폴더 경로.\n",
        "        output_folder (str): 저조도 이미지를 저장할 폴더 경로.\n",
        "        alpha (float): 밝기 조정 계수 (0.0~1.0, 1.0은 원본 밝기).\n",
        "        noise_mean (float): 노이즈 평균값.\n",
        "        noise_std (float): 노이즈 표준편차.\n",
        "    \"\"\"\n",
        "    if not os.path.exists(output_folder):\n",
        "        os.makedirs(output_folder)\n",
        "\n",
        "    image_paths = glob.glob(os.path.join(input_folder, \"*.*\"))  # 모든 이미지 파일 가져오기\n",
        "\n",
        "    for image_path in image_paths:\n",
        "        # 이미지 읽기\n",
        "        image = cv2.imread(image_path, cv2.IMREAD_COLOR)\n",
        "\n",
        "        if image is None:\n",
        "            print(f\"Failed to read image: {image_path}\")\n",
        "            continue\n",
        "\n",
        "        # 밝기 감소\n",
        "        darkened_image = cv2.convertScaleAbs(image, alpha=alpha)\n",
        "\n",
        "        # 노이즈 추가\n",
        "        noise = np.random.normal(noise_mean, noise_std, darkened_image.shape).astype(np.float32)\n",
        "        noisy_image = darkened_image + noise\n",
        "        noisy_image = np.clip(noisy_image, 0, 255).astype(np.uint8)\n",
        "\n",
        "        # 파일 이름 추출 및 저장 경로 생성\n",
        "        filename = os.path.basename(image_path)\n",
        "        output_path = os.path.join(output_folder, filename)\n",
        "\n",
        "        # 조정된 이미지 저장\n",
        "        cv2.imwrite(output_path, noisy_image)\n",
        "\n",
        "    print(f\"Processed images are saved in: {output_folder}\")"
      ],
      "metadata": {
        "id": "Aj0QCf9hmngJ"
      },
      "execution_count": null,
      "outputs": []
    },
    {
      "cell_type": "markdown",
      "source": [
        "매우 심각한 저조도"
      ],
      "metadata": {
        "id": "-ICzOfFMuDZQ"
      }
    },
    {
      "cell_type": "code",
      "execution_count": null,
      "metadata": {
        "colab": {
          "base_uri": "https://localhost:8080/"
        },
        "id": "DCKQkEMsrqu6",
        "outputId": "caf111fd-3878-4ceb-b7ba-59faf48cae24"
      },
      "outputs": [
        {
          "output_type": "stream",
          "name": "stdout",
          "text": [
            "Processed images are saved in: /content/drive/MyDrive/CCTV-People-Dataset/train/Low_Brightness_Extreme/images\n"
          ]
        }
      ],
      "source": [
        "#train\n",
        "input_folder = \"/content/drive/MyDrive/CCTV-People-Dataset/train/images\"\n",
        "output_folder = \"/content/drive/MyDrive/CCTV-People-Dataset/train/Low_Brightness_Extreme/images\"\n",
        "\n",
        "adjust_brightness_with_noise(input_folder, output_folder, alpha=0.1, noise_mean=0, noise_std=5)"
      ]
    },
    {
      "cell_type": "code",
      "execution_count": null,
      "metadata": {
        "colab": {
          "base_uri": "https://localhost:8080/"
        },
        "outputId": "768f4b20-f00f-43a2-d889-825cd125a10c",
        "id": "xoRknPIP2ELE"
      },
      "outputs": [
        {
          "output_type": "stream",
          "name": "stdout",
          "text": [
            "Processed images are saved in: /content/drive/MyDrive/CCTV-People-Dataset/valid/Low_Brightness_Extreme/images\n"
          ]
        }
      ],
      "source": [
        "#valid\n",
        "input_folder = \"/content/drive/MyDrive/CCTV-People-Dataset/valid/images\"\n",
        "output_folder = \"/content/drive/MyDrive/CCTV-People-Dataset/valid/Low_Brightness_Extreme/images\"\n",
        "\n",
        "adjust_brightness_with_noise(input_folder, output_folder, alpha=0.1, noise_mean=0, noise_std=5)"
      ]
    },
    {
      "cell_type": "markdown",
      "source": [
        "심각한 저조도"
      ],
      "metadata": {
        "id": "j1xe_Dqqt4VF"
      }
    },
    {
      "cell_type": "code",
      "execution_count": null,
      "metadata": {
        "colab": {
          "base_uri": "https://localhost:8080/"
        },
        "id": "vVla8NldsAXv",
        "outputId": "c9f4664a-5b1c-4cbf-f9a9-4fb2987c69a3"
      },
      "outputs": [
        {
          "output_type": "stream",
          "name": "stdout",
          "text": [
            "Processed images are saved in: /content/drive/MyDrive/CCTV-People-Dataset/train/Low_Brightness_Severe/images\n"
          ]
        }
      ],
      "source": [
        "#train\n",
        "input_folder = \"/content/drive/MyDrive/CCTV-People-Dataset/train/images\"\n",
        "output_folder = \"/content/drive/MyDrive/CCTV-People-Dataset/train/Low_Brightness_Severe/images\"\n",
        "\n",
        "adjust_brightness_with_noise(input_folder, output_folder, alpha=0.2, noise_mean=0, noise_std=5)"
      ]
    },
    {
      "cell_type": "code",
      "execution_count": null,
      "metadata": {
        "colab": {
          "base_uri": "https://localhost:8080/"
        },
        "id": "Yan7uzZkt8mB",
        "outputId": "126d2fe2-ff7d-449f-e01b-96ef732876f0"
      },
      "outputs": [
        {
          "output_type": "stream",
          "name": "stdout",
          "text": [
            "Processed images are saved in: /content/drive/MyDrive/CCTV-People-Dataset/valid/Low_Brightness_Severe/images\n"
          ]
        }
      ],
      "source": [
        "#valid\n",
        "input_folder = \"/content/drive/MyDrive/CCTV-People-Dataset/valid/images\"\n",
        "output_folder = \"/content/drive/MyDrive/CCTV-People-Dataset/valid/Low_Brightness_Severe/images\"\n",
        "\n",
        "adjust_brightness_with_noise(input_folder, output_folder, alpha=0.2, noise_mean=0, noise_std=5)"
      ]
    },
    {
      "cell_type": "markdown",
      "source": [
        "중간 저조도\n",
        "CCTV 환경을 가정한 수준"
      ],
      "metadata": {
        "id": "1tE-vBmYtkH4"
      }
    },
    {
      "cell_type": "code",
      "execution_count": null,
      "metadata": {
        "colab": {
          "base_uri": "https://localhost:8080/"
        },
        "id": "6xVcCCDssFWH",
        "outputId": "a5e6b539-9619-4626-8e09-118a0deeed7c"
      },
      "outputs": [
        {
          "output_type": "stream",
          "name": "stdout",
          "text": [
            "Processed images are saved in: /content/drive/MyDrive/CCTV-People-Dataset/train/Low_Brightness_Moderate/images\n"
          ]
        }
      ],
      "source": [
        "#train\n",
        "input_folder = \"/content/drive/MyDrive/CCTV-People-Dataset/train/images\"\n",
        "output_folder = \"/content/drive/MyDrive/CCTV-People-Dataset/train/Low_Brightness_Moderate/images\"\n",
        "\n",
        "adjust_brightness_with_noise(input_folder, output_folder, alpha=0.3, noise_mean=0, noise_std=5)"
      ]
    },
    {
      "cell_type": "code",
      "execution_count": null,
      "metadata": {
        "colab": {
          "base_uri": "https://localhost:8080/"
        },
        "id": "I28gCgI4tiCL",
        "outputId": "0b59e8ce-d711-4854-89e7-1b7c764b459f"
      },
      "outputs": [
        {
          "output_type": "stream",
          "name": "stdout",
          "text": [
            "Processed images are saved in: /content/drive/MyDrive/CCTV-People-Dataset/valid/Low_Brightness_Moderate/images\n"
          ]
        }
      ],
      "source": [
        "#valid\n",
        "input_folder = \"/content/drive/MyDrive/CCTV-People-Dataset/valid/images\"\n",
        "output_folder = \"/content/drive/MyDrive/CCTV-People-Dataset/valid/Low_Brightness_Moderate/images\"\n",
        "\n",
        "adjust_brightness_with_noise(input_folder, output_folder, alpha=0.3, noise_mean=0, noise_std=5)"
      ]
    }
  ]
}