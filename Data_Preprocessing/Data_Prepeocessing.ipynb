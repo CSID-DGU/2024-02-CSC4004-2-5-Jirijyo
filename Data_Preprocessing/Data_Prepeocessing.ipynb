{
 "cells": [
  {
   "cell_type": "code",
   "execution_count": 5,
   "metadata": {
    "colab": {
     "base_uri": "https://localhost:8080/"
    },
    "executionInfo": {
     "elapsed": 7802,
     "status": "ok",
     "timestamp": 1732778782312,
     "user": {
      "displayName": "김윤지",
      "userId": "01699055368622282480"
     },
     "user_tz": -540
    },
    "id": "dnE21M_Eo2yu",
    "outputId": "7170f8db-4aff-4059-860b-cc004e61bf48"
   },
   "outputs": [
    {
     "name": "stdout",
     "output_type": "stream",
     "text": [
      "loading Roboflow workspace...\n",
      "loading Roboflow project...\n"
     ]
    },
    {
     "name": "stderr",
     "output_type": "stream",
     "text": [
      "Downloading Dataset Version Zip in cctv-people-1 to yolov11:: 100%|████████████| 35347/35347 [00:06<00:00, 5508.01it/s]"
     ]
    },
    {
     "name": "stdout",
     "output_type": "stream",
     "text": [
      "\n"
     ]
    },
    {
     "name": "stderr",
     "output_type": "stream",
     "text": [
      "\n",
      "Extracting Dataset Version Zip to cctv-people-1 in yolov11:: 100%|███████████████| 1409/1409 [00:00<00:00, 1713.10it/s]\n"
     ]
    }
   ],
   "source": [
    "from roboflow import Roboflow\n",
    "rf = Roboflow(api_key=\"G83iMusx7om9N1sxHXtS\")\n",
    "project = rf.workspace(\"project-wk4fq\").project(\"cctv-people\")\n",
    "version = project.version(1)\n",
    "dataset = version.download(\"yolov11\")"
   ]
  },
  {
   "cell_type": "markdown",
   "metadata": {
    "id": "IAOWh2QDsxDu"
   },
   "source": [
    "# **저조도 전처리**"
   ]
  },
  {
   "cell_type": "code",
   "execution_count": 33,
   "metadata": {
    "executionInfo": {
     "elapsed": 323,
     "status": "ok",
     "timestamp": 1732864825122,
     "user": {
      "displayName": "김윤지",
      "userId": "01699055368622282480"
     },
     "user_tz": -540
    },
    "id": "bhzKZtypq2Hl"
   },
   "outputs": [],
   "source": [
    "import cv2\n",
    "import os\n",
    "import glob\n",
    "\n",
    "def adjust_brightness(input_folder, output_folder, beta):\n",
    "    \"\"\"\n",
    "    조도를 낮추기 위해 밝기와 대비를 조정하는 함수.\n",
    "\n",
    "    Parameters:\n",
    "        input_folder (str): 원본 이미지가 저장된 폴더 경로.\n",
    "        output_folder (str): 조도를 낮춘 이미지를 저장할 폴더 경로.\n",
    "        alpha (float): 대비 조정 계수 (1.0 이하로 설정하면 대비 감소).\n",
    "        beta (int): 밝기 조정 계수 (음수로 설정하면 어두워짐).\n",
    "    \"\"\"\n",
    "    if not os.path.exists(output_folder):\n",
    "        os.makedirs(output_folder)\n",
    "\n",
    "    image_paths = glob.glob(os.path.join(input_folder, \"*.*\"))  # 모든 이미지 파일 가져오기\n",
    "\n",
    "    for image_path in image_paths:\n",
    "        # 이미지 읽기\n",
    "        image = cv2.imread(image_path, cv2.IMREAD_GRAYSCALE)\n",
    "\n",
    "        # 밝기 조정 (최소값 0으로 제한)\n",
    "        adjusted_image = cv2.add(image, beta) if beta > 0 else cv2.subtract(image, -beta)\n",
    "\n",
    "        # 파일 이름 추출 및 저장 경로 생성\n",
    "        filename = os.path.basename(image_path)\n",
    "        output_path = os.path.join(output_folder, filename)\n",
    "\n",
    "        # 조정된 이미지 저장\n",
    "        cv2.imwrite(output_path, adjusted_image)\n",
    "\n",
    "    print(f\"Processed images are saved in: {output_folder}\")"
   ]
  },
  {
   "cell_type": "code",
   "execution_count": 39,
   "metadata": {
    "colab": {
     "base_uri": "https://localhost:8080/"
    },
    "executionInfo": {
     "elapsed": 13453,
     "status": "ok",
     "timestamp": 1732779444998,
     "user": {
      "displayName": "김윤지",
      "userId": "01699055368622282480"
     },
     "user_tz": -540
    },
    "id": "6xVcCCDssFWH",
    "outputId": "f3f931f4-50a0-4995-cdcb-3dafc1192ebe"
   },
   "outputs": [
    {
     "name": "stdout",
     "output_type": "stream",
     "text": [
      "Processed images are saved in: C:\\Users\\yeoch\\CSC4004\\cctv-people-1\\train\\Low_Brightness_Moderate/images\n"
     ]
    }
   ],
   "source": [
    "# train_Moderate\n",
    "input_folder = r\"C:\\Users\\yeoch\\CSC4004\\cctv-people-1\\train\\images\"\n",
    "output_folder = r\"C:\\Users\\yeoch\\CSC4004\\cctv-people-1\\train\\Low_Brightness_Moderate/images\"\n",
    "\n",
    "adjust_brightness(input_folder, output_folder, beta=-100)"
   ]
  },
  {
   "cell_type": "code",
   "execution_count": 41,
   "metadata": {},
   "outputs": [
    {
     "name": "stdout",
     "output_type": "stream",
     "text": [
      "Processed images are saved in: C:\\Users\\yeoch\\CSC4004\\cctv-people-1\\valid\\Low_Brightness_Moderate/images\n"
     ]
    }
   ],
   "source": [
    "# valid_Moderate\n",
    "input_folder = r\"C:\\Users\\yeoch\\CSC4004\\cctv-people-1\\valid\\images\"\n",
    "output_folder = r\"C:\\Users\\yeoch\\CSC4004\\cctv-people-1\\valid\\Low_Brightness_Moderate/images\"\n",
    "\n",
    "adjust_brightness(input_folder, output_folder, beta=-100)"
   ]
  },
  {
   "cell_type": "code",
   "execution_count": 43,
   "metadata": {
    "colab": {
     "base_uri": "https://localhost:8080/"
    },
    "executionInfo": {
     "elapsed": 21033,
     "status": "ok",
     "timestamp": 1732864848683,
     "user": {
      "displayName": "김윤지",
      "userId": "01699055368622282480"
     },
     "user_tz": -540
    },
    "id": "DCKQkEMsrqu6",
    "outputId": "c4c4745d-440e-47fe-a1e6-c01949b66cd1"
   },
   "outputs": [
    {
     "name": "stdout",
     "output_type": "stream",
     "text": [
      "Processed images are saved in: C:\\Users\\yeoch\\CSC4004\\cctv-people-1\\train\\Low_Brightness_Severe/images\n"
     ]
    }
   ],
   "source": [
    "# train_Severe\n",
    "input_folder = r\"C:\\Users\\yeoch\\CSC4004\\cctv-people-1\\train\\images\"\n",
    "output_folder = r\"C:\\Users\\yeoch\\CSC4004\\cctv-people-1\\train\\Low_Brightness_Severe/images\"\n",
    "\n",
    "adjust_brightness(input_folder, output_folder, beta=-150)"
   ]
  },
  {
   "cell_type": "code",
   "execution_count": 45,
   "metadata": {
    "colab": {
     "base_uri": "https://localhost:8080/"
    },
    "executionInfo": {
     "elapsed": 8294,
     "status": "ok",
     "timestamp": 1732820200235,
     "user": {
      "displayName": "김윤지",
      "userId": "01699055368622282480"
     },
     "user_tz": -540
    },
    "id": "TMnhc-wiuG4g",
    "outputId": "dc97c2a7-04b9-4d3c-e5f3-27521dc1890e"
   },
   "outputs": [
    {
     "name": "stdout",
     "output_type": "stream",
     "text": [
      "Processed images are saved in: C:\\Users\\yeoch\\CSC4004\\cctv-people-1\\valid\\Low_Brightness_Severe/images\n"
     ]
    }
   ],
   "source": [
    "# valid_Severe\n",
    "input_folder = r\"C:\\Users\\yeoch\\CSC4004\\cctv-people-1\\valid\\images\"\n",
    "output_folder = r\"C:\\Users\\yeoch\\CSC4004\\cctv-people-1\\valid\\Low_Brightness_Severe/images\"\n",
    "\n",
    "adjust_brightness(input_folder, output_folder, beta=-150)"
   ]
  },
  {
   "cell_type": "code",
   "execution_count": 47,
   "metadata": {
    "colab": {
     "base_uri": "https://localhost:8080/"
    },
    "executionInfo": {
     "elapsed": 10039,
     "status": "ok",
     "timestamp": 1732864862963,
     "user": {
      "displayName": "김윤지",
      "userId": "01699055368622282480"
     },
     "user_tz": -540
    },
    "id": "vVla8NldsAXv",
    "outputId": "d85ad3bb-5afa-412e-ca38-66c916644a42"
   },
   "outputs": [
    {
     "name": "stdout",
     "output_type": "stream",
     "text": [
      "Processed images are saved in: C:\\Users\\yeoch\\CSC4004\\cctv-people-1\\train\\Low_Brightness_Extreme/images\n"
     ]
    }
   ],
   "source": [
    "# train_Extreme\n",
    "input_folder = r\"C:\\Users\\yeoch\\CSC4004\\cctv-people-1\\train\\images\"\n",
    "output_folder = r\"C:\\Users\\yeoch\\CSC4004\\cctv-people-1\\train\\Low_Brightness_Extreme/images\"\n",
    "\n",
    "adjust_brightness(input_folder, output_folder, beta=-200)"
   ]
  },
  {
   "cell_type": "code",
   "execution_count": 49,
   "metadata": {
    "colab": {
     "base_uri": "https://localhost:8080/"
    },
    "executionInfo": {
     "elapsed": 5819,
     "status": "ok",
     "timestamp": 1732820208496,
     "user": {
      "displayName": "김윤지",
      "userId": "01699055368622282480"
     },
     "user_tz": -540
    },
    "id": "Yan7uzZkt8mB",
    "outputId": "cb0246de-0c72-40a1-94d3-3f1248d43b28"
   },
   "outputs": [
    {
     "name": "stdout",
     "output_type": "stream",
     "text": [
      "Processed images are saved in: C:\\Users\\yeoch\\CSC4004\\cctv-people-1\\valid\\Low_Brightness_Extreme/images\n"
     ]
    }
   ],
   "source": [
    "# valid_Extreme\n",
    "input_folder = r\"C:\\Users\\yeoch\\CSC4004\\cctv-people-1\\valid\\images\"\n",
    "output_folder = r\"C:\\Users\\yeoch\\CSC4004\\cctv-people-1\\valid\\Low_Brightness_Extreme/images\"\n",
    "\n",
    "adjust_brightness(input_folder, output_folder, beta=-200)"
   ]
  }
 ],
 "metadata": {
  "accelerator": "GPU",
  "colab": {
   "authorship_tag": "ABX9TyM2QM8ZmcnTAWAStv4JziWw",
   "gpuType": "T4",
   "provenance": []
  },
  "kernelspec": {
   "display_name": "Python (YOLO_env)",
   "language": "python",
   "name": "yolo_env"
  },
  "language_info": {
   "codemirror_mode": {
    "name": "ipython",
    "version": 3
   },
   "file_extension": ".py",
   "mimetype": "text/x-python",
   "name": "python",
   "nbconvert_exporter": "python",
   "pygments_lexer": "ipython3",
   "version": "3.8.18"
  }
 },
 "nbformat": 4,
 "nbformat_minor": 4
}
